{
 "cells": [
  {
   "cell_type": "markdown",
   "id": "general-leadership",
   "metadata": {},
   "source": [
    "# <font color='navy'><center>Evaluación Data Science</center></font>"
   ]
  },
  {
   "cell_type": "markdown",
   "id": "prescribed-pacific",
   "metadata": {},
   "source": [
    "Se le asigna como tarea realizar un modelo que determine si un usuario de MercadoPago (MP) Argentina volverá a transaccionar en los próximos 2 meses. Para ello se cuenta con los siguientes archivos:"
   ]
  },
  {
   "cell_type": "markdown",
   "id": "technical-college",
   "metadata": {},
   "source": [
    "* **PAYMENTS.csv:** Contiene datos transaccionales de MP que se hayan realizado en los últimos 6 meses. Este está sólo limitado al segmento Wallet (todos los pagos que se realicen con billetera virtual).\n",
    "    * FECHA: Fecha en que se realizó exitosamente la transacción.\n",
    "    * CUS_CUST_ID_SEL: ID del seller.\n",
    "    * CUS_CUST_ID_BUY: ID del buyer.\n",
    "    * SPENT: Dinero gastado en la transacción.\n",
    "    * TPV_SEGMENT_DETAIL: Flujo que usó el usuario (Instore = QR, Transport = SUBE, Utilities = Pago de servicios, money transfer, Cellphone recharge).\n",
    "    * DESCUENTO: Descuento que MP le otorgó en esa transacción.\n",
    "\n",
    "\n",
    "* **ACTIVE_USER.csv:** Contiene datos de las visitas a la APP.\n",
    "    * CUS_CUST_ID_BUY: ID del buyer.\n",
    "    * MAU_MP_1: Cantidad de veces el usuario entró a la APP  de MP (azul) en el último mes de entrenamiento (mes -1).\n",
    "    * MAU_ML_1: Cantidad de veces el usuario entró a la APP  de ML (amarilla) en el último mes de entrenamiento (mes -1).\n",
    "    * MAU_ML_2: Cantidad de veces el usuario entró a la APP  de ML (amarilla) en el mes -2 de entrenamiento.\n",
    "    * last_login_mp_date_1: Fecha del último login del mes en APP MP.\n",
    "\n",
    "\n",
    "* **DEMOGRAFICOS.csv:** Contiene datos de la edad, sexo, tarjeta que usa y lugar de residencia.\n",
    "\n",
    "\n",
    "* **DINERO_CUENTA.csv:** Contiene datos de la cantidad de dinero en la cuenta y si invierte en fondo.\n",
    "    * PLATA_CUENTA_1: Máximo dinero en cuenta en el último mes (mes -1).\n",
    "    * PLATA_CUENTA_2: Máximo dinero en cuenta en el mes -2.\n",
    "    * INVERSION: Indica en que estado esta el usuario para la inversión:\n",
    "        * Investing: Está invirtiendo.\n",
    "        * Elegible: Está disponible para que inviertan dinero.\n",
    "        * Warmup: Hicieron el onboarding de inversión pero no llenaron los campos.\n",
    "        * Pending: Hicieron el proceso para invertir, pero está en pending de aprobación.\n",
    "\n",
    "\n",
    "* **MARKETPLACE_DATA.csv:** Contiene un resumen a nivel usuario de movimientos en mercadolibre (ML) para los últimos 6 meses.\n",
    "    * SPENT_ML: Dinero gastado en ML.\n",
    "    * RECENCY_ML: Fecha de la ultimo compra en ML.\n",
    "    * FREQUENCY_ML: Cantidad de días que realizó compras."
   ]
  },
  {
   "cell_type": "markdown",
   "id": "completed-drove",
   "metadata": {},
   "source": [
    "### Consideraciones para la entrega"
   ]
  },
  {
   "cell_type": "markdown",
   "id": "initial-despite",
   "metadata": {},
   "source": [
    "Todos los datasets contienen el **CUS_CUST_ID_BUY** mediante el cual se joinean.\n",
    "Para entrenar, use el archivo **EVALUATE.csv.** Tome el criterio que crea conveniente para entrenar y evaluar el modelo."
   ]
  },
  {
   "cell_type": "markdown",
   "id": "preliminary-assignment",
   "metadata": {},
   "source": [
    "***\n",
    "¿Qué información extra consideraría o qué features generaría, si pudiera, para mejorar el modelo?\n",
    "***"
   ]
  },
  {
   "cell_type": "markdown",
   "id": "minus-cincinnati",
   "metadata": {},
   "source": [
    "A continuacion presento un breve  resumen de las 2 notebooks en las cuales trabaje para este desafio.\n",
    "En la primera notebook revise los datos, los limpie y agrege features e informacion de relevancia.\n",
    "En la segunda notebook entrene el modelo."
   ]
  },
  {
   "cell_type": "markdown",
   "id": "cardiovascular-dover",
   "metadata": {},
   "source": [
    "# Notebook 1_ProcessData"
   ]
  },
  {
   "cell_type": "markdown",
   "id": "heard-mainstream",
   "metadata": {},
   "source": [
    "### Data Demographics"
   ]
  },
  {
   "cell_type": "markdown",
   "id": "informal-freight",
   "metadata": {},
   "source": [
    "En este dataset use un par de regex para limpiar los rangos etarios, asi como unir caba y capital federal en al feature CITY. Rellene los pocos nulls que habia de distintas formas de aceurdo a la feature."
   ]
  },
  {
   "cell_type": "markdown",
   "id": "sound-content",
   "metadata": {},
   "source": [
    "<img src=\"img/capture 1.PNG\" alt=\"Drawing\"/>"
   ]
  },
  {
   "cell_type": "markdown",
   "id": "favorite-threat",
   "metadata": {},
   "source": [
    "<img src=\"img/capture 2.PNG\" alt=\"Drawing\"/>"
   ]
  },
  {
   "cell_type": "markdown",
   "id": "funny-cemetery",
   "metadata": {},
   "source": [
    "<img src=\"img/capture 3.PNG\" alt=\"Drawing\"/>"
   ]
  },
  {
   "cell_type": "markdown",
   "id": "widespread-consciousness",
   "metadata": {},
   "source": [
    "### Payments Dataset"
   ]
  },
  {
   "cell_type": "markdown",
   "id": "charitable-attendance",
   "metadata": {},
   "source": [
    "De este dataset saque un par de features interesantes. El total que gasto en los ultimos 7 meses, el total de transaciones, cuantas transacciones hizo por mes, \n",
    "el promedio de descuento que obtuve en sus compras. Algo interesante es que la mayoria de gente le compro a los mismos 4 sellers, entonces puse como feature si le \n",
    "habian comprado a alguno de estos 4. Tambien saque 4 columnas correspondientes a los tipos de gastos que hacen, ya que peude ser que los tipos de gastos esten asociados\n",
    "a al concurrencia de los clientes. Algo interesante seria añadir dias de descuentos masivos al estilo Black Friday, o dias festivos que la gente suele regalar cosas. \n",
    "Puede ser que una persona paresca que se va a ir de la aplicacion, pero en realidad esta persona solo gasta en dias de descuento y dias festivos, entonces la epoca en la cual\n",
    "se adquiere la data de dicha persona afecta mucho"
   ]
  },
  {
   "cell_type": "markdown",
   "id": "destroyed-operation",
   "metadata": {},
   "source": [
    "<img src=\"img/capture 4.PNG\" alt=\"Drawing\"/>"
   ]
  },
  {
   "cell_type": "markdown",
   "id": "extended-repository",
   "metadata": {},
   "source": [
    "<img src=\"img/capture 5.PNG\" alt=\"Drawing\"/>"
   ]
  },
  {
   "cell_type": "code",
   "execution_count": 6,
   "id": "sufficient-latin",
   "metadata": {},
   "outputs": [],
   "source": [
    "#el x_trans es la cantidad de transacciones que realizo ese mes\n",
    "# el sell_id_xxx es si el tipo le compro o no a los 4 que mas le compra la gente"
   ]
  },
  {
   "cell_type": "markdown",
   "id": "offshore-bidder",
   "metadata": {},
   "source": [
    "### MarketPlace y Active User"
   ]
  },
  {
   "cell_type": "markdown",
   "id": "extreme-exhaust",
   "metadata": {},
   "source": [
    "estos dos datasets fueron mas de rellenar datos faltantes con distintas tecnicas. Dependiendo el caso se uso la media, la moda o la mediana. En algunos casos como las fechas faltantes samplee de una distribución usando la priori de lso datos."
   ]
  },
  {
   "cell_type": "markdown",
   "id": "iraqi-barrel",
   "metadata": {},
   "source": [
    "<img src=\"img/capture 6.PNG\" alt=\"Drawing\"/>"
   ]
  },
  {
   "cell_type": "markdown",
   "id": "talented-twins",
   "metadata": {},
   "source": [
    "<img src=\"img/capture 6.5.PNG\" alt=\"Drawing\"/>"
   ]
  },
  {
   "cell_type": "markdown",
   "id": "looking-financing",
   "metadata": {},
   "source": [
    "<img src=\"img/capture 7.PNG\" alt=\"Drawing\"/>"
   ]
  },
  {
   "cell_type": "markdown",
   "id": "needed-diagram",
   "metadata": {},
   "source": [
    "### Por ultimo exporte el dataset final raw, asi como tambien con el label encoder y estandarizado para el modelo de la notebook 2"
   ]
  },
  {
   "cell_type": "markdown",
   "id": "correct-interaction",
   "metadata": {},
   "source": [
    "<img src=\"img/capture 8.PNG\" alt=\"Drawing\"/>"
   ]
  },
  {
   "cell_type": "markdown",
   "id": "integral-cambridge",
   "metadata": {},
   "source": [
    "<img src=\"img/capture 8.PNG\" alt=\"Drawing\"/>"
   ]
  },
  {
   "cell_type": "markdown",
   "id": "mediterranean-climb",
   "metadata": {},
   "source": [
    "# NoteBook 2: Modelo"
   ]
  },
  {
   "cell_type": "markdown",
   "id": "greenhouse-connectivity",
   "metadata": {},
   "source": [
    "Bueno, primero comento que modelo utilize y despues un poco de que cosas hubieran estado buenas probar"
   ]
  },
  {
   "cell_type": "markdown",
   "id": "marked-spectacular",
   "metadata": {},
   "source": [
    "El plan es el siguiente:\n",
    "                    "
   ]
  },
  {
   "cell_type": "markdown",
   "id": "inappropriate-creator",
   "metadata": {},
   "source": [
    "### Clustering"
   ]
  },
  {
   "cell_type": "markdown",
   "id": "sonic-apollo",
   "metadata": {},
   "source": [
    "Primero que nada quise agregar varias features mas basadas en alguna tecnica de clustering. A que clsuter pertenecen, el centroide del clsuter, la distancia al centro del cluster, etc. Solo utilize a que clsuter pertenecian. Por ahi hubiera estado bueno haber probado con mas features. Utilize un Self-Organazing-Map para realizar el clsutering. [Paper SOM](./Review-of-SOM.pdf)."
   ]
  },
  {
   "cell_type": "markdown",
   "id": "minute-undergraduate",
   "metadata": {},
   "source": [
    "<img src=\"img/Capture 12.PNG\" alt=\"Drawing\"/>"
   ]
  },
  {
   "cell_type": "markdown",
   "id": "known-redhead",
   "metadata": {},
   "source": [
    "<img src=\"img/Capture 11.PNG\" alt=\"Drawing\"/>"
   ]
  },
  {
   "cell_type": "markdown",
   "id": "improved-orlando",
   "metadata": {},
   "source": [
    "8 Clusters con las proporciones de churn. Entrene el SOM sin supervision, podria haberlo entrenado de forma supervisada con los datos de Evaluate. Podria ser otra cosa que probar"
   ]
  },
  {
   "cell_type": "markdown",
   "id": "distant-david",
   "metadata": {},
   "source": [
    "### Idea de modelo"
   ]
  },
  {
   "cell_type": "markdown",
   "id": "demanding-discount",
   "metadata": {},
   "source": [
    "Mi idea era la siguiente. Entrenar un emmbeding en los datos, prederi sobre los mismos y esa prediccion usarla para entrenar distintos arboles.\n",
    "La idea era entrenar un par de modelos, y luego hacer un promedio de las probabilidades de cada modelo. Como es un promedio, si un modelo tiene pred = 1 y otro pred = 0.5, \n",
    "el de pred = 1 tiene mas peso, cosa que es bueno por que el modelo esta mas seguro. En este caso solo entrene 1 modelo pero la idea se entiende mas o menos.  "
   ]
  },
  {
   "cell_type": "markdown",
   "id": "charitable-sweden",
   "metadata": {},
   "source": [
    "[Paper Embedding](./Entity-Embeddings-of-Categorical-Variables.pdf)."
   ]
  },
  {
   "cell_type": "markdown",
   "id": "assigned-circle",
   "metadata": {},
   "source": [
    "<img src=\"img/Capture  10.png\" alt=\"Drawing\"/>"
   ]
  },
  {
   "cell_type": "markdown",
   "id": "supposed-printer",
   "metadata": {},
   "source": [
    "### Embedding"
   ]
  },
  {
   "cell_type": "markdown",
   "id": "floating-paris",
   "metadata": {},
   "source": [
    "<img src=\"img/Capture 13.png\" alt=\"Drawing\"/>"
   ]
  },
  {
   "cell_type": "markdown",
   "id": "speaking-trailer",
   "metadata": {},
   "source": [
    "<img src=\"img/Capture 14.png\" alt=\"Drawing\"/>"
   ]
  },
  {
   "cell_type": "markdown",
   "id": "north-academy",
   "metadata": {},
   "source": [
    "<img src=\"img/Capture 15.png\" alt=\"Drawing\"/>"
   ]
  },
  {
   "cell_type": "markdown",
   "id": "graduate-china",
   "metadata": {},
   "source": [
    "## LGBM CON BUSQUEDA BAYESIANA"
   ]
  },
  {
   "cell_type": "markdown",
   "id": "ecological-absolute",
   "metadata": {},
   "source": [
    "<img src=\"img/Capture 16.png\" alt=\"Drawing\"/>"
   ]
  },
  {
   "cell_type": "markdown",
   "id": "foster-notion",
   "metadata": {},
   "source": [
    "<img src=\"img/Capture 17.png\" alt=\"Drawing\"/>"
   ]
  },
  {
   "cell_type": "markdown",
   "id": "expanded-insulation",
   "metadata": {},
   "source": [
    "<img src=\"img/Capture 17.5.png\" alt=\"Drawing\"/>"
   ]
  },
  {
   "cell_type": "markdown",
   "id": "speaking-clause",
   "metadata": {},
   "source": [
    "Hay un poco de overfitting. Tendria que bajar los estimators, bajarle al max depth o por ahi subir el learning rate y explorar un poco por ahi. \\\n",
    "El f2score no dio tan mal, y los datos no estan tan desbalanceados"
   ]
  },
  {
   "cell_type": "markdown",
   "id": "recorded-hormone",
   "metadata": {},
   "source": [
    "### Analisis del modelo"
   ]
  },
  {
   "cell_type": "markdown",
   "id": "peaceful-million",
   "metadata": {},
   "source": [
    "Distintas metricas en base al threshold. En este problema entiendo que me gustaria meterle un poco mas al recall, ya que prefiero encontrar al que va a churn y si agarro a alguno que no se iba a ir pero mi modelo predice que si no es tan importante"
   ]
  },
  {
   "cell_type": "markdown",
   "id": "norman-prison",
   "metadata": {},
   "source": [
    "<img src=\"img/Capture 18.png\" alt=\"Drawing\"/>"
   ]
  },
  {
   "cell_type": "markdown",
   "id": "received-symposium",
   "metadata": {},
   "source": [
    "Confusion matrix con threshold en 0.5\n",
    "<img src=\"img/Capture 19.png\" alt=\"Drawing\"/>"
   ]
  },
  {
   "cell_type": "markdown",
   "id": "studied-player",
   "metadata": {},
   "source": [
    "Logg Odds de la prediccion. El accuracy se maximiza en threshold 0.5 (es decir el 0 en el grafico)\n",
    "<img src=\"img/Capture 20.png\" alt=\"Drawing\"/>"
   ]
  },
  {
   "cell_type": "markdown",
   "id": "electoral-prototype",
   "metadata": {},
   "source": [
    "Probabilidades de las predicciones. Se puede observar que el modelo esta bastante seguro de las predicciones que genera. No se si es tan bueno, ya que no estar tan seguro puede \n",
    "ser mejor a la hora de generalizar. Ademas prefiero que me diga que una persona tiene 0.7% de chance de irse, que me diga 0.99%\n",
    "<img src=\"img/Capture 21.png\" alt=\"Drawing\"/>"
   ]
  },
  {
   "cell_type": "markdown",
   "id": "ambient-belize",
   "metadata": {},
   "source": [
    "Finalmente un grafico de feature importance del modelo. Se puede observar que la cantidad de dinero que gastaron, el promedio de descuento y la ciudad a al que pertenecen influye mucho en la clasificacion.\n",
    "\n",
    "\n",
    "<img src=\"img/Capture 22.png\" alt=\"Drawing\"/>"
   ]
  },
  {
   "cell_type": "markdown",
   "id": "disabled-collective",
   "metadata": {},
   "source": [
    "Habia un par de modelos que probar. Estuve leyendo un paper que usaba embeddings a la entrada y a la salida de una red neuronal. Otros usaban CNN para problemas de churn en problemas de retail y de e-commerce. Hay un par de ideas, pero tampoco da la data como para probar cosas tan potentes. Usar un lgbm en 45k datos ya es una salvajada, pero bueno."
   ]
  }
 ],
 "metadata": {
  "kernelspec": {
   "display_name": "Python 3",
   "language": "python",
   "name": "python3"
  },
  "language_info": {
   "codemirror_mode": {
    "name": "ipython",
    "version": 3
   },
   "file_extension": ".py",
   "mimetype": "text/x-python",
   "name": "python",
   "nbconvert_exporter": "python",
   "pygments_lexer": "ipython3",
   "version": "3.7.10"
  }
 },
 "nbformat": 4,
 "nbformat_minor": 5
}
