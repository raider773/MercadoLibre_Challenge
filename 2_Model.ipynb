{
 "cells": [
  {
   "cell_type": "code",
   "execution_count": null,
   "id": "northern-credits",
   "metadata": {},
   "outputs": [],
   "source": [
    "#ok ideas\n",
    "\n",
    "#kmeans o SOM para agregar cluster como feature. fijate si algun clsuter tiene mas churn que otros por ahi eso sirve\n",
    "#embeddings + lgbm/random forest/xgboost/etc.\n",
    "#usar embeddings y de ahi separas en varios modelos. desp promedia los modelos, total promedias con la probabilidad asi que los pesos se ponen solos\n",
    "\n",
    "#si el primer modelo da mas o menos bien dejalo asi y fue. es para mostrar como lo haces no para entrenar 17 modelos y hypertunear todos\n",
    "\n",
    "#esta bueno ese modelo del paper con redes pero 45k datos me quedo muy chico. Es mas una reg logistica iria de 10 pero bueno."
   ]
  },
  {
   "cell_type": "markdown",
   "id": "patient-chance",
   "metadata": {},
   "source": [
    "# SOM \n",
    "\n",
    "Adding winning neurons as clusters as an extra feature"
   ]
  },
  {
   "cell_type": "code",
   "execution_count": 1,
   "id": "coordinated-vertex",
   "metadata": {},
   "outputs": [],
   "source": [
    "import pandas as pd\n",
    "import numpy as np\n",
    "import matplotlib.pyplot as plt\n",
    "import seaborn as sns\n",
    "from minisom import MiniSom\n",
    "from pandas_summary import DataFrameSummary"
   ]
  },
  {
   "cell_type": "code",
   "execution_count": 2,
   "id": "numerical-overhead",
   "metadata": {},
   "outputs": [],
   "source": [
    "data = pd.read_csv('Data_Model.csv')"
   ]
  },
  {
   "cell_type": "code",
   "execution_count": 3,
   "id": "after-wallace",
   "metadata": {},
   "outputs": [],
   "source": [
    "data.drop(columns = ['Unnamed: 0','CUS_CUST_ID_BUY'],inplace = True)"
   ]
  },
  {
   "cell_type": "code",
   "execution_count": 4,
   "id": "empty-isolation",
   "metadata": {},
   "outputs": [],
   "source": [
    "som = MiniSom(3, 3, data.shape[1] - 1, sigma=.5, learning_rate=.5,\n",
    "              neighborhood_function='gaussian')"
   ]
  },
  {
   "cell_type": "code",
   "execution_count": 5,
   "id": "statutory-script",
   "metadata": {},
   "outputs": [
    {
     "name": "stdout",
     "output_type": "stream",
     "text": [
      " [ 500 / 500 ] 100% - 0:00:00 left \n",
      " quantization error: 87.23800219850217\n"
     ]
    }
   ],
   "source": [
    "som.train_batch(data.drop(columns = 'churn').values, 500, verbose=True)"
   ]
  },
  {
   "cell_type": "code",
   "execution_count": 6,
   "id": "olympic-marker",
   "metadata": {},
   "outputs": [],
   "source": [
    "winner_coordinates = np.array([som.winner(x) for x in data.drop(columns = 'churn').values]).T"
   ]
  },
  {
   "cell_type": "code",
   "execution_count": 7,
   "id": "relative-portrait",
   "metadata": {},
   "outputs": [],
   "source": [
    "cluster_index = np.ravel_multi_index(winner_coordinates, (3,3))"
   ]
  },
  {
   "cell_type": "code",
   "execution_count": 8,
   "id": "coral-reserve",
   "metadata": {},
   "outputs": [],
   "source": [
    "data['Som_Cluster'] = cluster_index"
   ]
  },
  {
   "cell_type": "code",
   "execution_count": 9,
   "id": "portuguese-damages",
   "metadata": {},
   "outputs": [
    {
     "data": {
      "text/plain": [
       "6    13563\n",
       "3     6874\n",
       "1     5702\n",
       "2     5584\n",
       "0     4013\n",
       "5     2837\n",
       "4     2723\n",
       "8     1106\n",
       "7     1100\n",
       "Name: Som_Cluster, dtype: int64"
      ]
     },
     "execution_count": 9,
     "metadata": {},
     "output_type": "execute_result"
    }
   ],
   "source": [
    "data['Som_Cluster'].value_counts()"
   ]
  },
  {
   "cell_type": "code",
   "execution_count": 10,
   "id": "stuffed-overall",
   "metadata": {},
   "outputs": [],
   "source": [
    "r = data[['Som_Cluster','churn']]"
   ]
  },
  {
   "cell_type": "code",
   "execution_count": 11,
   "id": "bridal-mapping",
   "metadata": {},
   "outputs": [
    {
     "name": "stdout",
     "output_type": "stream",
     "text": [
      "Cluster0\n",
      "1.0    0.674807\n",
      "0.0    0.325193\n",
      "Name: churn, dtype: float64\n",
      "Cluster1\n",
      "1.0    0.657839\n",
      "0.0    0.342161\n",
      "Name: churn, dtype: float64\n",
      "Cluster2\n",
      "1.0    0.668875\n",
      "0.0    0.331125\n",
      "Name: churn, dtype: float64\n",
      "Cluster3\n",
      "1.0    0.723014\n",
      "0.0    0.276986\n",
      "Name: churn, dtype: float64\n",
      "Cluster4\n",
      "1.0    0.671686\n",
      "0.0    0.328314\n",
      "Name: churn, dtype: float64\n",
      "Cluster5\n",
      "1.0    0.649277\n",
      "0.0    0.350723\n",
      "Name: churn, dtype: float64\n",
      "Cluster6\n",
      "1.0    0.560201\n",
      "0.0    0.439799\n",
      "Name: churn, dtype: float64\n",
      "Cluster7\n",
      "1.0    0.653636\n",
      "0.0    0.346364\n",
      "Name: churn, dtype: float64\n",
      "Cluster8\n",
      "1.0    0.678119\n",
      "0.0    0.321881\n",
      "Name: churn, dtype: float64\n"
     ]
    }
   ],
   "source": [
    "for x in range (9):\n",
    "    print('Cluster' + str(x))\n",
    "    print(r[r.Som_Cluster == x].churn.value_counts()/r[r.Som_Cluster == x].churn.value_counts().sum()) "
   ]
  },
  {
   "cell_type": "code",
   "execution_count": 12,
   "id": "second-rescue",
   "metadata": {},
   "outputs": [
    {
     "data": {
      "text/html": [
       "<div>\n",
       "<style scoped>\n",
       "    .dataframe tbody tr th:only-of-type {\n",
       "        vertical-align: middle;\n",
       "    }\n",
       "\n",
       "    .dataframe tbody tr th {\n",
       "        vertical-align: top;\n",
       "    }\n",
       "\n",
       "    .dataframe thead th {\n",
       "        text-align: right;\n",
       "    }\n",
       "</style>\n",
       "<table border=\"1\" class=\"dataframe\">\n",
       "  <thead>\n",
       "    <tr style=\"text-align: right;\">\n",
       "      <th></th>\n",
       "      <th>GENDER</th>\n",
       "      <th>TARJETAS</th>\n",
       "      <th>ESTADO</th>\n",
       "      <th>CITY</th>\n",
       "      <th>Rango_edad</th>\n",
       "      <th>1_trans</th>\n",
       "      <th>3_trans</th>\n",
       "      <th>4_trans</th>\n",
       "      <th>6_trans</th>\n",
       "      <th>2_trans</th>\n",
       "      <th>...</th>\n",
       "      <th>PLATA_CUENTA_1log</th>\n",
       "      <th>PLATA_CUENTA_2log</th>\n",
       "      <th>SPENT_MLlog</th>\n",
       "      <th>MAU_MP_3log</th>\n",
       "      <th>MAU_ML_3log</th>\n",
       "      <th>MAU_MP_2log</th>\n",
       "      <th>MAU_ML_2log</th>\n",
       "      <th>MAU_MP_1log</th>\n",
       "      <th>MAU_ML_1log</th>\n",
       "      <th>Som_Cluster</th>\n",
       "    </tr>\n",
       "  </thead>\n",
       "  <tbody>\n",
       "    <tr>\n",
       "      <th>0</th>\n",
       "      <td>2</td>\n",
       "      <td>3</td>\n",
       "      <td>5</td>\n",
       "      <td>478</td>\n",
       "      <td>2</td>\n",
       "      <td>-0.261319</td>\n",
       "      <td>-0.303229</td>\n",
       "      <td>-0.020820</td>\n",
       "      <td>-0.233156</td>\n",
       "      <td>0.093297</td>\n",
       "      <td>...</td>\n",
       "      <td>-0.665569</td>\n",
       "      <td>-0.613134</td>\n",
       "      <td>0.904628</td>\n",
       "      <td>-0.936157</td>\n",
       "      <td>-0.549330</td>\n",
       "      <td>-0.045019</td>\n",
       "      <td>0.475687</td>\n",
       "      <td>-0.546823</td>\n",
       "      <td>0.172324</td>\n",
       "      <td>3</td>\n",
       "    </tr>\n",
       "    <tr>\n",
       "      <th>1</th>\n",
       "      <td>2</td>\n",
       "      <td>1</td>\n",
       "      <td>3</td>\n",
       "      <td>334</td>\n",
       "      <td>2</td>\n",
       "      <td>0.649483</td>\n",
       "      <td>0.184739</td>\n",
       "      <td>-0.165247</td>\n",
       "      <td>-0.346194</td>\n",
       "      <td>0.278470</td>\n",
       "      <td>...</td>\n",
       "      <td>0.775977</td>\n",
       "      <td>1.119147</td>\n",
       "      <td>-0.370772</td>\n",
       "      <td>1.114892</td>\n",
       "      <td>1.297271</td>\n",
       "      <td>1.079103</td>\n",
       "      <td>0.898568</td>\n",
       "      <td>0.848922</td>\n",
       "      <td>1.067881</td>\n",
       "      <td>8</td>\n",
       "    </tr>\n",
       "  </tbody>\n",
       "</table>\n",
       "<p>2 rows × 42 columns</p>\n",
       "</div>"
      ],
      "text/plain": [
       "   GENDER  TARJETAS  ESTADO  CITY  Rango_edad   1_trans   3_trans   4_trans  \\\n",
       "0       2         3       5   478           2 -0.261319 -0.303229 -0.020820   \n",
       "1       2         1       3   334           2  0.649483  0.184739 -0.165247   \n",
       "\n",
       "    6_trans   2_trans  ...  PLATA_CUENTA_1log  PLATA_CUENTA_2log  SPENT_MLlog  \\\n",
       "0 -0.233156  0.093297  ...          -0.665569          -0.613134     0.904628   \n",
       "1 -0.346194  0.278470  ...           0.775977           1.119147    -0.370772   \n",
       "\n",
       "   MAU_MP_3log  MAU_ML_3log  MAU_MP_2log  MAU_ML_2log  MAU_MP_1log  \\\n",
       "0    -0.936157    -0.549330    -0.045019     0.475687    -0.546823   \n",
       "1     1.114892     1.297271     1.079103     0.898568     0.848922   \n",
       "\n",
       "   MAU_ML_1log  Som_Cluster  \n",
       "0     0.172324            3  \n",
       "1     1.067881            8  \n",
       "\n",
       "[2 rows x 42 columns]"
      ]
     },
     "execution_count": 12,
     "metadata": {},
     "output_type": "execute_result"
    }
   ],
   "source": [
    "data.head(2)"
   ]
  },
  {
   "cell_type": "markdown",
   "id": "female-accessory",
   "metadata": {},
   "source": [
    "# Processing \n",
    "\n",
    "label encoder + standarization of data for embedding"
   ]
  },
  {
   "cell_type": "code",
   "execution_count": 13,
   "id": "deadly-amazon",
   "metadata": {},
   "outputs": [],
   "source": [
    "cat_vars = ['GENDER', 'TARJETAS', 'ESTADO', 'CITY', 'Rango_edad','last_ml_day', 'last_mp_day', 'INVERSION','RECENCY_ML_DAY','RECENCY_ML_MONTH', 'RECENCY_ML_YEAR','Som_Cluster']\n",
    "contin_vars = ['1_trans', '3_trans', '4_trans', '6_trans', '2_trans', '5_trans',\n",
    "       '7_trans','total_transactions', 'Discount_Mean', 'sell_id_251693291',\n",
    "       'sell_id_254303242', 'sell_id_295153733', 'sell_id_226295793',\n",
    "       'Cellphone Recharge', 'Transport', 'Instore', 'Utilities',\n",
    "       'Money Transfer','FREQUENCY_ML','TotalSpentlog', 'PLATA_CUENTA_1log', 'PLATA_CUENTA_2log',\n",
    "       'SPENT_MLlog', 'MAU_MP_3log', 'MAU_ML_3log', 'MAU_MP_2log',\n",
    "       'MAU_ML_2log', 'MAU_MP_1log', 'MAU_ML_1log']"
   ]
  },
  {
   "cell_type": "code",
   "execution_count": 14,
   "id": "enhanced-planet",
   "metadata": {},
   "outputs": [],
   "source": [
    "uniques = DataFrameSummary(data[cat_vars]).summary().loc[['uniques']]"
   ]
  },
  {
   "cell_type": "code",
   "execution_count": 15,
   "id": "wireless-exemption",
   "metadata": {},
   "outputs": [
    {
     "data": {
      "text/html": [
       "<div>\n",
       "<style scoped>\n",
       "    .dataframe tbody tr th:only-of-type {\n",
       "        vertical-align: middle;\n",
       "    }\n",
       "\n",
       "    .dataframe tbody tr th {\n",
       "        vertical-align: top;\n",
       "    }\n",
       "\n",
       "    .dataframe thead th {\n",
       "        text-align: right;\n",
       "    }\n",
       "</style>\n",
       "<table border=\"1\" class=\"dataframe\">\n",
       "  <thead>\n",
       "    <tr style=\"text-align: right;\">\n",
       "      <th></th>\n",
       "      <th>uniques</th>\n",
       "    </tr>\n",
       "  </thead>\n",
       "  <tbody>\n",
       "    <tr>\n",
       "      <th>GENDER</th>\n",
       "      <td>3</td>\n",
       "    </tr>\n",
       "    <tr>\n",
       "      <th>TARJETAS</th>\n",
       "      <td>8</td>\n",
       "    </tr>\n",
       "    <tr>\n",
       "      <th>ESTADO</th>\n",
       "      <td>33</td>\n",
       "    </tr>\n",
       "    <tr>\n",
       "      <th>CITY</th>\n",
       "      <td>3148</td>\n",
       "    </tr>\n",
       "    <tr>\n",
       "      <th>Rango_edad</th>\n",
       "      <td>8</td>\n",
       "    </tr>\n",
       "    <tr>\n",
       "      <th>last_ml_day</th>\n",
       "      <td>31</td>\n",
       "    </tr>\n",
       "    <tr>\n",
       "      <th>last_mp_day</th>\n",
       "      <td>31</td>\n",
       "    </tr>\n",
       "    <tr>\n",
       "      <th>INVERSION</th>\n",
       "      <td>9</td>\n",
       "    </tr>\n",
       "    <tr>\n",
       "      <th>RECENCY_ML_DAY</th>\n",
       "      <td>32</td>\n",
       "    </tr>\n",
       "    <tr>\n",
       "      <th>RECENCY_ML_MONTH</th>\n",
       "      <td>8</td>\n",
       "    </tr>\n",
       "    <tr>\n",
       "      <th>RECENCY_ML_YEAR</th>\n",
       "      <td>3</td>\n",
       "    </tr>\n",
       "    <tr>\n",
       "      <th>Som_Cluster</th>\n",
       "      <td>9</td>\n",
       "    </tr>\n",
       "  </tbody>\n",
       "</table>\n",
       "</div>"
      ],
      "text/plain": [
       "                 uniques\n",
       "GENDER                 3\n",
       "TARJETAS               8\n",
       "ESTADO                33\n",
       "CITY                3148\n",
       "Rango_edad             8\n",
       "last_ml_day           31\n",
       "last_mp_day           31\n",
       "INVERSION              9\n",
       "RECENCY_ML_DAY        32\n",
       "RECENCY_ML_MONTH       8\n",
       "RECENCY_ML_YEAR        3\n",
       "Som_Cluster            9"
      ]
     },
     "execution_count": 15,
     "metadata": {},
     "output_type": "execute_result"
    }
   ],
   "source": [
    "uniques.T"
   ]
  },
  {
   "cell_type": "code",
   "execution_count": 16,
   "id": "annual-devon",
   "metadata": {},
   "outputs": [],
   "source": [
    "cat_var_dict = {'GENDER': 2, 'TARJETAS': 4, 'ESTADO': 16, 'CITY': 50,\n",
    "'Rango_edad': 4, 'last_ml_day': 15, 'last_mp_day': 15,\n",
    "'INVERSION': 5, 'RECENCY_ML_DAY': 16, 'RECENCY_ML_MONTH': 4, 'RECENCY_ML_YEAR': 2,\n",
    "'Som_Cluster': 4}"
   ]
  },
  {
   "cell_type": "code",
   "execution_count": 17,
   "id": "offensive-fields",
   "metadata": {},
   "outputs": [
    {
     "name": "stdout",
     "output_type": "stream",
     "text": [
      "GENDER 2 3 [0 1 2]\n",
      "\n",
      "TARJETAS 4 8 [0 1 2 3 4 5 6 7]\n",
      "\n",
      "ESTADO 16 33 [ 0  1  2  3  4  5  6  7  8  9 10 11 12 13 14 15 16 17 18 19 20 21 22 23\n",
      " 24 25 26 27 28 29 30 31 32]\n",
      "\n",
      "CITY 50 3148 [   0    1    2 ... 3145 3146 3147]\n",
      "\n",
      "Rango_edad 4 8 [0 1 2 3 4 5 6 7]\n",
      "\n",
      "last_ml_day 15 31 [ 0  1  2  3  4  5  6  7  8  9 10 11 12 13 14 15 16 17 18 19 20 21 22 23\n",
      " 24 25 26 27 28 29 30]\n",
      "\n",
      "last_mp_day 15 31 [ 0  1  2  3  4  5  6  7  8  9 10 11 12 13 14 15 16 17 18 19 20 21 22 23\n",
      " 24 25 26 27 28 29 30]\n",
      "\n",
      "INVERSION 5 9 [0 1 2 3 4 5 6 7 8]\n",
      "\n",
      "RECENCY_ML_DAY 16 32 [ 0  1  2  3  4  5  6  7  8  9 10 11 12 13 14 15 16 17 18 19 20 21 22 23\n",
      " 24 25 26 27 28 29 30 31]\n",
      "\n",
      "RECENCY_ML_MONTH 4 8 [0 1 2 3 4 5 6 7]\n",
      "\n",
      "RECENCY_ML_YEAR 2 3 [0 1 2]\n",
      "\n",
      "Som_Cluster 4 9 [0 1 2 3 4 5 6 7 8]\n",
      "\n"
     ]
    }
   ],
   "source": [
    "for v in cat_vars:\n",
    "    uniques_ = data[v].unique()\n",
    "    uniques_.sort()\n",
    "    print(v, cat_var_dict[v], len(uniques_), uniques_)\n",
    "    print()"
   ]
  },
  {
   "cell_type": "code",
   "execution_count": 18,
   "id": "mechanical-employer",
   "metadata": {},
   "outputs": [],
   "source": [
    "from tensorflow.keras.models import Model\n",
    "from tensorflow.keras.callbacks import ModelCheckpoint,EarlyStopping\n",
    "from tensorflow.keras.optimizers import Adam\n",
    "from tensorflow.keras.layers import Embedding, Input, Flatten, Concatenate"
   ]
  },
  {
   "cell_type": "markdown",
   "id": "fancy-uniform",
   "metadata": {},
   "source": [
    "# Embedding \n"
   ]
  },
  {
   "cell_type": "code",
   "execution_count": 19,
   "id": "advance-second",
   "metadata": {},
   "outputs": [],
   "source": [
    "def get_cat_vars_model(cat_vars, uniques, cat_var_dict):\n",
    "    cat_vars_embed_outs = []\n",
    "    cat_var_inputs = []\n",
    "    for cat_var in cat_vars:\n",
    "        cat_var_in = Input(shape=(1,), name=f\"{cat_var}_input\")\n",
    "        cat_var_inputs.append(cat_var_in)\n",
    "        embed_out = Embedding(uniques[cat_var][0], cat_var_dict[cat_var], name=f'{cat_var}_Embed')(cat_var_in)\n",
    "        flatten_out = Flatten(name=f\"{cat_var}_flat\")(embed_out)\n",
    "        cat_vars_embed_outs.append(flatten_out)\n",
    "    return cat_var_inputs, cat_vars_embed_outs\n",
    "\n",
    "def get_cont_vars_input(contin_vars, dense_layer=False):\n",
    "    cont_vars_inputs = []\n",
    "    cont_vars_outputs = []\n",
    "    for cont_var in contin_vars:\n",
    "        cont_var_in = Input(shape=(1,), name=f\"{cont_var}_input\")\n",
    "        cont_vars_inputs.append(cont_var_in)\n",
    "        if dense_layer:\n",
    "            cont_var_out = Dense(1, name=f\"{cont_var}_input\", activation = 'linear')(cont_var_in)\n",
    "            cont_vars_outputs.append(cont_var_out)\n",
    "        else:\n",
    "            cont_vars_outputs.append(cont_var_in)\n",
    "    return cont_vars_inputs, cont_vars_outputs"
   ]
  },
  {
   "cell_type": "code",
   "execution_count": 20,
   "id": "nasty-warner",
   "metadata": {},
   "outputs": [],
   "source": [
    "cat_var_inputs, cat_vars_embed_outs = get_cat_vars_model(cat_vars, uniques, cat_var_dict)\n",
    "cont_vars_inputs,  cont_vars_outs= get_cont_vars_input(contin_vars)"
   ]
  },
  {
   "cell_type": "code",
   "execution_count": 21,
   "id": "familiar-lodging",
   "metadata": {},
   "outputs": [],
   "source": [
    "merged = Concatenate(name='All_Concatenate')(cat_vars_embed_outs + cont_vars_inputs)"
   ]
  },
  {
   "cell_type": "code",
   "execution_count": 22,
   "id": "forbidden-madness",
   "metadata": {},
   "outputs": [],
   "source": [
    "model = Model(cat_var_inputs + cont_vars_inputs, merged)"
   ]
  },
  {
   "cell_type": "code",
   "execution_count": 23,
   "id": "direct-characterization",
   "metadata": {},
   "outputs": [
    {
     "name": "stdout",
     "output_type": "stream",
     "text": [
      "Model: \"model\"\n",
      "__________________________________________________________________________________________________\n",
      "Layer (type)                    Output Shape         Param #     Connected to                     \n",
      "==================================================================================================\n",
      "GENDER_input (InputLayer)       [(None, 1)]          0                                            \n",
      "__________________________________________________________________________________________________\n",
      "TARJETAS_input (InputLayer)     [(None, 1)]          0                                            \n",
      "__________________________________________________________________________________________________\n",
      "ESTADO_input (InputLayer)       [(None, 1)]          0                                            \n",
      "__________________________________________________________________________________________________\n",
      "CITY_input (InputLayer)         [(None, 1)]          0                                            \n",
      "__________________________________________________________________________________________________\n",
      "Rango_edad_input (InputLayer)   [(None, 1)]          0                                            \n",
      "__________________________________________________________________________________________________\n",
      "last_ml_day_input (InputLayer)  [(None, 1)]          0                                            \n",
      "__________________________________________________________________________________________________\n",
      "last_mp_day_input (InputLayer)  [(None, 1)]          0                                            \n",
      "__________________________________________________________________________________________________\n",
      "INVERSION_input (InputLayer)    [(None, 1)]          0                                            \n",
      "__________________________________________________________________________________________________\n",
      "RECENCY_ML_DAY_input (InputLaye [(None, 1)]          0                                            \n",
      "__________________________________________________________________________________________________\n",
      "RECENCY_ML_MONTH_input (InputLa [(None, 1)]          0                                            \n",
      "__________________________________________________________________________________________________\n",
      "RECENCY_ML_YEAR_input (InputLay [(None, 1)]          0                                            \n",
      "__________________________________________________________________________________________________\n",
      "Som_Cluster_input (InputLayer)  [(None, 1)]          0                                            \n",
      "__________________________________________________________________________________________________\n",
      "GENDER_Embed (Embedding)        (None, 1, 2)         6           GENDER_input[0][0]               \n",
      "__________________________________________________________________________________________________\n",
      "TARJETAS_Embed (Embedding)      (None, 1, 4)         32          TARJETAS_input[0][0]             \n",
      "__________________________________________________________________________________________________\n",
      "ESTADO_Embed (Embedding)        (None, 1, 16)        528         ESTADO_input[0][0]               \n",
      "__________________________________________________________________________________________________\n",
      "CITY_Embed (Embedding)          (None, 1, 50)        157400      CITY_input[0][0]                 \n",
      "__________________________________________________________________________________________________\n",
      "Rango_edad_Embed (Embedding)    (None, 1, 4)         32          Rango_edad_input[0][0]           \n",
      "__________________________________________________________________________________________________\n",
      "last_ml_day_Embed (Embedding)   (None, 1, 15)        465         last_ml_day_input[0][0]          \n",
      "__________________________________________________________________________________________________\n",
      "last_mp_day_Embed (Embedding)   (None, 1, 15)        465         last_mp_day_input[0][0]          \n",
      "__________________________________________________________________________________________________\n",
      "INVERSION_Embed (Embedding)     (None, 1, 5)         45          INVERSION_input[0][0]            \n",
      "__________________________________________________________________________________________________\n",
      "RECENCY_ML_DAY_Embed (Embedding (None, 1, 16)        512         RECENCY_ML_DAY_input[0][0]       \n",
      "__________________________________________________________________________________________________\n",
      "RECENCY_ML_MONTH_Embed (Embeddi (None, 1, 4)         32          RECENCY_ML_MONTH_input[0][0]     \n",
      "__________________________________________________________________________________________________\n",
      "RECENCY_ML_YEAR_Embed (Embeddin (None, 1, 2)         6           RECENCY_ML_YEAR_input[0][0]      \n",
      "__________________________________________________________________________________________________\n",
      "Som_Cluster_Embed (Embedding)   (None, 1, 4)         36          Som_Cluster_input[0][0]          \n",
      "__________________________________________________________________________________________________\n",
      "GENDER_flat (Flatten)           (None, 2)            0           GENDER_Embed[0][0]               \n",
      "__________________________________________________________________________________________________\n",
      "TARJETAS_flat (Flatten)         (None, 4)            0           TARJETAS_Embed[0][0]             \n",
      "__________________________________________________________________________________________________\n",
      "ESTADO_flat (Flatten)           (None, 16)           0           ESTADO_Embed[0][0]               \n",
      "__________________________________________________________________________________________________\n",
      "CITY_flat (Flatten)             (None, 50)           0           CITY_Embed[0][0]                 \n",
      "__________________________________________________________________________________________________\n",
      "Rango_edad_flat (Flatten)       (None, 4)            0           Rango_edad_Embed[0][0]           \n",
      "__________________________________________________________________________________________________\n",
      "last_ml_day_flat (Flatten)      (None, 15)           0           last_ml_day_Embed[0][0]          \n",
      "__________________________________________________________________________________________________\n",
      "last_mp_day_flat (Flatten)      (None, 15)           0           last_mp_day_Embed[0][0]          \n",
      "__________________________________________________________________________________________________\n",
      "INVERSION_flat (Flatten)        (None, 5)            0           INVERSION_Embed[0][0]            \n",
      "__________________________________________________________________________________________________\n",
      "RECENCY_ML_DAY_flat (Flatten)   (None, 16)           0           RECENCY_ML_DAY_Embed[0][0]       \n",
      "__________________________________________________________________________________________________\n",
      "RECENCY_ML_MONTH_flat (Flatten) (None, 4)            0           RECENCY_ML_MONTH_Embed[0][0]     \n",
      "__________________________________________________________________________________________________\n",
      "RECENCY_ML_YEAR_flat (Flatten)  (None, 2)            0           RECENCY_ML_YEAR_Embed[0][0]      \n",
      "__________________________________________________________________________________________________\n",
      "Som_Cluster_flat (Flatten)      (None, 4)            0           Som_Cluster_Embed[0][0]          \n",
      "__________________________________________________________________________________________________\n",
      "1_trans_input (InputLayer)      [(None, 1)]          0                                            \n",
      "__________________________________________________________________________________________________\n",
      "3_trans_input (InputLayer)      [(None, 1)]          0                                            \n",
      "__________________________________________________________________________________________________\n",
      "4_trans_input (InputLayer)      [(None, 1)]          0                                            \n",
      "__________________________________________________________________________________________________\n",
      "6_trans_input (InputLayer)      [(None, 1)]          0                                            \n",
      "__________________________________________________________________________________________________\n",
      "2_trans_input (InputLayer)      [(None, 1)]          0                                            \n",
      "__________________________________________________________________________________________________\n",
      "5_trans_input (InputLayer)      [(None, 1)]          0                                            \n",
      "__________________________________________________________________________________________________\n",
      "7_trans_input (InputLayer)      [(None, 1)]          0                                            \n",
      "__________________________________________________________________________________________________\n",
      "total_transactions_input (Input [(None, 1)]          0                                            \n",
      "__________________________________________________________________________________________________\n",
      "Discount_Mean_input (InputLayer [(None, 1)]          0                                            \n",
      "__________________________________________________________________________________________________\n",
      "sell_id_251693291_input (InputL [(None, 1)]          0                                            \n",
      "__________________________________________________________________________________________________\n",
      "sell_id_254303242_input (InputL [(None, 1)]          0                                            \n",
      "__________________________________________________________________________________________________\n",
      "sell_id_295153733_input (InputL [(None, 1)]          0                                            \n",
      "__________________________________________________________________________________________________\n",
      "sell_id_226295793_input (InputL [(None, 1)]          0                                            \n",
      "__________________________________________________________________________________________________\n",
      "Cellphone Recharge_input (Input [(None, 1)]          0                                            \n",
      "__________________________________________________________________________________________________\n",
      "Transport_input (InputLayer)    [(None, 1)]          0                                            \n",
      "__________________________________________________________________________________________________\n",
      "Instore_input (InputLayer)      [(None, 1)]          0                                            \n",
      "__________________________________________________________________________________________________\n",
      "Utilities_input (InputLayer)    [(None, 1)]          0                                            \n",
      "__________________________________________________________________________________________________\n",
      "Money Transfer_input (InputLaye [(None, 1)]          0                                            \n",
      "__________________________________________________________________________________________________\n",
      "FREQUENCY_ML_input (InputLayer) [(None, 1)]          0                                            \n",
      "__________________________________________________________________________________________________\n",
      "TotalSpentlog_input (InputLayer [(None, 1)]          0                                            \n",
      "__________________________________________________________________________________________________\n",
      "PLATA_CUENTA_1log_input (InputL [(None, 1)]          0                                            \n",
      "__________________________________________________________________________________________________\n",
      "PLATA_CUENTA_2log_input (InputL [(None, 1)]          0                                            \n",
      "__________________________________________________________________________________________________\n",
      "SPENT_MLlog_input (InputLayer)  [(None, 1)]          0                                            \n",
      "__________________________________________________________________________________________________\n",
      "MAU_MP_3log_input (InputLayer)  [(None, 1)]          0                                            \n",
      "__________________________________________________________________________________________________\n",
      "MAU_ML_3log_input (InputLayer)  [(None, 1)]          0                                            \n",
      "__________________________________________________________________________________________________\n",
      "MAU_MP_2log_input (InputLayer)  [(None, 1)]          0                                            \n",
      "__________________________________________________________________________________________________\n",
      "MAU_ML_2log_input (InputLayer)  [(None, 1)]          0                                            \n",
      "__________________________________________________________________________________________________\n",
      "MAU_MP_1log_input (InputLayer)  [(None, 1)]          0                                            \n",
      "__________________________________________________________________________________________________\n",
      "MAU_ML_1log_input (InputLayer)  [(None, 1)]          0                                            \n",
      "__________________________________________________________________________________________________\n",
      "All_Concatenate (Concatenate)   (None, 166)          0           GENDER_flat[0][0]                \n",
      "                                                                 TARJETAS_flat[0][0]              \n",
      "                                                                 ESTADO_flat[0][0]                \n",
      "                                                                 CITY_flat[0][0]                  \n",
      "                                                                 Rango_edad_flat[0][0]            \n",
      "                                                                 last_ml_day_flat[0][0]           \n",
      "                                                                 last_mp_day_flat[0][0]           \n",
      "                                                                 INVERSION_flat[0][0]             \n",
      "                                                                 RECENCY_ML_DAY_flat[0][0]        \n",
      "                                                                 RECENCY_ML_MONTH_flat[0][0]      \n",
      "                                                                 RECENCY_ML_YEAR_flat[0][0]       \n",
      "                                                                 Som_Cluster_flat[0][0]           \n",
      "                                                                 1_trans_input[0][0]              \n",
      "                                                                 3_trans_input[0][0]              \n",
      "                                                                 4_trans_input[0][0]              \n",
      "                                                                 6_trans_input[0][0]              \n",
      "                                                                 2_trans_input[0][0]              \n",
      "                                                                 5_trans_input[0][0]              \n",
      "                                                                 7_trans_input[0][0]              \n",
      "                                                                 total_transactions_input[0][0]   \n",
      "                                                                 Discount_Mean_input[0][0]        \n",
      "                                                                 sell_id_251693291_input[0][0]    \n",
      "                                                                 sell_id_254303242_input[0][0]    \n",
      "                                                                 sell_id_295153733_input[0][0]    \n",
      "                                                                 sell_id_226295793_input[0][0]    \n",
      "                                                                 Cellphone Recharge_input[0][0]   \n",
      "                                                                 Transport_input[0][0]            \n",
      "                                                                 Instore_input[0][0]              \n",
      "                                                                 Utilities_input[0][0]            \n",
      "                                                                 Money Transfer_input[0][0]       \n",
      "                                                                 FREQUENCY_ML_input[0][0]         \n",
      "                                                                 TotalSpentlog_input[0][0]        \n",
      "                                                                 PLATA_CUENTA_1log_input[0][0]    \n",
      "                                                                 PLATA_CUENTA_2log_input[0][0]    \n",
      "                                                                 SPENT_MLlog_input[0][0]          \n",
      "                                                                 MAU_MP_3log_input[0][0]          \n",
      "                                                                 MAU_ML_3log_input[0][0]          \n",
      "                                                                 MAU_MP_2log_input[0][0]          \n",
      "                                                                 MAU_ML_2log_input[0][0]          \n",
      "                                                                 MAU_MP_1log_input[0][0]          \n",
      "                                                                 MAU_ML_1log_input[0][0]          \n",
      "==================================================================================================\n",
      "Total params: 159,559\n",
      "Trainable params: 159,559\n",
      "Non-trainable params: 0\n",
      "__________________________________________________________________________________________________\n"
     ]
    }
   ],
   "source": [
    "model.summary()"
   ]
  },
  {
   "cell_type": "code",
   "execution_count": 24,
   "id": "educated-consultancy",
   "metadata": {},
   "outputs": [],
   "source": [
    "from sklearn.model_selection import train_test_split\n",
    "X_train, X_test, y_train, y_test = train_test_split(data.drop(columns = ['churn']) , data.churn , test_size=0.2)"
   ]
  },
  {
   "cell_type": "code",
   "execution_count": 25,
   "id": "aboriginal-powell",
   "metadata": {},
   "outputs": [
    {
     "data": {
      "text/plain": [
       "(34801, 41)"
      ]
     },
     "execution_count": 25,
     "metadata": {},
     "output_type": "execute_result"
    }
   ],
   "source": [
    "X_train.shape"
   ]
  },
  {
   "cell_type": "code",
   "execution_count": 26,
   "id": "animated-cotton",
   "metadata": {},
   "outputs": [
    {
     "data": {
      "text/plain": [
       "(8701, 41)"
      ]
     },
     "execution_count": 26,
     "metadata": {},
     "output_type": "execute_result"
    }
   ],
   "source": [
    "X_test.shape"
   ]
  },
  {
   "cell_type": "code",
   "execution_count": 27,
   "id": "governing-virtue",
   "metadata": {},
   "outputs": [
    {
     "data": {
      "text/plain": [
       "(34801,)"
      ]
     },
     "execution_count": 27,
     "metadata": {},
     "output_type": "execute_result"
    }
   ],
   "source": [
    "y_train.shape"
   ]
  },
  {
   "cell_type": "code",
   "execution_count": 28,
   "id": "atomic-distribution",
   "metadata": {},
   "outputs": [
    {
     "data": {
      "text/plain": [
       "(8701,)"
      ]
     },
     "execution_count": 28,
     "metadata": {},
     "output_type": "execute_result"
    }
   ],
   "source": [
    "y_test.shape"
   ]
  },
  {
   "cell_type": "code",
   "execution_count": 29,
   "id": "hydraulic-coral",
   "metadata": {},
   "outputs": [],
   "source": [
    "all_vars = cat_vars + contin_vars\n",
    "X_train = np.hsplit(X_train[all_vars].values, len(all_vars))\n",
    "X_test = np.hsplit(X_test[all_vars].values, len(all_vars))"
   ]
  },
  {
   "cell_type": "code",
   "execution_count": 30,
   "id": "cubic-performance",
   "metadata": {},
   "outputs": [],
   "source": [
    "lr = 0.001\n",
    "model.compile(optimizer=Adam(lr=lr), metrics=['accuracy'], loss='binary_crossentropy')"
   ]
  },
  {
   "cell_type": "code",
   "execution_count": 31,
   "id": "rubber-pasta",
   "metadata": {},
   "outputs": [],
   "source": [
    "ES = EarlyStopping(\n",
    "    monitor=\"val_loss\",    \n",
    "    patience=30,\n",
    "    verbose=1)"
   ]
  },
  {
   "cell_type": "code",
   "execution_count": 32,
   "id": "facial-terror",
   "metadata": {},
   "outputs": [],
   "source": [
    "checkpoint = ModelCheckpoint('bestembedding.hdf5', monitor='val_loss', verbose=1, save_best_only=True)"
   ]
  },
  {
   "cell_type": "code",
   "execution_count": 33,
   "id": "failing-outside",
   "metadata": {},
   "outputs": [
    {
     "name": "stdout",
     "output_type": "stream",
     "text": [
      "Epoch 1/100\n",
      "272/272 - 2s - loss: 6.0394 - accuracy: 0.0000e+00 - val_loss: 5.9750 - val_accuracy: 0.0000e+00\n",
      "\n",
      "Epoch 00001: val_loss improved from inf to 5.97501, saving model to bestembedding.hdf5\n",
      "Epoch 2/100\n",
      "272/272 - 0s - loss: 5.8523 - accuracy: 0.0000e+00 - val_loss: 5.8793 - val_accuracy: 0.0000e+00\n",
      "\n",
      "Epoch 00002: val_loss improved from 5.97501 to 5.87932, saving model to bestembedding.hdf5\n",
      "Epoch 3/100\n",
      "272/272 - 0s - loss: 5.7787 - accuracy: 0.0000e+00 - val_loss: 5.8279 - val_accuracy: 0.0000e+00\n",
      "\n",
      "Epoch 00003: val_loss improved from 5.87932 to 5.82788, saving model to bestembedding.hdf5\n",
      "Epoch 4/100\n",
      "272/272 - 0s - loss: 5.7350 - accuracy: 0.0000e+00 - val_loss: 5.7954 - val_accuracy: 0.0000e+00\n",
      "\n",
      "Epoch 00004: val_loss improved from 5.82788 to 5.79535, saving model to bestembedding.hdf5\n",
      "Epoch 5/100\n",
      "272/272 - 0s - loss: 5.7063 - accuracy: 0.0000e+00 - val_loss: 5.7724 - val_accuracy: 0.0000e+00\n",
      "\n",
      "Epoch 00005: val_loss improved from 5.79535 to 5.77237, saving model to bestembedding.hdf5\n",
      "Epoch 6/100\n",
      "272/272 - 0s - loss: 5.6868 - accuracy: 0.0000e+00 - val_loss: 5.7565 - val_accuracy: 0.0000e+00\n",
      "\n",
      "Epoch 00006: val_loss improved from 5.77237 to 5.75653, saving model to bestembedding.hdf5\n",
      "Epoch 7/100\n",
      "272/272 - 0s - loss: 5.6731 - accuracy: 0.0000e+00 - val_loss: 5.7455 - val_accuracy: 0.0000e+00\n",
      "\n",
      "Epoch 00007: val_loss improved from 5.75653 to 5.74546, saving model to bestembedding.hdf5\n",
      "Epoch 8/100\n",
      "272/272 - 0s - loss: 5.6633 - accuracy: 0.0000e+00 - val_loss: 5.7375 - val_accuracy: 0.0000e+00\n",
      "\n",
      "Epoch 00008: val_loss improved from 5.74546 to 5.73748, saving model to bestembedding.hdf5\n",
      "Epoch 9/100\n",
      "272/272 - 0s - loss: 5.6563 - accuracy: 0.0000e+00 - val_loss: 5.7317 - val_accuracy: 0.0000e+00\n",
      "\n",
      "Epoch 00009: val_loss improved from 5.73748 to 5.73170, saving model to bestembedding.hdf5\n",
      "Epoch 10/100\n",
      "272/272 - 0s - loss: 5.6510 - accuracy: 0.0000e+00 - val_loss: 5.7274 - val_accuracy: 0.0000e+00\n",
      "\n",
      "Epoch 00010: val_loss improved from 5.73170 to 5.72739, saving model to bestembedding.hdf5\n",
      "Epoch 11/100\n",
      "272/272 - 0s - loss: 5.6469 - accuracy: 0.0000e+00 - val_loss: 5.7241 - val_accuracy: 0.0000e+00\n",
      "\n",
      "Epoch 00011: val_loss improved from 5.72739 to 5.72405, saving model to bestembedding.hdf5\n",
      "Epoch 12/100\n",
      "272/272 - 0s - loss: 5.6437 - accuracy: 0.0000e+00 - val_loss: 5.7214 - val_accuracy: 0.0000e+00\n",
      "\n",
      "Epoch 00012: val_loss improved from 5.72405 to 5.72143, saving model to bestembedding.hdf5\n",
      "Epoch 13/100\n",
      "272/272 - 0s - loss: 5.6411 - accuracy: 0.0000e+00 - val_loss: 5.7193 - val_accuracy: 0.0000e+00\n",
      "\n",
      "Epoch 00013: val_loss improved from 5.72143 to 5.71933, saving model to bestembedding.hdf5\n",
      "Epoch 14/100\n",
      "272/272 - 0s - loss: 5.6389 - accuracy: 0.0000e+00 - val_loss: 5.7176 - val_accuracy: 0.0000e+00\n",
      "\n",
      "Epoch 00014: val_loss improved from 5.71933 to 5.71763, saving model to bestembedding.hdf5\n",
      "Epoch 15/100\n",
      "272/272 - 0s - loss: 5.6371 - accuracy: 0.0000e+00 - val_loss: 5.7162 - val_accuracy: 0.0000e+00\n",
      "\n",
      "Epoch 00015: val_loss improved from 5.71763 to 5.71622, saving model to bestembedding.hdf5\n",
      "Epoch 16/100\n",
      "272/272 - 0s - loss: 5.6355 - accuracy: 0.0000e+00 - val_loss: 5.7150 - val_accuracy: 0.0000e+00\n",
      "\n",
      "Epoch 00016: val_loss improved from 5.71622 to 5.71504, saving model to bestembedding.hdf5\n",
      "Epoch 17/100\n",
      "272/272 - 0s - loss: 5.6341 - accuracy: 0.0000e+00 - val_loss: 5.7140 - val_accuracy: 0.0000e+00\n",
      "\n",
      "Epoch 00017: val_loss improved from 5.71504 to 5.71405, saving model to bestembedding.hdf5\n",
      "Epoch 18/100\n",
      "272/272 - 0s - loss: 5.6330 - accuracy: 0.0000e+00 - val_loss: 5.7132 - val_accuracy: 0.0000e+00\n",
      "\n",
      "Epoch 00018: val_loss improved from 5.71405 to 5.71320, saving model to bestembedding.hdf5\n",
      "Epoch 19/100\n",
      "272/272 - 0s - loss: 5.6319 - accuracy: 0.0000e+00 - val_loss: 5.7124 - val_accuracy: 0.0000e+00\n",
      "\n",
      "Epoch 00019: val_loss improved from 5.71320 to 5.71244, saving model to bestembedding.hdf5\n",
      "Epoch 20/100\n",
      "272/272 - 0s - loss: 5.6310 - accuracy: 0.0000e+00 - val_loss: 5.7118 - val_accuracy: 0.0000e+00\n",
      "\n",
      "Epoch 00020: val_loss improved from 5.71244 to 5.71180, saving model to bestembedding.hdf5\n",
      "Epoch 21/100\n",
      "272/272 - 0s - loss: 5.6301 - accuracy: 0.0000e+00 - val_loss: 5.7113 - val_accuracy: 0.0000e+00\n",
      "\n",
      "Epoch 00021: val_loss improved from 5.71180 to 5.71127, saving model to bestembedding.hdf5\n",
      "Epoch 22/100\n",
      "272/272 - 0s - loss: 5.6294 - accuracy: 0.0000e+00 - val_loss: 5.7108 - val_accuracy: 0.0000e+00\n",
      "\n",
      "Epoch 00022: val_loss improved from 5.71127 to 5.71079, saving model to bestembedding.hdf5\n",
      "Epoch 23/100\n",
      "272/272 - 0s - loss: 5.6287 - accuracy: 0.0000e+00 - val_loss: 5.7103 - val_accuracy: 0.0000e+00\n",
      "\n",
      "Epoch 00023: val_loss improved from 5.71079 to 5.71034, saving model to bestembedding.hdf5\n",
      "Epoch 24/100\n",
      "272/272 - 0s - loss: 5.6280 - accuracy: 0.0000e+00 - val_loss: 5.7100 - val_accuracy: 0.0000e+00\n",
      "\n",
      "Epoch 00024: val_loss improved from 5.71034 to 5.71000, saving model to bestembedding.hdf5\n",
      "Epoch 25/100\n",
      "272/272 - 0s - loss: 5.6274 - accuracy: 0.0000e+00 - val_loss: 5.7097 - val_accuracy: 0.0000e+00\n",
      "\n",
      "Epoch 00025: val_loss improved from 5.71000 to 5.70967, saving model to bestembedding.hdf5\n",
      "Epoch 26/100\n",
      "272/272 - 0s - loss: 5.6269 - accuracy: 0.0000e+00 - val_loss: 5.7094 - val_accuracy: 0.0000e+00\n",
      "\n",
      "Epoch 00026: val_loss improved from 5.70967 to 5.70937, saving model to bestembedding.hdf5\n",
      "Epoch 27/100\n",
      "272/272 - 0s - loss: 5.6264 - accuracy: 0.0000e+00 - val_loss: 5.7091 - val_accuracy: 0.0000e+00\n",
      "\n",
      "Epoch 00027: val_loss improved from 5.70937 to 5.70911, saving model to bestembedding.hdf5\n",
      "Epoch 28/100\n",
      "272/272 - 0s - loss: 5.6259 - accuracy: 0.0000e+00 - val_loss: 5.7089 - val_accuracy: 0.0000e+00\n",
      "\n",
      "Epoch 00028: val_loss improved from 5.70911 to 5.70892, saving model to bestembedding.hdf5\n",
      "Epoch 29/100\n",
      "272/272 - 0s - loss: 5.6255 - accuracy: 0.0000e+00 - val_loss: 5.7087 - val_accuracy: 0.0000e+00\n",
      "\n",
      "Epoch 00029: val_loss improved from 5.70892 to 5.70872, saving model to bestembedding.hdf5\n",
      "Epoch 30/100\n",
      "272/272 - 0s - loss: 5.6251 - accuracy: 0.0000e+00 - val_loss: 5.7085 - val_accuracy: 0.0000e+00\n",
      "\n",
      "Epoch 00030: val_loss improved from 5.70872 to 5.70853, saving model to bestembedding.hdf5\n",
      "Epoch 31/100\n",
      "272/272 - 0s - loss: 5.6247 - accuracy: 0.0000e+00 - val_loss: 5.7084 - val_accuracy: 0.0000e+00\n",
      "\n",
      "Epoch 00031: val_loss improved from 5.70853 to 5.70841, saving model to bestembedding.hdf5\n",
      "Epoch 32/100\n",
      "272/272 - 0s - loss: 5.6244 - accuracy: 0.0000e+00 - val_loss: 5.7083 - val_accuracy: 0.0000e+00\n",
      "\n",
      "Epoch 00032: val_loss improved from 5.70841 to 5.70828, saving model to bestembedding.hdf5\n",
      "Epoch 33/100\n",
      "272/272 - 0s - loss: 5.6240 - accuracy: 0.0000e+00 - val_loss: 5.7083 - val_accuracy: 0.0000e+00\n",
      "\n",
      "Epoch 00033: val_loss improved from 5.70828 to 5.70826, saving model to bestembedding.hdf5\n",
      "Epoch 34/100\n",
      "272/272 - 0s - loss: 5.6237 - accuracy: 0.0000e+00 - val_loss: 5.7083 - val_accuracy: 0.0000e+00\n",
      "\n",
      "Epoch 00034: val_loss did not improve from 5.70826\n",
      "Epoch 35/100\n",
      "272/272 - 0s - loss: 5.6234 - accuracy: 0.0000e+00 - val_loss: 5.7084 - val_accuracy: 0.0000e+00\n",
      "\n",
      "Epoch 00035: val_loss did not improve from 5.70826\n",
      "Epoch 36/100\n",
      "272/272 - 0s - loss: 5.6231 - accuracy: 0.0000e+00 - val_loss: 5.7084 - val_accuracy: 0.0000e+00\n",
      "\n",
      "Epoch 00036: val_loss did not improve from 5.70826\n",
      "Epoch 37/100\n",
      "272/272 - 0s - loss: 5.6228 - accuracy: 0.0000e+00 - val_loss: 5.7085 - val_accuracy: 0.0000e+00\n",
      "\n",
      "Epoch 00037: val_loss did not improve from 5.70826\n",
      "Epoch 38/100\n",
      "272/272 - 0s - loss: 5.6226 - accuracy: 0.0000e+00 - val_loss: 5.7085 - val_accuracy: 0.0000e+00\n",
      "\n",
      "Epoch 00038: val_loss did not improve from 5.70826\n",
      "Epoch 39/100\n",
      "272/272 - 0s - loss: 5.6223 - accuracy: 0.0000e+00 - val_loss: 5.7086 - val_accuracy: 0.0000e+00\n",
      "\n",
      "Epoch 00039: val_loss did not improve from 5.70826\n",
      "Epoch 40/100\n",
      "272/272 - 0s - loss: 5.6221 - accuracy: 0.0000e+00 - val_loss: 5.7087 - val_accuracy: 0.0000e+00\n",
      "\n",
      "Epoch 00040: val_loss did not improve from 5.70826\n",
      "Epoch 41/100\n",
      "272/272 - 0s - loss: 5.6219 - accuracy: 0.0000e+00 - val_loss: 5.7088 - val_accuracy: 0.0000e+00\n",
      "\n",
      "Epoch 00041: val_loss did not improve from 5.70826\n",
      "Epoch 42/100\n",
      "272/272 - 0s - loss: 5.6216 - accuracy: 0.0000e+00 - val_loss: 5.7089 - val_accuracy: 0.0000e+00\n",
      "\n",
      "Epoch 00042: val_loss did not improve from 5.70826\n",
      "Epoch 43/100\n",
      "272/272 - 0s - loss: 5.6214 - accuracy: 0.0000e+00 - val_loss: 5.7089 - val_accuracy: 0.0000e+00\n",
      "\n",
      "Epoch 00043: val_loss did not improve from 5.70826\n",
      "Epoch 44/100\n",
      "272/272 - 0s - loss: 5.6212 - accuracy: 0.0000e+00 - val_loss: 5.7090 - val_accuracy: 0.0000e+00\n",
      "\n",
      "Epoch 00044: val_loss did not improve from 5.70826\n",
      "Epoch 45/100\n",
      "272/272 - 0s - loss: 5.6210 - accuracy: 0.0000e+00 - val_loss: 5.7092 - val_accuracy: 0.0000e+00\n",
      "\n",
      "Epoch 00045: val_loss did not improve from 5.70826\n",
      "Epoch 46/100\n",
      "272/272 - 0s - loss: 5.6208 - accuracy: 0.0000e+00 - val_loss: 5.7094 - val_accuracy: 0.0000e+00\n",
      "\n",
      "Epoch 00046: val_loss did not improve from 5.70826\n",
      "Epoch 47/100\n",
      "272/272 - 0s - loss: 5.6207 - accuracy: 0.0000e+00 - val_loss: 5.7096 - val_accuracy: 0.0000e+00\n",
      "\n",
      "Epoch 00047: val_loss did not improve from 5.70826\n",
      "Epoch 48/100\n",
      "272/272 - 0s - loss: 5.6205 - accuracy: 0.0000e+00 - val_loss: 5.7098 - val_accuracy: 0.0000e+00\n",
      "\n",
      "Epoch 00048: val_loss did not improve from 5.70826\n",
      "Epoch 49/100\n",
      "272/272 - 0s - loss: 5.6203 - accuracy: 0.0000e+00 - val_loss: 5.7100 - val_accuracy: 0.0000e+00\n",
      "\n",
      "Epoch 00049: val_loss did not improve from 5.70826\n",
      "Epoch 50/100\n",
      "272/272 - 0s - loss: 5.6202 - accuracy: 0.0000e+00 - val_loss: 5.7101 - val_accuracy: 0.0000e+00\n",
      "\n",
      "Epoch 00050: val_loss did not improve from 5.70826\n",
      "Epoch 51/100\n",
      "272/272 - 0s - loss: 5.6200 - accuracy: 0.0000e+00 - val_loss: 5.7102 - val_accuracy: 0.0000e+00\n",
      "\n",
      "Epoch 00051: val_loss did not improve from 5.70826\n",
      "Epoch 52/100\n",
      "272/272 - 0s - loss: 5.6199 - accuracy: 0.0000e+00 - val_loss: 5.7103 - val_accuracy: 0.0000e+00\n",
      "\n",
      "Epoch 00052: val_loss did not improve from 5.70826\n",
      "Epoch 53/100\n",
      "272/272 - 0s - loss: 5.6197 - accuracy: 0.0000e+00 - val_loss: 5.7105 - val_accuracy: 0.0000e+00\n",
      "\n",
      "Epoch 00053: val_loss did not improve from 5.70826\n",
      "Epoch 54/100\n",
      "272/272 - 0s - loss: 5.6196 - accuracy: 0.0000e+00 - val_loss: 5.7107 - val_accuracy: 0.0000e+00\n",
      "\n",
      "Epoch 00054: val_loss did not improve from 5.70826\n",
      "Epoch 55/100\n",
      "272/272 - 0s - loss: 5.6194 - accuracy: 0.0000e+00 - val_loss: 5.7109 - val_accuracy: 0.0000e+00\n",
      "\n",
      "Epoch 00055: val_loss did not improve from 5.70826\n",
      "Epoch 56/100\n",
      "272/272 - 0s - loss: 5.6193 - accuracy: 0.0000e+00 - val_loss: 5.7111 - val_accuracy: 0.0000e+00\n",
      "\n",
      "Epoch 00056: val_loss did not improve from 5.70826\n",
      "Epoch 57/100\n",
      "272/272 - 0s - loss: 5.6192 - accuracy: 0.0000e+00 - val_loss: 5.7112 - val_accuracy: 0.0000e+00\n",
      "\n",
      "Epoch 00057: val_loss did not improve from 5.70826\n",
      "Epoch 58/100\n",
      "272/272 - 0s - loss: 5.6191 - accuracy: 0.0000e+00 - val_loss: 5.7115 - val_accuracy: 0.0000e+00\n",
      "\n",
      "Epoch 00058: val_loss did not improve from 5.70826\n",
      "Epoch 59/100\n",
      "272/272 - 0s - loss: 5.6190 - accuracy: 0.0000e+00 - val_loss: 5.7116 - val_accuracy: 0.0000e+00\n",
      "\n",
      "Epoch 00059: val_loss did not improve from 5.70826\n",
      "Epoch 60/100\n",
      "272/272 - 0s - loss: 5.6189 - accuracy: 0.0000e+00 - val_loss: 5.7116 - val_accuracy: 0.0000e+00\n",
      "\n",
      "Epoch 00060: val_loss did not improve from 5.70826\n",
      "Epoch 61/100\n",
      "272/272 - 0s - loss: 5.6188 - accuracy: 0.0000e+00 - val_loss: 5.7117 - val_accuracy: 0.0000e+00\n",
      "\n",
      "Epoch 00061: val_loss did not improve from 5.70826\n",
      "Epoch 62/100\n",
      "272/272 - 0s - loss: 5.6187 - accuracy: 0.0000e+00 - val_loss: 5.7118 - val_accuracy: 0.0000e+00\n",
      "\n",
      "Epoch 00062: val_loss did not improve from 5.70826\n",
      "Epoch 63/100\n",
      "272/272 - 0s - loss: 5.6186 - accuracy: 0.0000e+00 - val_loss: 5.7119 - val_accuracy: 0.0000e+00\n",
      "\n",
      "Epoch 00063: val_loss did not improve from 5.70826\n",
      "Epoch 00063: early stopping\n"
     ]
    }
   ],
   "source": [
    "epochs = 100\n",
    "batch_size = 128\n",
    "history = model.fit(X_train, y_train, validation_data=(X_test, y_test),  epochs=epochs, batch_size=batch_size, callbacks=[checkpoint,ES], verbose=2)"
   ]
  },
  {
   "cell_type": "code",
   "execution_count": 34,
   "id": "innovative-colorado",
   "metadata": {},
   "outputs": [],
   "source": [
    "model.load_weights('bestembedding.hdf5')"
   ]
  },
  {
   "cell_type": "code",
   "execution_count": 35,
   "id": "selected-insertion",
   "metadata": {},
   "outputs": [],
   "source": [
    "X_train = model.predict(X_train)\n",
    "X_test = model.predict(X_test)"
   ]
  },
  {
   "cell_type": "code",
   "execution_count": 36,
   "id": "thermal-rouge",
   "metadata": {},
   "outputs": [
    {
     "data": {
      "text/plain": [
       "(34801, 166)"
      ]
     },
     "execution_count": 36,
     "metadata": {},
     "output_type": "execute_result"
    }
   ],
   "source": [
    "X_train.shape"
   ]
  },
  {
   "cell_type": "code",
   "execution_count": 37,
   "id": "ideal-campus",
   "metadata": {},
   "outputs": [
    {
     "data": {
      "text/plain": [
       "(8701, 166)"
      ]
     },
     "execution_count": 37,
     "metadata": {},
     "output_type": "execute_result"
    }
   ],
   "source": [
    "X_test.shape"
   ]
  },
  {
   "cell_type": "code",
   "execution_count": 38,
   "id": "victorian-cleaning",
   "metadata": {},
   "outputs": [],
   "source": [
    "from lightgbm import LGBMClassifier"
   ]
  },
  {
   "cell_type": "code",
   "execution_count": 39,
   "id": "middle-impact",
   "metadata": {},
   "outputs": [
    {
     "data": {
      "text/plain": [
       "array([0., 0., 0., ..., 1., 1., 0.])"
      ]
     },
     "execution_count": 39,
     "metadata": {},
     "output_type": "execute_result"
    }
   ],
   "source": [
    "y_train.values.reshape(-1)"
   ]
  },
  {
   "cell_type": "markdown",
   "id": "unlikely-julian",
   "metadata": {},
   "source": [
    "# LGBM\n",
    "\n",
    "train the LGBM with the output of the Embedding"
   ]
  },
  {
   "cell_type": "code",
   "execution_count": 40,
   "id": "related-hawaiian",
   "metadata": {},
   "outputs": [
    {
     "name": "stdout",
     "output_type": "stream",
     "text": [
      "100%|████████████████████████████████████████████████| 10/10 [08:57<00:00, 53.73s/trial, best loss: -0.809574426979873]\n"
     ]
    },
    {
     "data": {
      "text/plain": [
       "{'colsample_bytree': 0.6999953072829577,\n",
       " 'learning_rate': 0.02359854464876827,\n",
       " 'max_depth': 24.0,\n",
       " 'num_leaves': 12.0}"
      ]
     },
     "execution_count": 40,
     "metadata": {},
     "output_type": "execute_result"
    }
   ],
   "source": [
    "from sklearn.model_selection import cross_val_score\n",
    "from hyperopt import hp, tpe, Trials\n",
    "from hyperopt.fmin import fmin\n",
    "\n",
    "\n",
    "#busqueda bayesiana\n",
    "\n",
    "def objective(params):\n",
    "    params = {\n",
    "        'max_depth': int(params['max_depth']),\n",
    "        'num_leaves': int(params['num_leaves']),\n",
    "        'colsample_bytree': '{:.3f}'.format(params['colsample_bytree']),\n",
    "        'learning_rate': '{:.4f}'.format(params['learning_rate'])\n",
    "    }\n",
    "    \n",
    "    clf = LGBMClassifier(\n",
    "        n_estimators=4000,\n",
    "        min_child_samples= 5,**params\n",
    "    )\n",
    "    \n",
    "    score = -cross_val_score(clf, X_train, y_train.values.reshape(-1)).mean()\n",
    "    return score\n",
    "\n",
    "\n",
    "tpe_trials = Trials()\n",
    "\n",
    "\n",
    "space = {\n",
    "    'max_depth': hp.quniform('max_depth', 1, 64, 4),\n",
    "    'num_leaves' : hp.quniform('num_leaves', 1, 64, 4),\n",
    "    'colsample_bytree': hp.uniform('colsample_bytree', 0.5, 1.0),\n",
    "    'learning_rate': hp.loguniform('learning_rate', -4, -2)\n",
    "}\n",
    "\n",
    "best = fmin(fn=objective,\n",
    "            space=space,\n",
    "            verbose=2,\n",
    "            algo=tpe.suggest,\n",
    "            max_evals=10)\n",
    "best"
   ]
  },
  {
   "cell_type": "code",
   "execution_count": 70,
   "id": "computational-hunter",
   "metadata": {},
   "outputs": [],
   "source": [
    "tree =LGBMClassifier(n_estimators=6000,min_child_samples= 5,colsample_bytree = 0.6999953072829577,learning_rate = 0.02359854464876827,max_depth= 24,num_leaves=12)"
   ]
  },
  {
   "cell_type": "code",
   "execution_count": 71,
   "id": "absolute-recognition",
   "metadata": {},
   "outputs": [
    {
     "data": {
      "text/plain": [
       "LGBMClassifier(colsample_bytree=0.6999953072829577,\n",
       "               learning_rate=0.02359854464876827, max_depth=24,\n",
       "               min_child_samples=5, n_estimators=6000, num_leaves=12)"
      ]
     },
     "execution_count": 71,
     "metadata": {},
     "output_type": "execute_result"
    }
   ],
   "source": [
    "tree.fit(X_train, y_train.values.reshape(-1))"
   ]
  },
  {
   "cell_type": "code",
   "execution_count": 72,
   "id": "sufficient-delicious",
   "metadata": {},
   "outputs": [
    {
     "data": {
      "text/plain": [
       "0.9283066578546594"
      ]
     },
     "execution_count": 72,
     "metadata": {},
     "output_type": "execute_result"
    }
   ],
   "source": [
    "tree.score(X_train,y_train)"
   ]
  },
  {
   "cell_type": "code",
   "execution_count": 73,
   "id": "impaired-filing",
   "metadata": {},
   "outputs": [
    {
     "data": {
      "text/plain": [
       "0.796115389035743"
      ]
     },
     "execution_count": 73,
     "metadata": {},
     "output_type": "execute_result"
    }
   ],
   "source": [
    "tree.score(X_test,y_test)"
   ]
  },
  {
   "cell_type": "code",
   "execution_count": 74,
   "id": "intermediate-salvation",
   "metadata": {},
   "outputs": [],
   "source": [
    "y_pred = tree.predict_proba(X_test)"
   ]
  },
  {
   "cell_type": "code",
   "execution_count": 75,
   "id": "vanilla-morrison",
   "metadata": {},
   "outputs": [],
   "source": [
    "from sklearn import metrics\n",
    "import numpy as np\n",
    "import pandas as pd\n",
    "\n",
    "\n",
    "def plot_metrics(y_true,y_proba,num=50,plot_metrics=False,plot_ROC=False):\n",
    "\t\n",
    "    P= y_true[y_true == 1].shape[0]\n",
    "    N= y_true[y_true == 0].shape[0]\n",
    "    if plot_metrics:\n",
    "        cond_pos= P/(P+N)\n",
    "        cond_neg= N/(P+N)\n",
    "        \n",
    "        accuracy=np.zeros(num)\n",
    "        specificity=np.zeros(num)\n",
    "        ppv=np.zeros(num)\n",
    "        npv=np.zeros(num)\n",
    "        fnr=np.zeros(num)\n",
    "    sensitivity=np.zeros(num+2) \n",
    "    fpr=np.zeros(num+2)  \n",
    "    thresholds=np.linspace(0.01,0.99,num)\n",
    "    for idx,threshold in enumerate(thresholds):\n",
    "        y_pred=1*(y_proba>threshold)\n",
    "        conf_matrix=metrics.confusion_matrix(y_true, y_pred, labels=[0,1])\n",
    "        TN=conf_matrix[0,0]\n",
    "        FN=conf_matrix[1,0]\n",
    "        FP=conf_matrix[0,1]\n",
    "        TP=conf_matrix[1,1]\n",
    "        sensitivity[idx+1]= TP/(TP + FN)\n",
    "        fpr[idx+1]= FP/(FP + TN)\n",
    "        if(plot_metrics):\n",
    "            accuracy[idx]= (TN + TP)/(TN + FN + FP + TP)\n",
    "            specificity[idx]= TN / (TN + FP)\n",
    "            ppv[idx]= TP/(TP + FP)\n",
    "            npv[idx]= TN/(TN + FN)\n",
    "            fnr[idx]= FN / (FN + TP)\n",
    "    \n",
    "    sensitivity[0]=1 \n",
    "    sensitivity[-1]=0\n",
    "    fpr[0]=1\n",
    "    fpr[-1]=0\n",
    "    roc_auc = metrics.auc(fpr, sensitivity)\n",
    "    if(plot_metrics):\n",
    "       \n",
    "        plt.figure(figsize=[15,10])\n",
    "        plt.plot(np.linspace(0,1,num),accuracy, label='Accuracy')\n",
    "        plt.plot(np.linspace(0,1,num),sensitivity[1:-1], label='Sensitivity or True Positive Rate or Recall')\n",
    "        plt.plot(np.linspace(0,1,num),specificity, label='Specificity')\n",
    "        plt.plot(np.linspace(0,1,num),ppv, label='Positive Predictive Value or Precision ')\n",
    "        plt.plot(np.linspace(0,1,num),npv, label='Negative Predictive Value')\n",
    "        plt.plot(np.linspace(0,1,num),fnr, label='False Negative Rate or Miss Rate')\n",
    "        plt.plot(np.linspace(0,1,num),fpr[1:-1], label='False Positive Rate or Fall-out')\n",
    "        plt.legend()\n",
    "        plt.ylabel('Metric')\n",
    "        plt.xlabel('Threshold')\n",
    "        plt.show()\n",
    "    if(plot_ROC):\n",
    "        plt.plot(fpr,sensitivity,label=\"ROC curve. Area={}\".format(roc_auc))\n",
    "        plt.plot([0, 1], [0, 1], color='navy', lw=2, linestyle='--')\n",
    "        plt.xlabel('False Positive Rate')\n",
    "        plt.ylabel('True Positive Rate')\n",
    "        plt.legend()\n",
    "        plt.show()\n",
    "    cant_obs=len(y_true)\n",
    "    epsilon=1e-9    \n",
    "    loss =  metrics.log_loss(y_true,y_proba)\n",
    "    return roc_auc,loss"
   ]
  },
  {
   "cell_type": "code",
   "execution_count": 76,
   "id": "junior-penguin",
   "metadata": {},
   "outputs": [
    {
     "data": {
      "text/plain": [
       "12357    1.0\n",
       "11095    1.0\n",
       "1695     0.0\n",
       "37287    0.0\n",
       "43390    0.0\n",
       "        ... \n",
       "2685     1.0\n",
       "16384    1.0\n",
       "6227     0.0\n",
       "4897     1.0\n",
       "1730     1.0\n",
       "Name: churn, Length: 8701, dtype: float64"
      ]
     },
     "execution_count": 76,
     "metadata": {},
     "output_type": "execute_result"
    }
   ],
   "source": [
    "y_test"
   ]
  },
  {
   "cell_type": "code",
   "execution_count": 77,
   "id": "brutal-botswana",
   "metadata": {},
   "outputs": [
    {
     "data": {
      "image/png": "[encoded data removed]",
      "text/plain": [
       "<Figure size 1080x720 with 1 Axes>"
      ]
     },
     "metadata": {
      "needs_background": "light"
     },
     "output_type": "display_data"
    },
    {
     "data": {
      "image/png": "[encoded data removed]",
      "text/plain": [
       "<Figure size 432x288 with 1 Axes>"
      ]
     },
     "metadata": {
      "needs_background": "light"
     },
     "output_type": "display_data"
    },
    {
     "data": {
      "text/plain": [
       "(0.8663813170462342, 0.4458455490338316)"
      ]
     },
     "execution_count": 77,
     "metadata": {},
     "output_type": "execute_result"
    }
   ],
   "source": [
    "plot_metrics(y_test,y_pred[:, 1],num=100,plot_metrics=True,plot_ROC=True)"
   ]
  },
  {
   "cell_type": "code",
   "execution_count": 78,
   "id": "impaired-rover",
   "metadata": {},
   "outputs": [
    {
     "data": {
      "text/plain": [
       "Text(0.5, 1.0, 'Confusion Matrix')"
      ]
     },
     "execution_count": 78,
     "metadata": {},
     "output_type": "execute_result"
    },
    {
     "data": {
      "image/png": "[encoded data removed]",
      "text/plain": [
       "<Figure size 432x288 with 2 Axes>"
      ]
     },
     "metadata": {
      "needs_background": "light"
     },
     "output_type": "display_data"
    }
   ],
   "source": [
    "from sklearn.metrics import confusion_matrix\n",
    "sns.heatmap(confusion_matrix(y_test,y_pred[:, 1] > 0.5),annot = True, fmt='g')\n",
    "plt.title('Confusion Matrix')"
   ]
  },
  {
   "cell_type": "code",
   "execution_count": 79,
   "id": "qualified-supplement",
   "metadata": {},
   "outputs": [],
   "source": [
    "from sklearn.metrics import fbeta_score"
   ]
  },
  {
   "cell_type": "code",
   "execution_count": 80,
   "id": "regular-dancing",
   "metadata": {},
   "outputs": [
    {
     "data": {
      "text/plain": [
       "0.8419518783096989"
      ]
     },
     "execution_count": 80,
     "metadata": {},
     "output_type": "execute_result"
    }
   ],
   "source": [
    "fbeta_score(y_test,y_pred[:, 1] > 0.5, beta=0.5)"
   ]
  },
  {
   "cell_type": "code",
   "execution_count": 81,
   "id": "standard-departure",
   "metadata": {},
   "outputs": [
    {
     "data": {
      "image/png": "[encoded data removed]",
      "text/plain": [
       "<Figure size 1080x504 with 1 Axes>"
      ]
     },
     "metadata": {
      "needs_background": "light"
     },
     "output_type": "display_data"
    }
   ],
   "source": [
    "#Log odds plot\n",
    "plt.figure(figsize=(15,7))\n",
    "sns.histplot(np.log (y_pred[y_test==1] / (1 - y_pred[y_test==1])), bins=10,kde=True, stat=\"density\", linewidth=0)\n",
    "plt.tick_params(axis='both', labelsize=25, pad=5)\n",
    "plt.show() "
   ]
  },
  {
   "cell_type": "code",
   "execution_count": 82,
   "id": "material-prescription",
   "metadata": {},
   "outputs": [
    {
     "data": {
      "image/png": "[encoded data removed]",
      "text/plain": [
       "<Figure size 1080x504 with 1 Axes>"
      ]
     },
     "metadata": {
      "needs_background": "light"
     },
     "output_type": "display_data"
    }
   ],
   "source": [
    "plt.figure(figsize=(15,7))\n",
    "sns.histplot(y_pred[y_test==1], bins=10,kde=True, stat=\"density\", linewidth=0)\n",
    "plt.tick_params(axis='both', labelsize=25, pad=5)\n",
    "plt.show() "
   ]
  },
  {
   "cell_type": "markdown",
   "id": "accredited-official",
   "metadata": {},
   "source": [
    "# Feature Importance\n",
    "\n",
    "some feature importance to see which features have more weight in teh classification"
   ]
  },
  {
   "cell_type": "code",
   "execution_count": 84,
   "id": "overhead-crawford",
   "metadata": {},
   "outputs": [],
   "source": [
    "feature_importance = LGBMClassifier(n_estimators=6000,min_child_samples= 5,colsample_bytree = 0.6999953072829577,learning_rate = 0.02359854464876827,max_depth= 24,num_leaves=12)"
   ]
  },
  {
   "cell_type": "code",
   "execution_count": 86,
   "id": "planned-multimedia",
   "metadata": {},
   "outputs": [
    {
     "data": {
      "text/plain": [
       "LGBMClassifier(colsample_bytree=0.6999953072829577,\n",
       "               learning_rate=0.02359854464876827, max_depth=24,\n",
       "               min_child_samples=5, n_estimators=6000, num_leaves=12)"
      ]
     },
     "execution_count": 86,
     "metadata": {},
     "output_type": "execute_result"
    }
   ],
   "source": [
    "feature_importance.fit(data.drop(columns = ['churn']) , data.churn)"
   ]
  },
  {
   "cell_type": "code",
   "execution_count": 92,
   "id": "closed-robin",
   "metadata": {},
   "outputs": [
    {
     "data": {
      "text/plain": [
       "Index(['GENDER', 'TARJETAS', 'ESTADO', 'CITY', 'Rango_edad', '1_trans',\n",
       "       '3_trans', '4_trans', '6_trans', '2_trans', '5_trans', '7_trans',\n",
       "       'total_transactions', 'Discount_Mean', 'sell_id_251693291',\n",
       "       'sell_id_254303242', 'sell_id_295153733', 'sell_id_226295793',\n",
       "       'Cellphone Recharge', 'Transport', 'Instore', 'Utilities',\n",
       "       'Money Transfer', 'last_ml_day', 'last_mp_day', 'INVERSION',\n",
       "       'FREQUENCY_ML', 'RECENCY_ML_DAY', 'RECENCY_ML_MONTH', 'RECENCY_ML_YEAR',\n",
       "       'TotalSpentlog', 'PLATA_CUENTA_1log', 'PLATA_CUENTA_2log',\n",
       "       'SPENT_MLlog', 'MAU_MP_3log', 'MAU_ML_3log', 'MAU_MP_2log',\n",
       "       'MAU_ML_2log', 'MAU_MP_1log', 'MAU_ML_1log', 'Som_Cluster'],\n",
       "      dtype='object')"
      ]
     },
     "execution_count": 92,
     "metadata": {},
     "output_type": "execute_result"
    }
   ],
   "source": [
    "data.drop(columns = ['churn']).columns"
   ]
  },
  {
   "cell_type": "code",
   "execution_count": 93,
   "id": "second-pursuit",
   "metadata": {},
   "outputs": [],
   "source": [
    "feature_imp = pd.DataFrame(sorted(zip(feature_importance.feature_importances_,data.drop(columns = ['churn']).columns)), columns=['Value','Feature'])"
   ]
  },
  {
   "cell_type": "code",
   "execution_count": 95,
   "id": "defensive-doubt",
   "metadata": {},
   "outputs": [
    {
     "data": {
      "image/png": "[encoded data removed]",
      "text/plain": [
       "<Figure size 1440x720 with 1 Axes>"
      ]
     },
     "metadata": {
      "needs_background": "light"
     },
     "output_type": "display_data"
    },
    {
     "data": {
      "text/plain": [
       "<Figure size 432x288 with 0 Axes>"
      ]
     },
     "metadata": {},
     "output_type": "display_data"
    }
   ],
   "source": [
    "plt.figure(figsize=(20, 10))\n",
    "sns.barplot(x=\"Value\", y=\"Feature\", data=feature_imp.sort_values(by=\"Value\", ascending=False))\n",
    "plt.title('LightGBM Features (avg over folds)')\n",
    "plt.tight_layout()\n",
    "plt.show()\n",
    "plt.savefig('lgbm_importances-01.png')"
   ]
  }
 ],
 "metadata": {
  "kernelspec": {
   "display_name": "Python 3",
   "language": "python",
   "name": "python3"
  },
  "language_info": {
   "codemirror_mode": {
    "name": "ipython",
    "version": 3
   },
   "file_extension": ".py",
   "mimetype": "text/x-python",
   "name": "python",
   "nbconvert_exporter": "python",
   "pygments_lexer": "ipython3",
   "version": "3.7.10"
  }
 },
 "nbformat": 4,
 "nbformat_minor": 5
}
