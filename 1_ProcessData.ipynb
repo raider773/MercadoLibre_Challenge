{
 "cells": [
  {
   "cell_type": "code",
   "execution_count": 3,
   "id": "played-intent",
   "metadata": {},
   "outputs": [],
   "source": [
    "import numpy as np\n",
    "import pandas as pd\n",
    "import matplotlib.pyplot as plt\n",
    "import re\n",
    "import datetime\n",
    "import seaborn as sns"
   ]
  },
  {
   "cell_type": "code",
   "execution_count": 4,
   "id": "prepared-cement",
   "metadata": {},
   "outputs": [],
   "source": [
    "pay_data = pd.read_csv('PAYMENTS.CSV')\n",
    "Active_data = pd.read_csv('ACTIVE_USER.CSV')\n",
    "Demographics_data = pd.read_csv('DEMOGRAFICOS.CSV')\n",
    "Account_data = pd.read_csv('DINERO_CUENTA.CSV')\n",
    "Evaluate_data = pd.read_csv('EVALUATE.CSV')\n",
    "MarketPlace_data = pd.read_csv('MARKETPLACE_data.CSV')"
   ]
  },
  {
   "cell_type": "markdown",
   "id": "demographic-association",
   "metadata": {},
   "source": [
    "# Demographics_data"
   ]
  },
  {
   "cell_type": "code",
   "execution_count": 5,
   "id": "humanitarian-spread",
   "metadata": {},
   "outputs": [],
   "source": [
    "#ok ideas.\n",
    "#city tiene 0.05 de nulls. fillna y a dormir\n",
    "#no diferencia caba de capital federal. entiendo que es lo mismo asi que junto\n",
    "#tiene buenos aires y diferencia la plata y otros barrios. fijate eso bien\n",
    "#palermo aparece separado de caba. dejalo separado. por ahi en palermo se hacen mas compras que en el resto de barrios individualmente y por eso esta separado\n",
    "#esta buenos aires y los municipiso separados. por ahi los de buenos aires no encontraron municipio o no importaba\n",
    "#el estado esta bn. algunos muy pocos desp vuelan\n",
    "#el genero hay 2k de unknown. fijate si compran mas o mneos que el promedio. si es lo mismo metelos en algun genero y q no rompan\n",
    "#tarjeta esta bien\n",
    "#en edad tengo que hacer un regex.dejalo en bin y es categorica \n",
    "#hay 2k sin dato.fill con mode?"
   ]
  },
  {
   "cell_type": "code",
   "execution_count": 6,
   "id": "binding-brooks",
   "metadata": {},
   "outputs": [
    {
     "data": {
      "text/html": [
       "<div>\n",
       "<style scoped>\n",
       "    .dataframe tbody tr th:only-of-type {\n",
       "        vertical-align: middle;\n",
       "    }\n",
       "\n",
       "    .dataframe tbody tr th {\n",
       "        vertical-align: top;\n",
       "    }\n",
       "\n",
       "    .dataframe thead th {\n",
       "        text-align: right;\n",
       "    }\n",
       "</style>\n",
       "<table border=\"1\" class=\"dataframe\">\n",
       "  <thead>\n",
       "    <tr style=\"text-align: right;\">\n",
       "      <th></th>\n",
       "      <th>CITY</th>\n",
       "      <th>CUS_CUST_ID_BUY</th>\n",
       "      <th>GENDER</th>\n",
       "      <th>RANGO_EDAD</th>\n",
       "      <th>TARJETAS</th>\n",
       "      <th>ESTADO</th>\n",
       "    </tr>\n",
       "  </thead>\n",
       "  <tbody>\n",
       "    <tr>\n",
       "      <th>0</th>\n",
       "      <td>caba</td>\n",
       "      <td>47629682</td>\n",
       "      <td>male</td>\n",
       "      <td>03.Entre 26 y 30 años</td>\n",
       "      <td>Credit Card</td>\n",
       "      <td>capital federal</td>\n",
       "    </tr>\n",
       "    <tr>\n",
       "      <th>1</th>\n",
       "      <td>belen de escobar</td>\n",
       "      <td>184288617</td>\n",
       "      <td>male</td>\n",
       "      <td>03.Entre 26 y 30 años</td>\n",
       "      <td>Account Money</td>\n",
       "      <td>buenos aires</td>\n",
       "    </tr>\n",
       "    <tr>\n",
       "      <th>2</th>\n",
       "      <td>san fernando del valle de catamarca</td>\n",
       "      <td>134359455</td>\n",
       "      <td>female</td>\n",
       "      <td>03.Entre 26 y 30 años</td>\n",
       "      <td>Debit Card</td>\n",
       "      <td>catamarca</td>\n",
       "    </tr>\n",
       "    <tr>\n",
       "      <th>3</th>\n",
       "      <td>lomas de zamora</td>\n",
       "      <td>126256149</td>\n",
       "      <td>female</td>\n",
       "      <td>07.Entre 56 y 65 años</td>\n",
       "      <td>Account Money</td>\n",
       "      <td>buenos aires</td>\n",
       "    </tr>\n",
       "    <tr>\n",
       "      <th>4</th>\n",
       "      <td>villa manzano</td>\n",
       "      <td>447582139</td>\n",
       "      <td>male</td>\n",
       "      <td>02.Entre 18 y 25 años</td>\n",
       "      <td>Debit Card</td>\n",
       "      <td>rio negro</td>\n",
       "    </tr>\n",
       "  </tbody>\n",
       "</table>\n",
       "</div>"
      ],
      "text/plain": [
       "                                  CITY  CUS_CUST_ID_BUY  GENDER  \\\n",
       "0                                 caba         47629682    male   \n",
       "1                     belen de escobar        184288617    male   \n",
       "2  san fernando del valle de catamarca        134359455  female   \n",
       "3                      lomas de zamora        126256149  female   \n",
       "4                        villa manzano        447582139    male   \n",
       "\n",
       "              RANGO_EDAD       TARJETAS           ESTADO  \n",
       "0  03.Entre 26 y 30 años    Credit Card  capital federal  \n",
       "1  03.Entre 26 y 30 años  Account Money     buenos aires  \n",
       "2  03.Entre 26 y 30 años     Debit Card        catamarca  \n",
       "3  07.Entre 56 y 65 años  Account Money     buenos aires  \n",
       "4  02.Entre 18 y 25 años     Debit Card        rio negro  "
      ]
     },
     "execution_count": 6,
     "metadata": {},
     "output_type": "execute_result"
    }
   ],
   "source": [
    "Demographics_data.head()"
   ]
  },
  {
   "cell_type": "code",
   "execution_count": 7,
   "id": "wound-somalia",
   "metadata": {},
   "outputs": [
    {
     "name": "stdout",
     "output_type": "stream",
     "text": [
      "<class 'pandas.core.frame.DataFrame'>\n",
      "RangeIndex: 30466 entries, 0 to 30465\n",
      "Data columns (total 6 columns):\n",
      " #   Column           Non-Null Count  Dtype \n",
      "---  ------           --------------  ----- \n",
      " 0   CITY             28711 non-null  object\n",
      " 1   CUS_CUST_ID_BUY  30466 non-null  int64 \n",
      " 2   GENDER           30466 non-null  object\n",
      " 3   RANGO_EDAD       30466 non-null  object\n",
      " 4   TARJETAS         30466 non-null  object\n",
      " 5   ESTADO           30466 non-null  object\n",
      "dtypes: int64(1), object(5)\n",
      "memory usage: 1.4+ MB\n"
     ]
    }
   ],
   "source": [
    "Demographics_data.info()"
   ]
  },
  {
   "cell_type": "code",
   "execution_count": 8,
   "id": "forty-audience",
   "metadata": {},
   "outputs": [
    {
     "data": {
      "text/plain": [
       "CITY               0.057605\n",
       "CUS_CUST_ID_BUY    0.000000\n",
       "GENDER             0.000000\n",
       "RANGO_EDAD         0.000000\n",
       "TARJETAS           0.000000\n",
       "ESTADO             0.000000\n",
       "dtype: float64"
      ]
     },
     "execution_count": 8,
     "metadata": {},
     "output_type": "execute_result"
    }
   ],
   "source": [
    "Demographics_data.isnull().sum()/Demographics_data.shape[0]"
   ]
  },
  {
   "cell_type": "code",
   "execution_count": 9,
   "id": "treated-prayer",
   "metadata": {},
   "outputs": [
    {
     "data": {
      "text/plain": [
       "caba                             1784\n",
       "capital federal                  1440\n",
       "buenos aires                      672\n",
       "cordoba                           521\n",
       "la plata                          481\n",
       "                                 ... \n",
       "capital barrio la cruz              1\n",
       "portezuelo                          1\n",
       "barrio norte, capital federal       1\n",
       "avellaneda dominico                 1\n",
       "cachari                             1\n",
       "Name: CITY, Length: 3155, dtype: int64"
      ]
     },
     "execution_count": 9,
     "metadata": {},
     "output_type": "execute_result"
    }
   ],
   "source": [
    "Demographics_data.CITY.value_counts()"
   ]
  },
  {
   "cell_type": "code",
   "execution_count": 10,
   "id": "domestic-vatican",
   "metadata": {},
   "outputs": [
    {
     "data": {
      "text/plain": [
       "rosario                              416\n",
       "palermo                              375\n",
       "mar del plata                        368\n",
       "lomas de zamora                      265\n",
       "moreno                               257\n",
       "                                    ... \n",
       "fatima                                 1\n",
       "villa parque caseros 3 de febrero      1\n",
       "beraxatrhui                            1\n",
       "villa elisa barrio el rincon           1\n",
       "villa ocanpo varrio norte              1\n",
       "Name: CITY, Length: 3150, dtype: int64"
      ]
     },
     "execution_count": 10,
     "metadata": {},
     "output_type": "execute_result"
    }
   ],
   "source": [
    "Demographics_data.CITY[(Demographics_data.CITY != 'caba') & (Demographics_data.CITY != 'capital federal') & \n",
    "                       (Demographics_data.CITY != 'buenos aires') & (Demographics_data.CITY != 'la plata')\n",
    "                      & (Demographics_data.CITY != 'cordoba')].value_counts()"
   ]
  },
  {
   "cell_type": "code",
   "execution_count": 11,
   "id": "informed-tumor",
   "metadata": {},
   "outputs": [],
   "source": [
    "patern_caba = r'\\.*capital federal\\.*'\n",
    "patern_caba_regex = re.compile(patern_caba,re.IGNORECASE)\n",
    "caba_Column = Demographics_data.CITY.apply(lambda x: x if x is np.NaN else patern_caba_regex.sub('caba',x))\n",
    "Demographics_data[\"caba_Ok\"] = caba_Column"
   ]
  },
  {
   "cell_type": "code",
   "execution_count": 12,
   "id": "distributed-publication",
   "metadata": {},
   "outputs": [
    {
     "data": {
      "text/plain": [
       "caba                             3224\n",
       "buenos aires                      672\n",
       "cordoba                           521\n",
       "la plata                          481\n",
       "rosario                           416\n",
       "                                 ... \n",
       "corrientesarazaty                   1\n",
       "comandante luis jorge fontana       1\n",
       "racedo                              1\n",
       "alem y cordoba                      1\n",
       "villa ocanpo varrio norte           1\n",
       "Name: caba_Ok, Length: 3147, dtype: int64"
      ]
     },
     "execution_count": 12,
     "metadata": {},
     "output_type": "execute_result"
    }
   ],
   "source": [
    "Demographics_data.caba_Ok.value_counts()"
   ]
  },
  {
   "cell_type": "code",
   "execution_count": 13,
   "id": "valid-metadata",
   "metadata": {},
   "outputs": [
    {
     "data": {
      "text/plain": [
       "3224"
      ]
     },
     "execution_count": 13,
     "metadata": {},
     "output_type": "execute_result"
    }
   ],
   "source": [
    "1784 + 1440"
   ]
  },
  {
   "cell_type": "code",
   "execution_count": 14,
   "id": "natural-privilege",
   "metadata": {},
   "outputs": [],
   "source": [
    "Demographics_data.caba_Ok.fillna('buenos aires',inplace = True)"
   ]
  },
  {
   "cell_type": "code",
   "execution_count": 15,
   "id": "understood-major",
   "metadata": {},
   "outputs": [
    {
     "data": {
      "text/plain": [
       "buenos aires            13367\n",
       "capital federal          8455\n",
       "cordoba                  1356\n",
       "santa fe                 1202\n",
       "mendoza                   622\n",
       "entre rios                579\n",
       "tucuman                   434\n",
       "rio negro                 392\n",
       "neuquen                   391\n",
       "misiones                  391\n",
       "salta                     378\n",
       "corrientes                367\n",
       "chaco                     363\n",
       "san luis                  283\n",
       "chubut                    279\n",
       "san juan                  267\n",
       "santa cruz                242\n",
       "formosa                   216\n",
       "jujuy                     209\n",
       "la rioja                  146\n",
       "gran buenos aires         132\n",
       "catamarca                 126\n",
       "santiago del estero       124\n",
       "la pampa                  108\n",
       "tierra del fuego           25\n",
       "virginia                    6\n",
       "alto parana                 1\n",
       "são paulo                   1\n",
       "minnesota                   1\n",
       "bs.as. g.b.a. norte         1\n",
       "buenos aires interio        1\n",
       "nuevo leon                  1\n",
       "Name: ESTADO, dtype: int64"
      ]
     },
     "execution_count": 15,
     "metadata": {},
     "output_type": "execute_result"
    }
   ],
   "source": [
    "Demographics_data.ESTADO.value_counts()"
   ]
  },
  {
   "cell_type": "code",
   "execution_count": 16,
   "id": "sized-peoples",
   "metadata": {},
   "outputs": [
    {
     "data": {
      "text/plain": [
       "male       0.522353\n",
       "female     0.419123\n",
       "Unknown    0.058524\n",
       "Name: GENDER, dtype: float64"
      ]
     },
     "execution_count": 16,
     "metadata": {},
     "output_type": "execute_result"
    }
   ],
   "source": [
    "Demographics_data.GENDER.value_counts()/Demographics_data.shape[0]"
   ]
  },
  {
   "cell_type": "code",
   "execution_count": 17,
   "id": "altered-vegetation",
   "metadata": {},
   "outputs": [
    {
     "data": {
      "text/plain": [
       "male       15914\n",
       "female     12769\n",
       "Unknown     1783\n",
       "Name: GENDER, dtype: int64"
      ]
     },
     "execution_count": 17,
     "metadata": {},
     "output_type": "execute_result"
    }
   ],
   "source": [
    "Demographics_data.GENDER.value_counts()"
   ]
  },
  {
   "cell_type": "code",
   "execution_count": 18,
   "id": "therapeutic-candy",
   "metadata": {},
   "outputs": [
    {
     "data": {
      "text/plain": [
       "Credit Card         14308\n",
       "Account Money        7717\n",
       "Debit Card           7440\n",
       "Ticket                945\n",
       "Bank Transfer          20\n",
       "digital_currency       19\n",
       "ATM                    17\n",
       "Name: TARJETAS, dtype: int64"
      ]
     },
     "execution_count": 18,
     "metadata": {},
     "output_type": "execute_result"
    }
   ],
   "source": [
    "Demographics_data.TARJETAS.value_counts()"
   ]
  },
  {
   "cell_type": "code",
   "execution_count": 19,
   "id": "attractive-joseph",
   "metadata": {},
   "outputs": [
    {
     "data": {
      "text/plain": [
       "06.Entre 41 y 55 años    6822\n",
       "04.Entre 31 y 35 años    5155\n",
       "03.Entre 26 y 30 años    5072\n",
       "05.Entre 36 y 40 años    4331\n",
       "02.Entre 18 y 25 años    4246\n",
       "00. Sin Dato             2700\n",
       "07.Entre 56 y 65 años    1545\n",
       "08.Mayor de 65 años       541\n",
       "01.Menor de 18 años        54\n",
       "Name: RANGO_EDAD, dtype: int64"
      ]
     },
     "execution_count": 19,
     "metadata": {},
     "output_type": "execute_result"
    }
   ],
   "source": [
    "Demographics_data.RANGO_EDAD.value_counts()"
   ]
  },
  {
   "cell_type": "code",
   "execution_count": 20,
   "id": "bearing-wrist",
   "metadata": {},
   "outputs": [],
   "source": [
    "Demographics_data['edad_sin_null'] = Demographics_data.RANGO_EDAD.replace (to_replace='00. Sin Dato', value='06.Entre 41 y 55 años')"
   ]
  },
  {
   "cell_type": "code",
   "execution_count": 21,
   "id": "dedicated-specification",
   "metadata": {},
   "outputs": [
    {
     "data": {
      "text/plain": [
       "06.Entre 41 y 55 años    9522\n",
       "04.Entre 31 y 35 años    5155\n",
       "03.Entre 26 y 30 años    5072\n",
       "05.Entre 36 y 40 años    4331\n",
       "02.Entre 18 y 25 años    4246\n",
       "07.Entre 56 y 65 años    1545\n",
       "08.Mayor de 65 años       541\n",
       "01.Menor de 18 años        54\n",
       "Name: edad_sin_null, dtype: int64"
      ]
     },
     "execution_count": 21,
     "metadata": {},
     "output_type": "execute_result"
    }
   ],
   "source": [
    "Demographics_data['edad_sin_null'].value_counts()"
   ]
  },
  {
   "cell_type": "code",
   "execution_count": 22,
   "id": "excess-uniform",
   "metadata": {},
   "outputs": [],
   "source": [
    "Demographics_data['edad_split'] = Demographics_data['edad_sin_null'].str.split()"
   ]
  },
  {
   "cell_type": "code",
   "execution_count": 23,
   "id": "registered-audio",
   "metadata": {},
   "outputs": [
    {
     "data": {
      "text/plain": [
       "0        [03.Entre, 26, y, 30, años]\n",
       "1        [03.Entre, 26, y, 30, años]\n",
       "2        [03.Entre, 26, y, 30, años]\n",
       "3        [07.Entre, 56, y, 65, años]\n",
       "4        [02.Entre, 18, y, 25, años]\n",
       "                    ...             \n",
       "30461    [02.Entre, 18, y, 25, años]\n",
       "30462    [06.Entre, 41, y, 55, años]\n",
       "30463    [06.Entre, 41, y, 55, años]\n",
       "30464    [03.Entre, 26, y, 30, años]\n",
       "30465    [07.Entre, 56, y, 65, años]\n",
       "Name: edad_split, Length: 30466, dtype: object"
      ]
     },
     "execution_count": 23,
     "metadata": {},
     "output_type": "execute_result"
    }
   ],
   "source": [
    "Demographics_data['edad_split']"
   ]
  },
  {
   "cell_type": "code",
   "execution_count": 24,
   "id": "surgical-messenger",
   "metadata": {},
   "outputs": [],
   "source": [
    "Demographics_data['Edad_ok'] = Demographics_data['edad_split'].apply(lambda x: '{}-{}'.format(x[1],x[3]))"
   ]
  },
  {
   "cell_type": "code",
   "execution_count": 25,
   "id": "smooth-sterling",
   "metadata": {},
   "outputs": [
    {
     "data": {
      "text/plain": [
       "41-55      9522\n",
       "31-35      5155\n",
       "26-30      5072\n",
       "36-40      4331\n",
       "18-25      4246\n",
       "56-65      1545\n",
       "de-años     595\n",
       "Name: Edad_ok, dtype: int64"
      ]
     },
     "execution_count": 25,
     "metadata": {},
     "output_type": "execute_result"
    }
   ],
   "source": [
    "Demographics_data.Edad_ok.value_counts()"
   ]
  },
  {
   "cell_type": "code",
   "execution_count": 26,
   "id": "exempt-smooth",
   "metadata": {},
   "outputs": [],
   "source": [
    "Demographics_data['Edad_ok'] = Demographics_data.Edad_ok.replace (to_replace='de-años', value='0-18')"
   ]
  },
  {
   "cell_type": "code",
   "execution_count": 27,
   "id": "limited-superior",
   "metadata": {},
   "outputs": [
    {
     "data": {
      "text/plain": [
       "41-55    9522\n",
       "31-35    5155\n",
       "26-30    5072\n",
       "36-40    4331\n",
       "18-25    4246\n",
       "56-65    1545\n",
       "0-18      595\n",
       "Name: Edad_ok, dtype: int64"
      ]
     },
     "execution_count": 27,
     "metadata": {},
     "output_type": "execute_result"
    }
   ],
   "source": [
    "Demographics_data.Edad_ok.value_counts()"
   ]
  },
  {
   "cell_type": "code",
   "execution_count": 28,
   "id": "united-oklahoma",
   "metadata": {},
   "outputs": [],
   "source": [
    "Demographics_data.drop(columns = ['CITY','RANGO_EDAD','edad_sin_null','edad_split'],inplace = True)"
   ]
  },
  {
   "cell_type": "code",
   "execution_count": 29,
   "id": "running-loading",
   "metadata": {},
   "outputs": [],
   "source": [
    "Demographics_data.rename(columns = {'caba_Ok':'CITY','Edad_ok': 'Rango_edad'},inplace = True)"
   ]
  },
  {
   "cell_type": "code",
   "execution_count": 30,
   "id": "declared-ordering",
   "metadata": {},
   "outputs": [
    {
     "data": {
      "text/plain": [
       "186580992    1\n",
       "204317409    1\n",
       "139883259    1\n",
       "295074554    1\n",
       "63997360     1\n",
       "            ..\n",
       "314928358    1\n",
       "75232852     1\n",
       "332274996    1\n",
       "1099346      1\n",
       "142084095    1\n",
       "Name: CUS_CUST_ID_BUY, Length: 30466, dtype: int64"
      ]
     },
     "execution_count": 30,
     "metadata": {},
     "output_type": "execute_result"
    }
   ],
   "source": [
    "Demographics_data.CUS_CUST_ID_BUY.value_counts()"
   ]
  },
  {
   "cell_type": "code",
   "execution_count": 31,
   "id": "sitting-metropolitan",
   "metadata": {},
   "outputs": [
    {
     "name": "stdout",
     "output_type": "stream",
     "text": [
      "<class 'pandas.core.frame.DataFrame'>\n",
      "RangeIndex: 30466 entries, 0 to 30465\n",
      "Data columns (total 6 columns):\n",
      " #   Column           Non-Null Count  Dtype \n",
      "---  ------           --------------  ----- \n",
      " 0   CUS_CUST_ID_BUY  30466 non-null  int64 \n",
      " 1   GENDER           30466 non-null  object\n",
      " 2   TARJETAS         30466 non-null  object\n",
      " 3   ESTADO           30466 non-null  object\n",
      " 4   CITY             30466 non-null  object\n",
      " 5   Rango_edad       30466 non-null  object\n",
      "dtypes: int64(1), object(5)\n",
      "memory usage: 1.4+ MB\n"
     ]
    }
   ],
   "source": [
    "Demographics_data.info()"
   ]
  },
  {
   "cell_type": "markdown",
   "id": "incorporated-islam",
   "metadata": {},
   "source": [
    "# pay_data"
   ]
  },
  {
   "cell_type": "code",
   "execution_count": 32,
   "id": "frank-cover",
   "metadata": {},
   "outputs": [],
   "source": [
    "#ideas\n",
    "\n",
    "#contar cuantas compras hizo\n",
    "#sacar el porcentuaje promedio de descuento que tuvo el tipo\n",
    "#el total de lo que gasto\n",
    "#4 columnas con la cantidad que hizo en trasnporte,celu,qr y servicios\n",
    "#un par metieron 2.5k de transacciones dales el premio al consumidor del mes\n",
    "#la fecha va del 1 al 7. 7 meses. por ahi poner transacciones de cada mes en ves de todo junto (o por ahi trimestre para que no sea tanto)\n",
    "#pongamos 4 columnas con si o no si le compro a los 4 id que mas venden\n",
    "\n",
    "#mes 6 y 5 fiestas? estaria bueno poner como una feature dias de descuento o dias que la gente haga regalos y poner cuantos dias antes\n",
    "#y despues hacen en promedio por ahi. tipo este flaco suele comprar en cualquier momento o este tipo solo compra en epocas cercanas\n",
    "#a regalar cosas o solo cuando hay descuentos. por ahi decis churn 1 pero en realidad el tipo va a volver en fiestas o en descuentos"
   ]
  },
  {
   "cell_type": "code",
   "execution_count": 33,
   "id": "social-messaging",
   "metadata": {},
   "outputs": [
    {
     "data": {
      "text/html": [
       "<div>\n",
       "<style scoped>\n",
       "    .dataframe tbody tr th:only-of-type {\n",
       "        vertical-align: middle;\n",
       "    }\n",
       "\n",
       "    .dataframe tbody tr th {\n",
       "        vertical-align: top;\n",
       "    }\n",
       "\n",
       "    .dataframe thead th {\n",
       "        text-align: right;\n",
       "    }\n",
       "</style>\n",
       "<table border=\"1\" class=\"dataframe\">\n",
       "  <thead>\n",
       "    <tr style=\"text-align: right;\">\n",
       "      <th></th>\n",
       "      <th>FECHA</th>\n",
       "      <th>CUS_CUST_ID_SEL</th>\n",
       "      <th>CUS_CUST_ID_BUY</th>\n",
       "      <th>SPENT</th>\n",
       "      <th>TPV_SEGMENT_DETAIL</th>\n",
       "      <th>DESCUENTO</th>\n",
       "    </tr>\n",
       "  </thead>\n",
       "  <tbody>\n",
       "    <tr>\n",
       "      <th>0</th>\n",
       "      <td>2019-05-25</td>\n",
       "      <td>314941456</td>\n",
       "      <td>20663512</td>\n",
       "      <td>11.3566</td>\n",
       "      <td>Instore</td>\n",
       "      <td>2.2312</td>\n",
       "    </tr>\n",
       "    <tr>\n",
       "      <th>1</th>\n",
       "      <td>2019-06-20</td>\n",
       "      <td>251693291</td>\n",
       "      <td>444286946</td>\n",
       "      <td>4.6190</td>\n",
       "      <td>Transport</td>\n",
       "      <td>0.9238</td>\n",
       "    </tr>\n",
       "  </tbody>\n",
       "</table>\n",
       "</div>"
      ],
      "text/plain": [
       "        FECHA  CUS_CUST_ID_SEL  CUS_CUST_ID_BUY    SPENT TPV_SEGMENT_DETAIL  \\\n",
       "0  2019-05-25        314941456         20663512  11.3566            Instore   \n",
       "1  2019-06-20        251693291        444286946   4.6190          Transport   \n",
       "\n",
       "   DESCUENTO  \n",
       "0     2.2312  \n",
       "1     0.9238  "
      ]
     },
     "execution_count": 33,
     "metadata": {},
     "output_type": "execute_result"
    }
   ],
   "source": [
    "pay_data.head(2)"
   ]
  },
  {
   "cell_type": "code",
   "execution_count": 34,
   "id": "romantic-psychology",
   "metadata": {},
   "outputs": [
    {
     "data": {
      "text/plain": [
       "313138772    2700\n",
       "211115419    2477\n",
       "237755472    1579\n",
       "356174727    1166\n",
       "201543339    1138\n",
       "             ... \n",
       "17199580        1\n",
       "17361423        1\n",
       "184164950       1\n",
       "436890207       1\n",
       "443549695       1\n",
       "Name: CUS_CUST_ID_BUY, Length: 43502, dtype: int64"
      ]
     },
     "execution_count": 34,
     "metadata": {},
     "output_type": "execute_result"
    }
   ],
   "source": [
    "pay_data.CUS_CUST_ID_BUY.value_counts()"
   ]
  },
  {
   "cell_type": "code",
   "execution_count": 35,
   "id": "announced-regression",
   "metadata": {},
   "outputs": [
    {
     "data": {
      "text/plain": [
       "'2019-01-01'"
      ]
     },
     "execution_count": 35,
     "metadata": {},
     "output_type": "execute_result"
    }
   ],
   "source": [
    "pay_data.FECHA.min()"
   ]
  },
  {
   "cell_type": "code",
   "execution_count": 36,
   "id": "hollywood-whole",
   "metadata": {},
   "outputs": [
    {
     "data": {
      "text/plain": [
       "'2019-07-01'"
      ]
     },
     "execution_count": 36,
     "metadata": {},
     "output_type": "execute_result"
    }
   ],
   "source": [
    "pay_data.FECHA.max()"
   ]
  },
  {
   "cell_type": "code",
   "execution_count": 37,
   "id": "another-virus",
   "metadata": {},
   "outputs": [
    {
     "data": {
      "text/plain": [
       "251693291    141306\n",
       "254303242    115114\n",
       "295153733     58086\n",
       "226295793     57262\n",
       "362615356     16117\n",
       "              ...  \n",
       "423556858         1\n",
       "256796392         1\n",
       "89493697          1\n",
       "267120217         1\n",
       "257637991         1\n",
       "Name: CUS_CUST_ID_SEL, Length: 37389, dtype: int64"
      ]
     },
     "execution_count": 37,
     "metadata": {},
     "output_type": "execute_result"
    }
   ],
   "source": [
    "pay_data.CUS_CUST_ID_SEL.value_counts()"
   ]
  },
  {
   "cell_type": "code",
   "execution_count": 38,
   "id": "regional-brook",
   "metadata": {},
   "outputs": [
    {
     "data": {
      "text/plain": [
       "Cellphone Recharge      173199\n",
       "Transport               141306\n",
       "Instore                 138801\n",
       "Utilities                57262\n",
       "Money Transfer           44946\n",
       "Other Single Players         2\n",
       "Name: TPV_SEGMENT_DETAIL, dtype: int64"
      ]
     },
     "execution_count": 38,
     "metadata": {},
     "output_type": "execute_result"
    }
   ],
   "source": [
    "pay_data.TPV_SEGMENT_DETAIL.value_counts() "
   ]
  },
  {
   "cell_type": "code",
   "execution_count": 39,
   "id": "mysterious-framing",
   "metadata": {},
   "outputs": [
    {
     "name": "stdout",
     "output_type": "stream",
     "text": [
      "<class 'pandas.core.frame.DataFrame'>\n",
      "RangeIndex: 555516 entries, 0 to 555515\n",
      "Data columns (total 6 columns):\n",
      " #   Column              Non-Null Count   Dtype  \n",
      "---  ------              --------------   -----  \n",
      " 0   FECHA               555516 non-null  object \n",
      " 1   CUS_CUST_ID_SEL     555516 non-null  int64  \n",
      " 2   CUS_CUST_ID_BUY     555516 non-null  int64  \n",
      " 3   SPENT               555516 non-null  float64\n",
      " 4   TPV_SEGMENT_DETAIL  555516 non-null  object \n",
      " 5   DESCUENTO           555516 non-null  float64\n",
      "dtypes: float64(2), int64(2), object(2)\n",
      "memory usage: 25.4+ MB\n"
     ]
    }
   ],
   "source": [
    "pay_data.info()"
   ]
  },
  {
   "cell_type": "code",
   "execution_count": 40,
   "id": "distributed-breast",
   "metadata": {},
   "outputs": [],
   "source": [
    "pay_data['month'] = pd.DatetimeIndex(pay_data['FECHA']).month"
   ]
  },
  {
   "cell_type": "code",
   "execution_count": 41,
   "id": "hydraulic-hampton",
   "metadata": {},
   "outputs": [
    {
     "data": {
      "text/plain": [
       "6    133231\n",
       "5    114521\n",
       "4     93275\n",
       "3     81098\n",
       "2     65086\n",
       "1     62406\n",
       "7      5899\n",
       "Name: month, dtype: int64"
      ]
     },
     "execution_count": 41,
     "metadata": {},
     "output_type": "execute_result"
    }
   ],
   "source": [
    "pay_data.month.value_counts() "
   ]
  },
  {
   "cell_type": "code",
   "execution_count": 42,
   "id": "healthy-ordinary",
   "metadata": {},
   "outputs": [],
   "source": [
    "list_uniques = pay_data.CUS_CUST_ID_BUY.unique()"
   ]
  },
  {
   "cell_type": "code",
   "execution_count": 43,
   "id": "bronze-committee",
   "metadata": {},
   "outputs": [],
   "source": [
    "list_months = [1,2,3,4,5,6,7]\n",
    "def get_months_ammount(ID):\n",
    "    r = pay_data.month[pay_data.CUS_CUST_ID_BUY == ID].value_counts()    \n",
    "    z = pd.DataFrame(r).transpose()\n",
    "    \n",
    "    for x in list_months:\n",
    "        if x not in z.columns:\n",
    "            z[x] = 0\n",
    "    z =  z.assign(CUS_CUST_ID_BUY = ID).reset_index(drop=True)\n",
    "    return z"
   ]
  },
  {
   "cell_type": "code",
   "execution_count": 44,
   "id": "afraid-industry",
   "metadata": {},
   "outputs": [],
   "source": [
    "dataframe_months = pd.DataFrame()"
   ]
  },
  {
   "cell_type": "code",
   "execution_count": 45,
   "id": "developing-poetry",
   "metadata": {},
   "outputs": [],
   "source": [
    "for x in list_uniques:\n",
    "    data = get_months_ammount(x)\n",
    "    dataframe_months = dataframe_months.append(data)    "
   ]
  },
  {
   "cell_type": "code",
   "execution_count": 46,
   "id": "visible-desperate",
   "metadata": {},
   "outputs": [],
   "source": [
    "for x in pay_data.CUS_CUST_ID_BUY.unique():\n",
    "    if x not in dataframe_months.CUS_CUST_ID_BUY.unique():\n",
    "        print(x)"
   ]
  },
  {
   "cell_type": "code",
   "execution_count": 47,
   "id": "altered-technician",
   "metadata": {},
   "outputs": [],
   "source": [
    "pay_data = pay_data.merge(dataframe_months, on = 'CUS_CUST_ID_BUY' )"
   ]
  },
  {
   "cell_type": "code",
   "execution_count": 48,
   "id": "official-virginia",
   "metadata": {},
   "outputs": [],
   "source": [
    "pay_data = pay_data.drop(columns = ['FECHA','month']).rename(columns = {1:'1_trans',2:'2_trans',3:'3_trans',4:'4_trans',5:'5_trans',6:'6_trans',7:'7_trans'})"
   ]
  },
  {
   "cell_type": "code",
   "execution_count": 49,
   "id": "demonstrated-tumor",
   "metadata": {},
   "outputs": [],
   "source": [
    "pay_data['total_transactions'] = pay_data[['1_trans','3_trans','4_trans','6_trans','2_trans','5_trans','7_trans']].sum(axis = 1)"
   ]
  },
  {
   "cell_type": "code",
   "execution_count": 50,
   "id": "incident-korean",
   "metadata": {},
   "outputs": [],
   "source": [
    "total_spent = pay_data[['CUS_CUST_ID_BUY','SPENT']].groupby('CUS_CUST_ID_BUY').sum()"
   ]
  },
  {
   "cell_type": "code",
   "execution_count": 51,
   "id": "sudden-socket",
   "metadata": {},
   "outputs": [],
   "source": [
    "total_spent['CUS_CUST_ID_BUY'] = total_spent.index"
   ]
  },
  {
   "cell_type": "code",
   "execution_count": 52,
   "id": "brown-biodiversity",
   "metadata": {},
   "outputs": [],
   "source": [
    "total_spent = total_spent.reset_index(drop = True)"
   ]
  },
  {
   "cell_type": "code",
   "execution_count": 53,
   "id": "rural-indonesia",
   "metadata": {},
   "outputs": [],
   "source": [
    "pay_data = pay_data.merge(total_spent, on = 'CUS_CUST_ID_BUY').rename(columns = {'SPENT_y':'TotalSpent'})"
   ]
  },
  {
   "cell_type": "code",
   "execution_count": 54,
   "id": "emerging-beaver",
   "metadata": {},
   "outputs": [],
   "source": [
    "r = pay_data[['DESCUENTO','SPENT_x','CUS_CUST_ID_BUY']]"
   ]
  },
  {
   "cell_type": "code",
   "execution_count": 55,
   "id": "beginning-overhead",
   "metadata": {},
   "outputs": [
    {
     "name": "stderr",
     "output_type": "stream",
     "text": [
      "C:\\Users\\gonzalo\\.conda\\envs\\personales\\lib\\site-packages\\ipykernel_launcher.py:1: SettingWithCopyWarning: \n",
      "A value is trying to be set on a copy of a slice from a DataFrame.\n",
      "Try using .loc[row_indexer,col_indexer] = value instead\n",
      "\n",
      "See the caveats in the documentation: https://pandas.pydata.org/pandas-docs/stable/user_guide/indexing.html#returning-a-view-versus-a-copy\n",
      "  \"\"\"Entry point for launching an IPython kernel.\n"
     ]
    }
   ],
   "source": [
    "r['desc_porc'] = (r['DESCUENTO']  * 100 )/(r['DESCUENTO'] + r['SPENT_x'])"
   ]
  },
  {
   "cell_type": "code",
   "execution_count": 56,
   "id": "square-cleaner",
   "metadata": {},
   "outputs": [
    {
     "name": "stderr",
     "output_type": "stream",
     "text": [
      "C:\\Users\\gonzalo\\.conda\\envs\\personales\\lib\\site-packages\\pandas\\core\\frame.py:4315: SettingWithCopyWarning: \n",
      "A value is trying to be set on a copy of a slice from a DataFrame\n",
      "\n",
      "See the caveats in the documentation: https://pandas.pydata.org/pandas-docs/stable/user_guide/indexing.html#returning-a-view-versus-a-copy\n",
      "  errors=errors,\n"
     ]
    }
   ],
   "source": [
    "r.drop(columns =['DESCUENTO','SPENT_x'],inplace = True)"
   ]
  },
  {
   "cell_type": "code",
   "execution_count": 57,
   "id": "technological-director",
   "metadata": {},
   "outputs": [],
   "source": [
    "discount_group = r.groupby('CUS_CUST_ID_BUY').mean()"
   ]
  },
  {
   "cell_type": "code",
   "execution_count": 58,
   "id": "novel-joseph",
   "metadata": {},
   "outputs": [],
   "source": [
    "discount_group['CUS_CUST_ID_BUY'] = discount_group.index"
   ]
  },
  {
   "cell_type": "code",
   "execution_count": 59,
   "id": "important-supervisor",
   "metadata": {},
   "outputs": [],
   "source": [
    "discount_group = discount_group.reset_index(drop = True)"
   ]
  },
  {
   "cell_type": "code",
   "execution_count": 60,
   "id": "silver-masters",
   "metadata": {},
   "outputs": [],
   "source": [
    "pay_data = pay_data.merge(discount_group, on = 'CUS_CUST_ID_BUY').rename(columns = {'desc_porc':'Discount_Mean'})"
   ]
  },
  {
   "cell_type": "code",
   "execution_count": 61,
   "id": "loose-refrigerator",
   "metadata": {},
   "outputs": [],
   "source": [
    "id_sell_data = pay_data[(pay_data.CUS_CUST_ID_SEL == 251693291)|(pay_data.CUS_CUST_ID_SEL == 254303242)|(pay_data.CUS_CUST_ID_SEL == 295153733)|(pay_data.CUS_CUST_ID_SEL == 226295793)]"
   ]
  },
  {
   "cell_type": "code",
   "execution_count": 62,
   "id": "sufficient-walker",
   "metadata": {},
   "outputs": [
    {
     "data": {
      "text/html": [
       "<div>\n",
       "<style scoped>\n",
       "    .dataframe tbody tr th:only-of-type {\n",
       "        vertical-align: middle;\n",
       "    }\n",
       "\n",
       "    .dataframe tbody tr th {\n",
       "        vertical-align: top;\n",
       "    }\n",
       "\n",
       "    .dataframe thead th {\n",
       "        text-align: right;\n",
       "    }\n",
       "</style>\n",
       "<table border=\"1\" class=\"dataframe\">\n",
       "  <thead>\n",
       "    <tr style=\"text-align: right;\">\n",
       "      <th></th>\n",
       "      <th>CUS_CUST_ID_SEL</th>\n",
       "      <th>CUS_CUST_ID_BUY</th>\n",
       "      <th>SPENT_x</th>\n",
       "      <th>TPV_SEGMENT_DETAIL</th>\n",
       "      <th>DESCUENTO</th>\n",
       "      <th>1_trans</th>\n",
       "      <th>3_trans</th>\n",
       "      <th>4_trans</th>\n",
       "      <th>6_trans</th>\n",
       "      <th>2_trans</th>\n",
       "      <th>5_trans</th>\n",
       "      <th>7_trans</th>\n",
       "      <th>total_transactions</th>\n",
       "      <th>TotalSpent</th>\n",
       "      <th>Discount_Mean</th>\n",
       "    </tr>\n",
       "  </thead>\n",
       "  <tbody>\n",
       "    <tr>\n",
       "      <th>1</th>\n",
       "      <td>251693291</td>\n",
       "      <td>20663512</td>\n",
       "      <td>5.3519</td>\n",
       "      <td>Transport</td>\n",
       "      <td>1.0704</td>\n",
       "      <td>4</td>\n",
       "      <td>2</td>\n",
       "      <td>2</td>\n",
       "      <td>2</td>\n",
       "      <td>1</td>\n",
       "      <td>1</td>\n",
       "      <td>0</td>\n",
       "      <td>12</td>\n",
       "      <td>193.6114</td>\n",
       "      <td>8.312826</td>\n",
       "    </tr>\n",
       "    <tr>\n",
       "      <th>2</th>\n",
       "      <td>251693291</td>\n",
       "      <td>20663512</td>\n",
       "      <td>4.5589</td>\n",
       "      <td>Transport</td>\n",
       "      <td>0.0000</td>\n",
       "      <td>4</td>\n",
       "      <td>2</td>\n",
       "      <td>2</td>\n",
       "      <td>2</td>\n",
       "      <td>1</td>\n",
       "      <td>1</td>\n",
       "      <td>0</td>\n",
       "      <td>12</td>\n",
       "      <td>193.6114</td>\n",
       "      <td>8.312826</td>\n",
       "    </tr>\n",
       "    <tr>\n",
       "      <th>3</th>\n",
       "      <td>251693291</td>\n",
       "      <td>20663512</td>\n",
       "      <td>8.0278</td>\n",
       "      <td>Transport</td>\n",
       "      <td>0.0000</td>\n",
       "      <td>4</td>\n",
       "      <td>2</td>\n",
       "      <td>2</td>\n",
       "      <td>2</td>\n",
       "      <td>1</td>\n",
       "      <td>1</td>\n",
       "      <td>0</td>\n",
       "      <td>12</td>\n",
       "      <td>193.6114</td>\n",
       "      <td>8.312826</td>\n",
       "    </tr>\n",
       "    <tr>\n",
       "      <th>4</th>\n",
       "      <td>251693291</td>\n",
       "      <td>20663512</td>\n",
       "      <td>5.0000</td>\n",
       "      <td>Transport</td>\n",
       "      <td>1.0000</td>\n",
       "      <td>4</td>\n",
       "      <td>2</td>\n",
       "      <td>2</td>\n",
       "      <td>2</td>\n",
       "      <td>1</td>\n",
       "      <td>1</td>\n",
       "      <td>0</td>\n",
       "      <td>12</td>\n",
       "      <td>193.6114</td>\n",
       "      <td>8.312826</td>\n",
       "    </tr>\n",
       "    <tr>\n",
       "      <th>9</th>\n",
       "      <td>251693291</td>\n",
       "      <td>20663512</td>\n",
       "      <td>4.7416</td>\n",
       "      <td>Transport</td>\n",
       "      <td>0.9483</td>\n",
       "      <td>4</td>\n",
       "      <td>2</td>\n",
       "      <td>2</td>\n",
       "      <td>2</td>\n",
       "      <td>1</td>\n",
       "      <td>1</td>\n",
       "      <td>0</td>\n",
       "      <td>12</td>\n",
       "      <td>193.6114</td>\n",
       "      <td>8.312826</td>\n",
       "    </tr>\n",
       "    <tr>\n",
       "      <th>...</th>\n",
       "      <td>...</td>\n",
       "      <td>...</td>\n",
       "      <td>...</td>\n",
       "      <td>...</td>\n",
       "      <td>...</td>\n",
       "      <td>...</td>\n",
       "      <td>...</td>\n",
       "      <td>...</td>\n",
       "      <td>...</td>\n",
       "      <td>...</td>\n",
       "      <td>...</td>\n",
       "      <td>...</td>\n",
       "      <td>...</td>\n",
       "      <td>...</td>\n",
       "      <td>...</td>\n",
       "    </tr>\n",
       "    <tr>\n",
       "      <th>555504</th>\n",
       "      <td>251693291</td>\n",
       "      <td>157593930</td>\n",
       "      <td>2.5465</td>\n",
       "      <td>Transport</td>\n",
       "      <td>0.5093</td>\n",
       "      <td>0</td>\n",
       "      <td>0</td>\n",
       "      <td>0</td>\n",
       "      <td>0</td>\n",
       "      <td>1</td>\n",
       "      <td>0</td>\n",
       "      <td>0</td>\n",
       "      <td>1</td>\n",
       "      <td>2.5465</td>\n",
       "      <td>16.666667</td>\n",
       "    </tr>\n",
       "    <tr>\n",
       "      <th>555505</th>\n",
       "      <td>254303242</td>\n",
       "      <td>191571237</td>\n",
       "      <td>3.3467</td>\n",
       "      <td>Cellphone Recharge</td>\n",
       "      <td>0.0000</td>\n",
       "      <td>0</td>\n",
       "      <td>0</td>\n",
       "      <td>0</td>\n",
       "      <td>0</td>\n",
       "      <td>0</td>\n",
       "      <td>1</td>\n",
       "      <td>0</td>\n",
       "      <td>1</td>\n",
       "      <td>3.3467</td>\n",
       "      <td>0.000000</td>\n",
       "    </tr>\n",
       "    <tr>\n",
       "      <th>555507</th>\n",
       "      <td>254303242</td>\n",
       "      <td>239848548</td>\n",
       "      <td>1.1136</td>\n",
       "      <td>Cellphone Recharge</td>\n",
       "      <td>0.5568</td>\n",
       "      <td>0</td>\n",
       "      <td>0</td>\n",
       "      <td>0</td>\n",
       "      <td>1</td>\n",
       "      <td>0</td>\n",
       "      <td>0</td>\n",
       "      <td>0</td>\n",
       "      <td>1</td>\n",
       "      <td>1.1136</td>\n",
       "      <td>33.333333</td>\n",
       "    </tr>\n",
       "    <tr>\n",
       "      <th>555508</th>\n",
       "      <td>254303242</td>\n",
       "      <td>292867782</td>\n",
       "      <td>4.4356</td>\n",
       "      <td>Cellphone Recharge</td>\n",
       "      <td>0.0000</td>\n",
       "      <td>0</td>\n",
       "      <td>0</td>\n",
       "      <td>0</td>\n",
       "      <td>0</td>\n",
       "      <td>0</td>\n",
       "      <td>1</td>\n",
       "      <td>0</td>\n",
       "      <td>1</td>\n",
       "      <td>4.4356</td>\n",
       "      <td>0.000000</td>\n",
       "    </tr>\n",
       "    <tr>\n",
       "      <th>555509</th>\n",
       "      <td>254303242</td>\n",
       "      <td>400870848</td>\n",
       "      <td>2.3866</td>\n",
       "      <td>Cellphone Recharge</td>\n",
       "      <td>0.0000</td>\n",
       "      <td>0</td>\n",
       "      <td>0</td>\n",
       "      <td>2</td>\n",
       "      <td>0</td>\n",
       "      <td>0</td>\n",
       "      <td>0</td>\n",
       "      <td>0</td>\n",
       "      <td>2</td>\n",
       "      <td>4.9970</td>\n",
       "      <td>0.000000</td>\n",
       "    </tr>\n",
       "  </tbody>\n",
       "</table>\n",
       "<p>371768 rows × 15 columns</p>\n",
       "</div>"
      ],
      "text/plain": [
       "        CUS_CUST_ID_SEL  CUS_CUST_ID_BUY  SPENT_x  TPV_SEGMENT_DETAIL  \\\n",
       "1             251693291         20663512   5.3519           Transport   \n",
       "2             251693291         20663512   4.5589           Transport   \n",
       "3             251693291         20663512   8.0278           Transport   \n",
       "4             251693291         20663512   5.0000           Transport   \n",
       "9             251693291         20663512   4.7416           Transport   \n",
       "...                 ...              ...      ...                 ...   \n",
       "555504        251693291        157593930   2.5465           Transport   \n",
       "555505        254303242        191571237   3.3467  Cellphone Recharge   \n",
       "555507        254303242        239848548   1.1136  Cellphone Recharge   \n",
       "555508        254303242        292867782   4.4356  Cellphone Recharge   \n",
       "555509        254303242        400870848   2.3866  Cellphone Recharge   \n",
       "\n",
       "        DESCUENTO  1_trans  3_trans  4_trans  6_trans  2_trans  5_trans  \\\n",
       "1          1.0704        4        2        2        2        1        1   \n",
       "2          0.0000        4        2        2        2        1        1   \n",
       "3          0.0000        4        2        2        2        1        1   \n",
       "4          1.0000        4        2        2        2        1        1   \n",
       "9          0.9483        4        2        2        2        1        1   \n",
       "...           ...      ...      ...      ...      ...      ...      ...   \n",
       "555504     0.5093        0        0        0        0        1        0   \n",
       "555505     0.0000        0        0        0        0        0        1   \n",
       "555507     0.5568        0        0        0        1        0        0   \n",
       "555508     0.0000        0        0        0        0        0        1   \n",
       "555509     0.0000        0        0        2        0        0        0   \n",
       "\n",
       "        7_trans  total_transactions  TotalSpent  Discount_Mean  \n",
       "1             0                  12    193.6114       8.312826  \n",
       "2             0                  12    193.6114       8.312826  \n",
       "3             0                  12    193.6114       8.312826  \n",
       "4             0                  12    193.6114       8.312826  \n",
       "9             0                  12    193.6114       8.312826  \n",
       "...         ...                 ...         ...            ...  \n",
       "555504        0                   1      2.5465      16.666667  \n",
       "555505        0                   1      3.3467       0.000000  \n",
       "555507        0                   1      1.1136      33.333333  \n",
       "555508        0                   1      4.4356       0.000000  \n",
       "555509        0                   2      4.9970       0.000000  \n",
       "\n",
       "[371768 rows x 15 columns]"
      ]
     },
     "execution_count": 62,
     "metadata": {},
     "output_type": "execute_result"
    }
   ],
   "source": [
    "id_sell_data"
   ]
  },
  {
   "cell_type": "code",
   "execution_count": 63,
   "id": "subtle-radiation",
   "metadata": {},
   "outputs": [
    {
     "name": "stderr",
     "output_type": "stream",
     "text": [
      "C:\\Users\\gonzalo\\.conda\\envs\\personales\\lib\\site-packages\\ipykernel_launcher.py:1: SettingWithCopyWarning: \n",
      "A value is trying to be set on a copy of a slice from a DataFrame.\n",
      "Try using .loc[row_indexer,col_indexer] = value instead\n",
      "\n",
      "See the caveats in the documentation: https://pandas.pydata.org/pandas-docs/stable/user_guide/indexing.html#returning-a-view-versus-a-copy\n",
      "  \"\"\"Entry point for launching an IPython kernel.\n"
     ]
    }
   ],
   "source": [
    "id_sell_data['sell_id_251693291'] = id_sell_data.CUS_CUST_ID_SEL.apply(lambda x: 1 if x == 251693291 else 0)"
   ]
  },
  {
   "cell_type": "code",
   "execution_count": 64,
   "id": "romantic-aaron",
   "metadata": {},
   "outputs": [
    {
     "name": "stderr",
     "output_type": "stream",
     "text": [
      "C:\\Users\\gonzalo\\.conda\\envs\\personales\\lib\\site-packages\\ipykernel_launcher.py:1: SettingWithCopyWarning: \n",
      "A value is trying to be set on a copy of a slice from a DataFrame.\n",
      "Try using .loc[row_indexer,col_indexer] = value instead\n",
      "\n",
      "See the caveats in the documentation: https://pandas.pydata.org/pandas-docs/stable/user_guide/indexing.html#returning-a-view-versus-a-copy\n",
      "  \"\"\"Entry point for launching an IPython kernel.\n"
     ]
    }
   ],
   "source": [
    "id_sell_data['sell_id_254303242'] = id_sell_data.CUS_CUST_ID_SEL.apply(lambda x: 1 if x == 254303242 else 0)"
   ]
  },
  {
   "cell_type": "code",
   "execution_count": 65,
   "id": "surgical-behavior",
   "metadata": {},
   "outputs": [
    {
     "name": "stderr",
     "output_type": "stream",
     "text": [
      "C:\\Users\\gonzalo\\.conda\\envs\\personales\\lib\\site-packages\\ipykernel_launcher.py:1: SettingWithCopyWarning: \n",
      "A value is trying to be set on a copy of a slice from a DataFrame.\n",
      "Try using .loc[row_indexer,col_indexer] = value instead\n",
      "\n",
      "See the caveats in the documentation: https://pandas.pydata.org/pandas-docs/stable/user_guide/indexing.html#returning-a-view-versus-a-copy\n",
      "  \"\"\"Entry point for launching an IPython kernel.\n"
     ]
    }
   ],
   "source": [
    "id_sell_data['sell_id_295153733'] = id_sell_data.CUS_CUST_ID_SEL.apply(lambda x: 1 if x == 295153733 else 0)"
   ]
  },
  {
   "cell_type": "code",
   "execution_count": 66,
   "id": "loved-fighter",
   "metadata": {},
   "outputs": [
    {
     "name": "stderr",
     "output_type": "stream",
     "text": [
      "C:\\Users\\gonzalo\\.conda\\envs\\personales\\lib\\site-packages\\ipykernel_launcher.py:1: SettingWithCopyWarning: \n",
      "A value is trying to be set on a copy of a slice from a DataFrame.\n",
      "Try using .loc[row_indexer,col_indexer] = value instead\n",
      "\n",
      "See the caveats in the documentation: https://pandas.pydata.org/pandas-docs/stable/user_guide/indexing.html#returning-a-view-versus-a-copy\n",
      "  \"\"\"Entry point for launching an IPython kernel.\n"
     ]
    }
   ],
   "source": [
    "id_sell_data['sell_id_226295793'] = id_sell_data.CUS_CUST_ID_SEL.apply(lambda x: 1 if x == 226295793 else 0)"
   ]
  },
  {
   "cell_type": "code",
   "execution_count": 67,
   "id": "cultural-summit",
   "metadata": {},
   "outputs": [],
   "source": [
    "id_sell_data = id_sell_data[['CUS_CUST_ID_BUY','sell_id_251693291','sell_id_254303242','sell_id_295153733','sell_id_226295793']]"
   ]
  },
  {
   "cell_type": "code",
   "execution_count": 68,
   "id": "minimal-virus",
   "metadata": {},
   "outputs": [],
   "source": [
    "id_sell_data = id_sell_data.groupby('CUS_CUST_ID_BUY', group_keys=False).apply(lambda id_sell_data: id_sell_data.sample(1))"
   ]
  },
  {
   "cell_type": "code",
   "execution_count": 69,
   "id": "median-turning",
   "metadata": {},
   "outputs": [],
   "source": [
    "pay_data = pay_data.merge(id_sell_data, on = 'CUS_CUST_ID_BUY',how = 'outer').fillna(0)"
   ]
  },
  {
   "cell_type": "code",
   "execution_count": 70,
   "id": "considerable-affiliation",
   "metadata": {},
   "outputs": [
    {
     "data": {
      "text/plain": [
       "Cellphone Recharge      173199\n",
       "Transport               141306\n",
       "Instore                 138801\n",
       "Utilities                57262\n",
       "Money Transfer           44946\n",
       "Other Single Players         2\n",
       "Name: TPV_SEGMENT_DETAIL, dtype: int64"
      ]
     },
     "execution_count": 70,
     "metadata": {},
     "output_type": "execute_result"
    }
   ],
   "source": [
    "pay_data.TPV_SEGMENT_DETAIL.value_counts()"
   ]
  },
  {
   "cell_type": "code",
   "execution_count": 71,
   "id": "fundamental-superintendent",
   "metadata": {},
   "outputs": [
    {
     "data": {
      "text/plain": [
       "376327    Other Single Players\n",
       "490670    Other Single Players\n",
       "Name: TPV_SEGMENT_DETAIL, dtype: object"
      ]
     },
     "execution_count": 71,
     "metadata": {},
     "output_type": "execute_result"
    }
   ],
   "source": [
    "pay_data.TPV_SEGMENT_DETAIL[pay_data.TPV_SEGMENT_DETAIL == 'Other Single Players']"
   ]
  },
  {
   "cell_type": "code",
   "execution_count": 72,
   "id": "least-electronics",
   "metadata": {},
   "outputs": [],
   "source": [
    "pay_data.at[376327,'TPV_SEGMENT_DETAIL'] = 'Cellphone Recharge'"
   ]
  },
  {
   "cell_type": "code",
   "execution_count": 73,
   "id": "quality-zealand",
   "metadata": {},
   "outputs": [],
   "source": [
    "pay_data.at[490670,'TPV_SEGMENT_DETAIL'] = 'Cellphone Recharge'"
   ]
  },
  {
   "cell_type": "code",
   "execution_count": null,
   "id": "interstate-marks",
   "metadata": {},
   "outputs": [],
   "source": []
  },
  {
   "cell_type": "code",
   "execution_count": 74,
   "id": "interested-arizona",
   "metadata": {},
   "outputs": [],
   "source": [
    "data_segment = pay_data[['CUS_CUST_ID_BUY','TPV_SEGMENT_DETAIL']]"
   ]
  },
  {
   "cell_type": "code",
   "execution_count": 75,
   "id": "vulnerable-share",
   "metadata": {},
   "outputs": [
    {
     "data": {
      "text/plain": [
       "Cellphone Recharge    173201\n",
       "Transport             141306\n",
       "Instore               138801\n",
       "Utilities              57262\n",
       "Money Transfer         44946\n",
       "Name: TPV_SEGMENT_DETAIL, dtype: int64"
      ]
     },
     "execution_count": 75,
     "metadata": {},
     "output_type": "execute_result"
    }
   ],
   "source": [
    "data_segment.TPV_SEGMENT_DETAIL.value_counts()"
   ]
  },
  {
   "cell_type": "code",
   "execution_count": 76,
   "id": "north-blackjack",
   "metadata": {},
   "outputs": [
    {
     "name": "stderr",
     "output_type": "stream",
     "text": [
      "C:\\Users\\gonzalo\\.conda\\envs\\personales\\lib\\site-packages\\ipykernel_launcher.py:1: SettingWithCopyWarning: \n",
      "A value is trying to be set on a copy of a slice from a DataFrame.\n",
      "Try using .loc[row_indexer,col_indexer] = value instead\n",
      "\n",
      "See the caveats in the documentation: https://pandas.pydata.org/pandas-docs/stable/user_guide/indexing.html#returning-a-view-versus-a-copy\n",
      "  \"\"\"Entry point for launching an IPython kernel.\n"
     ]
    }
   ],
   "source": [
    "data_segment['Cellphone Recharge'] = data_segment.TPV_SEGMENT_DETAIL.apply(lambda x: 1 if x == 'Cellphone Recharge' else 0)"
   ]
  },
  {
   "cell_type": "code",
   "execution_count": 77,
   "id": "funny-contractor",
   "metadata": {},
   "outputs": [
    {
     "name": "stderr",
     "output_type": "stream",
     "text": [
      "C:\\Users\\gonzalo\\.conda\\envs\\personales\\lib\\site-packages\\ipykernel_launcher.py:1: SettingWithCopyWarning: \n",
      "A value is trying to be set on a copy of a slice from a DataFrame.\n",
      "Try using .loc[row_indexer,col_indexer] = value instead\n",
      "\n",
      "See the caveats in the documentation: https://pandas.pydata.org/pandas-docs/stable/user_guide/indexing.html#returning-a-view-versus-a-copy\n",
      "  \"\"\"Entry point for launching an IPython kernel.\n"
     ]
    }
   ],
   "source": [
    "data_segment['Transport'] = data_segment.TPV_SEGMENT_DETAIL.apply(lambda x: 1 if x == 'Transport' else 0)"
   ]
  },
  {
   "cell_type": "code",
   "execution_count": 78,
   "id": "impressed-producer",
   "metadata": {},
   "outputs": [
    {
     "name": "stderr",
     "output_type": "stream",
     "text": [
      "C:\\Users\\gonzalo\\.conda\\envs\\personales\\lib\\site-packages\\ipykernel_launcher.py:1: SettingWithCopyWarning: \n",
      "A value is trying to be set on a copy of a slice from a DataFrame.\n",
      "Try using .loc[row_indexer,col_indexer] = value instead\n",
      "\n",
      "See the caveats in the documentation: https://pandas.pydata.org/pandas-docs/stable/user_guide/indexing.html#returning-a-view-versus-a-copy\n",
      "  \"\"\"Entry point for launching an IPython kernel.\n"
     ]
    }
   ],
   "source": [
    "data_segment['Instore'] = data_segment.TPV_SEGMENT_DETAIL.apply(lambda x: 1 if x == 'Instore' else 0)"
   ]
  },
  {
   "cell_type": "code",
   "execution_count": 79,
   "id": "personal-consultation",
   "metadata": {},
   "outputs": [
    {
     "name": "stderr",
     "output_type": "stream",
     "text": [
      "C:\\Users\\gonzalo\\.conda\\envs\\personales\\lib\\site-packages\\ipykernel_launcher.py:1: SettingWithCopyWarning: \n",
      "A value is trying to be set on a copy of a slice from a DataFrame.\n",
      "Try using .loc[row_indexer,col_indexer] = value instead\n",
      "\n",
      "See the caveats in the documentation: https://pandas.pydata.org/pandas-docs/stable/user_guide/indexing.html#returning-a-view-versus-a-copy\n",
      "  \"\"\"Entry point for launching an IPython kernel.\n"
     ]
    }
   ],
   "source": [
    "data_segment['Utilities'] = data_segment.TPV_SEGMENT_DETAIL.apply(lambda x: 1 if x == 'Utilities' else 0)"
   ]
  },
  {
   "cell_type": "code",
   "execution_count": 80,
   "id": "golden-extraction",
   "metadata": {},
   "outputs": [
    {
     "name": "stderr",
     "output_type": "stream",
     "text": [
      "C:\\Users\\gonzalo\\.conda\\envs\\personales\\lib\\site-packages\\ipykernel_launcher.py:1: SettingWithCopyWarning: \n",
      "A value is trying to be set on a copy of a slice from a DataFrame.\n",
      "Try using .loc[row_indexer,col_indexer] = value instead\n",
      "\n",
      "See the caveats in the documentation: https://pandas.pydata.org/pandas-docs/stable/user_guide/indexing.html#returning-a-view-versus-a-copy\n",
      "  \"\"\"Entry point for launching an IPython kernel.\n"
     ]
    }
   ],
   "source": [
    "data_segment['Money Transfer'] = data_segment.TPV_SEGMENT_DETAIL.apply(lambda x: 1 if x == 'Money Transfer' else 0)"
   ]
  },
  {
   "cell_type": "code",
   "execution_count": 81,
   "id": "inside-virginia",
   "metadata": {},
   "outputs": [],
   "source": [
    "data_segment = data_segment.groupby('CUS_CUST_ID_BUY', group_keys=False).apply(lambda data_segment: data_segment.sample(1))"
   ]
  },
  {
   "cell_type": "code",
   "execution_count": 82,
   "id": "powered-guitar",
   "metadata": {},
   "outputs": [],
   "source": [
    "pay_data = pay_data.merge(data_segment, on = 'CUS_CUST_ID_BUY')"
   ]
  },
  {
   "cell_type": "code",
   "execution_count": 83,
   "id": "celtic-pacific",
   "metadata": {},
   "outputs": [],
   "source": [
    "pay_data.drop(columns = ['CUS_CUST_ID_SEL','SPENT_x','TPV_SEGMENT_DETAIL_x','DESCUENTO','TPV_SEGMENT_DETAIL_y'],inplace = True)"
   ]
  },
  {
   "cell_type": "code",
   "execution_count": 84,
   "id": "rapid-credit",
   "metadata": {},
   "outputs": [],
   "source": [
    "pay_data = pay_data.groupby('CUS_CUST_ID_BUY', group_keys=False).apply(lambda pay_data: pay_data.sample(1))"
   ]
  },
  {
   "cell_type": "code",
   "execution_count": 85,
   "id": "sharp-benjamin",
   "metadata": {},
   "outputs": [
    {
     "data": {
      "text/html": [
       "<div>\n",
       "<style scoped>\n",
       "    .dataframe tbody tr th:only-of-type {\n",
       "        vertical-align: middle;\n",
       "    }\n",
       "\n",
       "    .dataframe tbody tr th {\n",
       "        vertical-align: top;\n",
       "    }\n",
       "\n",
       "    .dataframe thead th {\n",
       "        text-align: right;\n",
       "    }\n",
       "</style>\n",
       "<table border=\"1\" class=\"dataframe\">\n",
       "  <thead>\n",
       "    <tr style=\"text-align: right;\">\n",
       "      <th></th>\n",
       "      <th>CUS_CUST_ID_BUY</th>\n",
       "      <th>1_trans</th>\n",
       "      <th>3_trans</th>\n",
       "      <th>4_trans</th>\n",
       "      <th>6_trans</th>\n",
       "      <th>2_trans</th>\n",
       "      <th>5_trans</th>\n",
       "      <th>7_trans</th>\n",
       "      <th>total_transactions</th>\n",
       "      <th>TotalSpent</th>\n",
       "      <th>Discount_Mean</th>\n",
       "      <th>sell_id_251693291</th>\n",
       "      <th>sell_id_254303242</th>\n",
       "      <th>sell_id_295153733</th>\n",
       "      <th>sell_id_226295793</th>\n",
       "      <th>Cellphone Recharge</th>\n",
       "      <th>Transport</th>\n",
       "      <th>Instore</th>\n",
       "      <th>Utilities</th>\n",
       "      <th>Money Transfer</th>\n",
       "    </tr>\n",
       "  </thead>\n",
       "  <tbody>\n",
       "    <tr>\n",
       "      <th>375635</th>\n",
       "      <td>1276</td>\n",
       "      <td>0</td>\n",
       "      <td>1</td>\n",
       "      <td>0</td>\n",
       "      <td>0</td>\n",
       "      <td>2</td>\n",
       "      <td>1</td>\n",
       "      <td>0</td>\n",
       "      <td>4</td>\n",
       "      <td>7.6365</td>\n",
       "      <td>0.000000</td>\n",
       "      <td>0.0</td>\n",
       "      <td>0.0</td>\n",
       "      <td>1.0</td>\n",
       "      <td>0.0</td>\n",
       "      <td>1</td>\n",
       "      <td>0</td>\n",
       "      <td>0</td>\n",
       "      <td>0</td>\n",
       "      <td>0</td>\n",
       "    </tr>\n",
       "    <tr>\n",
       "      <th>151477</th>\n",
       "      <td>14525</td>\n",
       "      <td>2</td>\n",
       "      <td>10</td>\n",
       "      <td>11</td>\n",
       "      <td>2</td>\n",
       "      <td>8</td>\n",
       "      <td>13</td>\n",
       "      <td>0</td>\n",
       "      <td>46</td>\n",
       "      <td>429.3148</td>\n",
       "      <td>4.449163</td>\n",
       "      <td>0.0</td>\n",
       "      <td>0.0</td>\n",
       "      <td>0.0</td>\n",
       "      <td>0.0</td>\n",
       "      <td>0</td>\n",
       "      <td>0</td>\n",
       "      <td>1</td>\n",
       "      <td>0</td>\n",
       "      <td>0</td>\n",
       "    </tr>\n",
       "    <tr>\n",
       "      <th>204812</th>\n",
       "      <td>21230</td>\n",
       "      <td>0</td>\n",
       "      <td>0</td>\n",
       "      <td>0</td>\n",
       "      <td>0</td>\n",
       "      <td>0</td>\n",
       "      <td>1</td>\n",
       "      <td>0</td>\n",
       "      <td>1</td>\n",
       "      <td>4.4198</td>\n",
       "      <td>33.333333</td>\n",
       "      <td>1.0</td>\n",
       "      <td>0.0</td>\n",
       "      <td>0.0</td>\n",
       "      <td>0.0</td>\n",
       "      <td>0</td>\n",
       "      <td>1</td>\n",
       "      <td>0</td>\n",
       "      <td>0</td>\n",
       "      <td>0</td>\n",
       "    </tr>\n",
       "    <tr>\n",
       "      <th>24842</th>\n",
       "      <td>22083</td>\n",
       "      <td>3</td>\n",
       "      <td>5</td>\n",
       "      <td>1</td>\n",
       "      <td>1</td>\n",
       "      <td>4</td>\n",
       "      <td>4</td>\n",
       "      <td>0</td>\n",
       "      <td>18</td>\n",
       "      <td>196.6036</td>\n",
       "      <td>8.628314</td>\n",
       "      <td>1.0</td>\n",
       "      <td>0.0</td>\n",
       "      <td>0.0</td>\n",
       "      <td>0.0</td>\n",
       "      <td>0</td>\n",
       "      <td>0</td>\n",
       "      <td>1</td>\n",
       "      <td>0</td>\n",
       "      <td>0</td>\n",
       "    </tr>\n",
       "    <tr>\n",
       "      <th>552323</th>\n",
       "      <td>23513</td>\n",
       "      <td>0</td>\n",
       "      <td>3</td>\n",
       "      <td>4</td>\n",
       "      <td>0</td>\n",
       "      <td>2</td>\n",
       "      <td>1</td>\n",
       "      <td>0</td>\n",
       "      <td>10</td>\n",
       "      <td>31.1145</td>\n",
       "      <td>0.000000</td>\n",
       "      <td>1.0</td>\n",
       "      <td>0.0</td>\n",
       "      <td>0.0</td>\n",
       "      <td>0.0</td>\n",
       "      <td>0</td>\n",
       "      <td>1</td>\n",
       "      <td>0</td>\n",
       "      <td>0</td>\n",
       "      <td>0</td>\n",
       "    </tr>\n",
       "  </tbody>\n",
       "</table>\n",
       "</div>"
      ],
      "text/plain": [
       "        CUS_CUST_ID_BUY  1_trans  3_trans  4_trans  6_trans  2_trans  5_trans  \\\n",
       "375635             1276        0        1        0        0        2        1   \n",
       "151477            14525        2       10       11        2        8       13   \n",
       "204812            21230        0        0        0        0        0        1   \n",
       "24842             22083        3        5        1        1        4        4   \n",
       "552323            23513        0        3        4        0        2        1   \n",
       "\n",
       "        7_trans  total_transactions  TotalSpent  Discount_Mean  \\\n",
       "375635        0                   4      7.6365       0.000000   \n",
       "151477        0                  46    429.3148       4.449163   \n",
       "204812        0                   1      4.4198      33.333333   \n",
       "24842         0                  18    196.6036       8.628314   \n",
       "552323        0                  10     31.1145       0.000000   \n",
       "\n",
       "        sell_id_251693291  sell_id_254303242  sell_id_295153733  \\\n",
       "375635                0.0                0.0                1.0   \n",
       "151477                0.0                0.0                0.0   \n",
       "204812                1.0                0.0                0.0   \n",
       "24842                 1.0                0.0                0.0   \n",
       "552323                1.0                0.0                0.0   \n",
       "\n",
       "        sell_id_226295793  Cellphone Recharge  Transport  Instore  Utilities  \\\n",
       "375635                0.0                   1          0        0          0   \n",
       "151477                0.0                   0          0        1          0   \n",
       "204812                0.0                   0          1        0          0   \n",
       "24842                 0.0                   0          0        1          0   \n",
       "552323                0.0                   0          1        0          0   \n",
       "\n",
       "        Money Transfer  \n",
       "375635               0  \n",
       "151477               0  \n",
       "204812               0  \n",
       "24842                0  \n",
       "552323               0  "
      ]
     },
     "execution_count": 85,
     "metadata": {},
     "output_type": "execute_result"
    }
   ],
   "source": [
    "pay_data.head()"
   ]
  },
  {
   "cell_type": "code",
   "execution_count": 86,
   "id": "eight-vegetable",
   "metadata": {},
   "outputs": [
    {
     "name": "stdout",
     "output_type": "stream",
     "text": [
      "<class 'pandas.core.frame.DataFrame'>\n",
      "Int64Index: 43502 entries, 375635 to 295212\n",
      "Data columns (total 20 columns):\n",
      " #   Column              Non-Null Count  Dtype  \n",
      "---  ------              --------------  -----  \n",
      " 0   CUS_CUST_ID_BUY     43502 non-null  int64  \n",
      " 1   1_trans             43502 non-null  int64  \n",
      " 2   3_trans             43502 non-null  int64  \n",
      " 3   4_trans             43502 non-null  int64  \n",
      " 4   6_trans             43502 non-null  int64  \n",
      " 5   2_trans             43502 non-null  int64  \n",
      " 6   5_trans             43502 non-null  int64  \n",
      " 7   7_trans             43502 non-null  int64  \n",
      " 8   total_transactions  43502 non-null  int64  \n",
      " 9   TotalSpent          43502 non-null  float64\n",
      " 10  Discount_Mean       43502 non-null  float64\n",
      " 11  sell_id_251693291   43502 non-null  float64\n",
      " 12  sell_id_254303242   43502 non-null  float64\n",
      " 13  sell_id_295153733   43502 non-null  float64\n",
      " 14  sell_id_226295793   43502 non-null  float64\n",
      " 15  Cellphone Recharge  43502 non-null  int64  \n",
      " 16  Transport           43502 non-null  int64  \n",
      " 17  Instore             43502 non-null  int64  \n",
      " 18  Utilities           43502 non-null  int64  \n",
      " 19  Money Transfer      43502 non-null  int64  \n",
      "dtypes: float64(6), int64(14)\n",
      "memory usage: 7.0 MB\n"
     ]
    }
   ],
   "source": [
    "pay_data.info()"
   ]
  },
  {
   "cell_type": "code",
   "execution_count": 87,
   "id": "remarkable-criterion",
   "metadata": {},
   "outputs": [],
   "source": [
    "Final_Data = Demographics_data.merge(pay_data,how = 'outer',on = 'CUS_CUST_ID_BUY')"
   ]
  },
  {
   "cell_type": "code",
   "execution_count": 88,
   "id": "conscious-judge",
   "metadata": {},
   "outputs": [
    {
     "name": "stdout",
     "output_type": "stream",
     "text": [
      "<class 'pandas.core.frame.DataFrame'>\n",
      "Int64Index: 43502 entries, 0 to 43501\n",
      "Data columns (total 25 columns):\n",
      " #   Column              Non-Null Count  Dtype  \n",
      "---  ------              --------------  -----  \n",
      " 0   CUS_CUST_ID_BUY     43502 non-null  int64  \n",
      " 1   GENDER              30466 non-null  object \n",
      " 2   TARJETAS            30466 non-null  object \n",
      " 3   ESTADO              30466 non-null  object \n",
      " 4   CITY                30466 non-null  object \n",
      " 5   Rango_edad          30466 non-null  object \n",
      " 6   1_trans             43502 non-null  int64  \n",
      " 7   3_trans             43502 non-null  int64  \n",
      " 8   4_trans             43502 non-null  int64  \n",
      " 9   6_trans             43502 non-null  int64  \n",
      " 10  2_trans             43502 non-null  int64  \n",
      " 11  5_trans             43502 non-null  int64  \n",
      " 12  7_trans             43502 non-null  int64  \n",
      " 13  total_transactions  43502 non-null  int64  \n",
      " 14  TotalSpent          43502 non-null  float64\n",
      " 15  Discount_Mean       43502 non-null  float64\n",
      " 16  sell_id_251693291   43502 non-null  float64\n",
      " 17  sell_id_254303242   43502 non-null  float64\n",
      " 18  sell_id_295153733   43502 non-null  float64\n",
      " 19  sell_id_226295793   43502 non-null  float64\n",
      " 20  Cellphone Recharge  43502 non-null  int64  \n",
      " 21  Transport           43502 non-null  int64  \n",
      " 22  Instore             43502 non-null  int64  \n",
      " 23  Utilities           43502 non-null  int64  \n",
      " 24  Money Transfer      43502 non-null  int64  \n",
      "dtypes: float64(6), int64(14), object(5)\n",
      "memory usage: 8.6+ MB\n"
     ]
    }
   ],
   "source": [
    "Final_Data.info()"
   ]
  },
  {
   "cell_type": "code",
   "execution_count": 89,
   "id": "prime-senegal",
   "metadata": {},
   "outputs": [],
   "source": [
    "Final_Data.fillna('Unknown',inplace = True)"
   ]
  },
  {
   "cell_type": "code",
   "execution_count": 90,
   "id": "rocky-chemical",
   "metadata": {},
   "outputs": [
    {
     "data": {
      "text/plain": [
       "male       15914\n",
       "Unknown    14819\n",
       "female     12769\n",
       "Name: GENDER, dtype: int64"
      ]
     },
     "execution_count": 90,
     "metadata": {},
     "output_type": "execute_result"
    }
   ],
   "source": [
    "Final_Data.GENDER.value_counts()"
   ]
  },
  {
   "cell_type": "markdown",
   "id": "collective-detector",
   "metadata": {},
   "source": [
    "# ACTIVE_USER\n",
    "\n",
    "    * CUS_CUST_ID_BUY: ID del buyer.\n",
    "    * MAU_MP_1: Cantidad de veces el usuario entró a la APP  de MP (azul) en el último mes de entrenamiento (mes -1).\n",
    "    * MAU_ML_1: Cantidad de veces el usuario entró a la APP  de ML (amarilla) en el último mes de entrenamiento (mes -1).\n",
    "    * MAU_ML_2: Cantidad de veces el usuario entró a la APP  de ML (amarilla) en el mes -2 de entrenamiento.\n",
    "    * last_login_mp_date_1: Fecha del último login del mes en APP MP."
   ]
  },
  {
   "cell_type": "code",
   "execution_count": 91,
   "id": "configured-blind",
   "metadata": {},
   "outputs": [],
   "source": [
    "#separar fecha en dia mes\n",
    "#cant de logins totales en los ultimos 3 meses de mp y ml\n",
    "#rellenar nulls"
   ]
  },
  {
   "cell_type": "code",
   "execution_count": 92,
   "id": "bacterial-thanksgiving",
   "metadata": {},
   "outputs": [
    {
     "name": "stdout",
     "output_type": "stream",
     "text": [
      "<class 'pandas.core.frame.DataFrame'>\n",
      "RangeIndex: 43502 entries, 0 to 43501\n",
      "Data columns (total 9 columns):\n",
      " #   Column                Non-Null Count  Dtype  \n",
      "---  ------                --------------  -----  \n",
      " 0   CUS_CUST_ID_BUY       43502 non-null  int64  \n",
      " 1   MAU_MP_3              33016 non-null  float64\n",
      " 2   MAU_ML_3              33016 non-null  float64\n",
      " 3   MAU_MP_2              35257 non-null  float64\n",
      " 4   MAU_ML_2              35257 non-null  float64\n",
      " 5   MAU_MP_1              37001 non-null  float64\n",
      " 6   MAU_ML_1              37001 non-null  float64\n",
      " 7   last_login_mp_date_1  37001 non-null  object \n",
      " 8   last_login_ml_date_1  37001 non-null  object \n",
      "dtypes: float64(6), int64(1), object(2)\n",
      "memory usage: 3.0+ MB\n"
     ]
    }
   ],
   "source": [
    "Active_data.info()"
   ]
  },
  {
   "cell_type": "code",
   "execution_count": 93,
   "id": "lonely-arbor",
   "metadata": {},
   "outputs": [
    {
     "data": {
      "text/html": [
       "<div>\n",
       "<style scoped>\n",
       "    .dataframe tbody tr th:only-of-type {\n",
       "        vertical-align: middle;\n",
       "    }\n",
       "\n",
       "    .dataframe tbody tr th {\n",
       "        vertical-align: top;\n",
       "    }\n",
       "\n",
       "    .dataframe thead th {\n",
       "        text-align: right;\n",
       "    }\n",
       "</style>\n",
       "<table border=\"1\" class=\"dataframe\">\n",
       "  <thead>\n",
       "    <tr style=\"text-align: right;\">\n",
       "      <th></th>\n",
       "      <th>CUS_CUST_ID_BUY</th>\n",
       "      <th>MAU_MP_3</th>\n",
       "      <th>MAU_ML_3</th>\n",
       "      <th>MAU_MP_2</th>\n",
       "      <th>MAU_ML_2</th>\n",
       "      <th>MAU_MP_1</th>\n",
       "      <th>MAU_ML_1</th>\n",
       "      <th>last_login_mp_date_1</th>\n",
       "      <th>last_login_ml_date_1</th>\n",
       "    </tr>\n",
       "  </thead>\n",
       "  <tbody>\n",
       "    <tr>\n",
       "      <th>0</th>\n",
       "      <td>424070401</td>\n",
       "      <td>NaN</td>\n",
       "      <td>NaN</td>\n",
       "      <td>1.0</td>\n",
       "      <td>0.0</td>\n",
       "      <td>NaN</td>\n",
       "      <td>NaN</td>\n",
       "      <td>NaN</td>\n",
       "      <td>NaN</td>\n",
       "    </tr>\n",
       "    <tr>\n",
       "      <th>1</th>\n",
       "      <td>271894453</td>\n",
       "      <td>1.0</td>\n",
       "      <td>14.0</td>\n",
       "      <td>11.0</td>\n",
       "      <td>21.0</td>\n",
       "      <td>2.0</td>\n",
       "      <td>12.0</td>\n",
       "      <td>2019-05-17</td>\n",
       "      <td>2019-05-24</td>\n",
       "    </tr>\n",
       "    <tr>\n",
       "      <th>2</th>\n",
       "      <td>327402711</td>\n",
       "      <td>NaN</td>\n",
       "      <td>NaN</td>\n",
       "      <td>0.0</td>\n",
       "      <td>10.0</td>\n",
       "      <td>4.0</td>\n",
       "      <td>26.0</td>\n",
       "      <td>2019-05-28</td>\n",
       "      <td>2019-05-31</td>\n",
       "    </tr>\n",
       "    <tr>\n",
       "      <th>3</th>\n",
       "      <td>310355113</td>\n",
       "      <td>5.0</td>\n",
       "      <td>18.0</td>\n",
       "      <td>5.0</td>\n",
       "      <td>7.0</td>\n",
       "      <td>3.0</td>\n",
       "      <td>10.0</td>\n",
       "      <td>2019-05-21</td>\n",
       "      <td>2019-05-29</td>\n",
       "    </tr>\n",
       "    <tr>\n",
       "      <th>4</th>\n",
       "      <td>59350476</td>\n",
       "      <td>1.0</td>\n",
       "      <td>18.0</td>\n",
       "      <td>5.0</td>\n",
       "      <td>17.0</td>\n",
       "      <td>4.0</td>\n",
       "      <td>27.0</td>\n",
       "      <td>2019-05-31</td>\n",
       "      <td>2019-05-31</td>\n",
       "    </tr>\n",
       "  </tbody>\n",
       "</table>\n",
       "</div>"
      ],
      "text/plain": [
       "   CUS_CUST_ID_BUY  MAU_MP_3  MAU_ML_3  MAU_MP_2  MAU_ML_2  MAU_MP_1  \\\n",
       "0        424070401       NaN       NaN       1.0       0.0       NaN   \n",
       "1        271894453       1.0      14.0      11.0      21.0       2.0   \n",
       "2        327402711       NaN       NaN       0.0      10.0       4.0   \n",
       "3        310355113       5.0      18.0       5.0       7.0       3.0   \n",
       "4         59350476       1.0      18.0       5.0      17.0       4.0   \n",
       "\n",
       "   MAU_ML_1 last_login_mp_date_1 last_login_ml_date_1  \n",
       "0       NaN                  NaN                  NaN  \n",
       "1      12.0           2019-05-17           2019-05-24  \n",
       "2      26.0           2019-05-28           2019-05-31  \n",
       "3      10.0           2019-05-21           2019-05-29  \n",
       "4      27.0           2019-05-31           2019-05-31  "
      ]
     },
     "execution_count": 93,
     "metadata": {},
     "output_type": "execute_result"
    }
   ],
   "source": [
    "Active_data.head()"
   ]
  },
  {
   "cell_type": "code",
   "execution_count": 94,
   "id": "pressed-garage",
   "metadata": {},
   "outputs": [
    {
     "data": {
      "text/plain": [
       "<bound method Series.unique of 0        424070401\n",
       "1        271894453\n",
       "2        327402711\n",
       "3        310355113\n",
       "4         59350476\n",
       "           ...    \n",
       "43497     84534152\n",
       "43498     59319045\n",
       "43499     80894929\n",
       "43500    237046723\n",
       "43501     49771756\n",
       "Name: CUS_CUST_ID_BUY, Length: 43502, dtype: int64>"
      ]
     },
     "execution_count": 94,
     "metadata": {},
     "output_type": "execute_result"
    }
   ],
   "source": [
    "Active_data.CUS_CUST_ID_BUY.unique"
   ]
  },
  {
   "cell_type": "code",
   "execution_count": 95,
   "id": "square-manor",
   "metadata": {},
   "outputs": [
    {
     "data": {
      "text/plain": [
       "CUS_CUST_ID_BUY         0.000000\n",
       "MAU_MP_3                0.241046\n",
       "MAU_ML_3                0.241046\n",
       "MAU_MP_2                0.189532\n",
       "MAU_ML_2                0.189532\n",
       "MAU_MP_1                0.149441\n",
       "MAU_ML_1                0.149441\n",
       "last_login_mp_date_1    0.149441\n",
       "last_login_ml_date_1    0.149441\n",
       "dtype: float64"
      ]
     },
     "execution_count": 95,
     "metadata": {},
     "output_type": "execute_result"
    }
   ],
   "source": [
    "Active_data.isnull().sum()/Active_data.shape[0]"
   ]
  },
  {
   "cell_type": "code",
   "execution_count": 96,
   "id": "improved-gauge",
   "metadata": {},
   "outputs": [
    {
     "data": {
      "text/plain": [
       "0.0    8703\n",
       "1.0    4122\n",
       "2.0    3153\n",
       "Name: MAU_MP_3, dtype: int64"
      ]
     },
     "execution_count": 96,
     "metadata": {},
     "output_type": "execute_result"
    }
   ],
   "source": [
    "Active_data.MAU_MP_3.value_counts().head(3)"
   ]
  },
  {
   "cell_type": "code",
   "execution_count": 97,
   "id": "logical-burning",
   "metadata": {},
   "outputs": [],
   "source": [
    "Active_data.MAU_MP_3.fillna(0.0,inplace = True)"
   ]
  },
  {
   "cell_type": "code",
   "execution_count": 98,
   "id": "endless-polish",
   "metadata": {},
   "outputs": [
    {
     "data": {
      "text/plain": [
       "0.0    7862\n",
       "6.0    1095\n",
       "1.0    1081\n",
       "Name: MAU_ML_3, dtype: int64"
      ]
     },
     "execution_count": 98,
     "metadata": {},
     "output_type": "execute_result"
    }
   ],
   "source": [
    "Active_data.MAU_ML_3.value_counts().head(3)"
   ]
  },
  {
   "cell_type": "code",
   "execution_count": 99,
   "id": "simplified-following",
   "metadata": {},
   "outputs": [],
   "source": [
    "Active_data.MAU_ML_3.fillna(0.0,inplace = True)"
   ]
  },
  {
   "cell_type": "code",
   "execution_count": 100,
   "id": "rapid-program",
   "metadata": {},
   "outputs": [
    {
     "data": {
      "text/plain": [
       "0.0    7664\n",
       "1.0    4428\n",
       "2.0    3433\n",
       "Name: MAU_MP_2, dtype: int64"
      ]
     },
     "execution_count": 100,
     "metadata": {},
     "output_type": "execute_result"
    }
   ],
   "source": [
    "Active_data.MAU_MP_2.value_counts().head(3)"
   ]
  },
  {
   "cell_type": "code",
   "execution_count": 101,
   "id": "spare-qatar",
   "metadata": {},
   "outputs": [],
   "source": [
    "Active_data.MAU_MP_2.fillna(0.0,inplace = True)"
   ]
  },
  {
   "cell_type": "code",
   "execution_count": 102,
   "id": "superior-perry",
   "metadata": {},
   "outputs": [
    {
     "data": {
      "text/plain": [
       "0.0    9290\n",
       "1.0    1258\n",
       "3.0    1193\n",
       "Name: MAU_ML_2, dtype: int64"
      ]
     },
     "execution_count": 102,
     "metadata": {},
     "output_type": "execute_result"
    }
   ],
   "source": [
    "Active_data.MAU_ML_2.value_counts().head(3)"
   ]
  },
  {
   "cell_type": "code",
   "execution_count": 103,
   "id": "artificial-celtic",
   "metadata": {},
   "outputs": [],
   "source": [
    "Active_data.MAU_ML_2.fillna(0.0,inplace = True)"
   ]
  },
  {
   "cell_type": "code",
   "execution_count": 104,
   "id": "matched-restaurant",
   "metadata": {},
   "outputs": [],
   "source": [
    "Active_data.MAU_MP_1.fillna(0.0,inplace = True)"
   ]
  },
  {
   "cell_type": "code",
   "execution_count": 105,
   "id": "experienced-performance",
   "metadata": {},
   "outputs": [],
   "source": [
    "Active_data.MAU_ML_1.fillna(0.0,inplace = True)"
   ]
  },
  {
   "cell_type": "code",
   "execution_count": 106,
   "id": "perceived-yugoslavia",
   "metadata": {},
   "outputs": [
    {
     "data": {
      "text/plain": [
       "2019-05-31    10935\n",
       "2019-05-30     4614\n",
       "2019-05-28     3053\n",
       "2019-05-29     2549\n",
       "2019-05-27     2044\n",
       "Name: last_login_mp_date_1, dtype: int64"
      ]
     },
     "execution_count": 106,
     "metadata": {},
     "output_type": "execute_result"
    }
   ],
   "source": [
    "Active_data.last_login_mp_date_1.value_counts().head(5)"
   ]
  },
  {
   "cell_type": "code",
   "execution_count": 107,
   "id": "nonprofit-frequency",
   "metadata": {},
   "outputs": [],
   "source": [
    "priori_ml = Active_data.last_login_ml_date_1.value_counts().head(5)/Active_data.last_login_ml_date_1.value_counts().head(5).sum()"
   ]
  },
  {
   "cell_type": "code",
   "execution_count": 108,
   "id": "departmental-michigan",
   "metadata": {},
   "outputs": [],
   "source": [
    "priori_mp = Active_data.last_login_mp_date_1.value_counts().head(5)/Active_data.last_login_mp_date_1.value_counts().head(5).sum()"
   ]
  },
  {
   "cell_type": "code",
   "execution_count": 109,
   "id": "rapid-personality",
   "metadata": {},
   "outputs": [],
   "source": [
    "dates = ['2019-05-31','2019-05-30','2019-05-28','2019-05-29','2019-05-27']\n",
    "priori_ml_val = priori_ml.values\n",
    "priori_mp_val = priori_mp.values"
   ]
  },
  {
   "cell_type": "code",
   "execution_count": 110,
   "id": "attempted-balloon",
   "metadata": {},
   "outputs": [],
   "source": [
    "Active_data.last_login_mp_date_1.fillna(np.random.choice(dates, replace=True, p= priori_mp_val),inplace = True)"
   ]
  },
  {
   "cell_type": "code",
   "execution_count": 111,
   "id": "certain-telling",
   "metadata": {},
   "outputs": [],
   "source": [
    "Active_data.last_login_ml_date_1.fillna(np.random.choice(dates, replace=True, p= priori_ml_val),inplace = True)"
   ]
  },
  {
   "cell_type": "code",
   "execution_count": 112,
   "id": "separate-crash",
   "metadata": {},
   "outputs": [
    {
     "data": {
      "text/plain": [
       "CUS_CUST_ID_BUY         0.0\n",
       "MAU_MP_3                0.0\n",
       "MAU_ML_3                0.0\n",
       "MAU_MP_2                0.0\n",
       "MAU_ML_2                0.0\n",
       "MAU_MP_1                0.0\n",
       "MAU_ML_1                0.0\n",
       "last_login_mp_date_1    0.0\n",
       "last_login_ml_date_1    0.0\n",
       "dtype: float64"
      ]
     },
     "execution_count": 112,
     "metadata": {},
     "output_type": "execute_result"
    }
   ],
   "source": [
    "Active_data.isnull().sum()/Active_data.shape[0]"
   ]
  },
  {
   "cell_type": "code",
   "execution_count": 113,
   "id": "abstract-orientation",
   "metadata": {},
   "outputs": [],
   "source": [
    "Active_data['last_ml_day'] = pd.DatetimeIndex(Active_data['last_login_ml_date_1']).day\n",
    "Active_data['last_mp_day'] = pd.DatetimeIndex(Active_data['last_login_mp_date_1']).day"
   ]
  },
  {
   "cell_type": "code",
   "execution_count": 114,
   "id": "favorite-share",
   "metadata": {},
   "outputs": [
    {
     "data": {
      "text/html": [
       "<div>\n",
       "<style scoped>\n",
       "    .dataframe tbody tr th:only-of-type {\n",
       "        vertical-align: middle;\n",
       "    }\n",
       "\n",
       "    .dataframe tbody tr th {\n",
       "        vertical-align: top;\n",
       "    }\n",
       "\n",
       "    .dataframe thead th {\n",
       "        text-align: right;\n",
       "    }\n",
       "</style>\n",
       "<table border=\"1\" class=\"dataframe\">\n",
       "  <thead>\n",
       "    <tr style=\"text-align: right;\">\n",
       "      <th></th>\n",
       "      <th>CUS_CUST_ID_BUY</th>\n",
       "      <th>MAU_MP_3</th>\n",
       "      <th>MAU_ML_3</th>\n",
       "      <th>MAU_MP_2</th>\n",
       "      <th>MAU_ML_2</th>\n",
       "      <th>MAU_MP_1</th>\n",
       "      <th>MAU_ML_1</th>\n",
       "      <th>last_login_mp_date_1</th>\n",
       "      <th>last_login_ml_date_1</th>\n",
       "      <th>last_ml_day</th>\n",
       "      <th>last_mp_day</th>\n",
       "    </tr>\n",
       "  </thead>\n",
       "  <tbody>\n",
       "    <tr>\n",
       "      <th>0</th>\n",
       "      <td>424070401</td>\n",
       "      <td>0.0</td>\n",
       "      <td>0.0</td>\n",
       "      <td>1.0</td>\n",
       "      <td>0.0</td>\n",
       "      <td>0.0</td>\n",
       "      <td>0.0</td>\n",
       "      <td>2019-05-31</td>\n",
       "      <td>2019-05-31</td>\n",
       "      <td>31</td>\n",
       "      <td>31</td>\n",
       "    </tr>\n",
       "    <tr>\n",
       "      <th>1</th>\n",
       "      <td>271894453</td>\n",
       "      <td>1.0</td>\n",
       "      <td>14.0</td>\n",
       "      <td>11.0</td>\n",
       "      <td>21.0</td>\n",
       "      <td>2.0</td>\n",
       "      <td>12.0</td>\n",
       "      <td>2019-05-17</td>\n",
       "      <td>2019-05-24</td>\n",
       "      <td>24</td>\n",
       "      <td>17</td>\n",
       "    </tr>\n",
       "    <tr>\n",
       "      <th>2</th>\n",
       "      <td>327402711</td>\n",
       "      <td>0.0</td>\n",
       "      <td>0.0</td>\n",
       "      <td>0.0</td>\n",
       "      <td>10.0</td>\n",
       "      <td>4.0</td>\n",
       "      <td>26.0</td>\n",
       "      <td>2019-05-28</td>\n",
       "      <td>2019-05-31</td>\n",
       "      <td>31</td>\n",
       "      <td>28</td>\n",
       "    </tr>\n",
       "    <tr>\n",
       "      <th>3</th>\n",
       "      <td>310355113</td>\n",
       "      <td>5.0</td>\n",
       "      <td>18.0</td>\n",
       "      <td>5.0</td>\n",
       "      <td>7.0</td>\n",
       "      <td>3.0</td>\n",
       "      <td>10.0</td>\n",
       "      <td>2019-05-21</td>\n",
       "      <td>2019-05-29</td>\n",
       "      <td>29</td>\n",
       "      <td>21</td>\n",
       "    </tr>\n",
       "    <tr>\n",
       "      <th>4</th>\n",
       "      <td>59350476</td>\n",
       "      <td>1.0</td>\n",
       "      <td>18.0</td>\n",
       "      <td>5.0</td>\n",
       "      <td>17.0</td>\n",
       "      <td>4.0</td>\n",
       "      <td>27.0</td>\n",
       "      <td>2019-05-31</td>\n",
       "      <td>2019-05-31</td>\n",
       "      <td>31</td>\n",
       "      <td>31</td>\n",
       "    </tr>\n",
       "    <tr>\n",
       "      <th>...</th>\n",
       "      <td>...</td>\n",
       "      <td>...</td>\n",
       "      <td>...</td>\n",
       "      <td>...</td>\n",
       "      <td>...</td>\n",
       "      <td>...</td>\n",
       "      <td>...</td>\n",
       "      <td>...</td>\n",
       "      <td>...</td>\n",
       "      <td>...</td>\n",
       "      <td>...</td>\n",
       "    </tr>\n",
       "    <tr>\n",
       "      <th>43497</th>\n",
       "      <td>84534152</td>\n",
       "      <td>6.0</td>\n",
       "      <td>28.0</td>\n",
       "      <td>21.0</td>\n",
       "      <td>29.0</td>\n",
       "      <td>20.0</td>\n",
       "      <td>31.0</td>\n",
       "      <td>2019-05-29</td>\n",
       "      <td>2019-05-31</td>\n",
       "      <td>31</td>\n",
       "      <td>29</td>\n",
       "    </tr>\n",
       "    <tr>\n",
       "      <th>43498</th>\n",
       "      <td>59319045</td>\n",
       "      <td>12.0</td>\n",
       "      <td>28.0</td>\n",
       "      <td>6.0</td>\n",
       "      <td>24.0</td>\n",
       "      <td>8.0</td>\n",
       "      <td>30.0</td>\n",
       "      <td>2019-05-24</td>\n",
       "      <td>2019-05-31</td>\n",
       "      <td>31</td>\n",
       "      <td>24</td>\n",
       "    </tr>\n",
       "    <tr>\n",
       "      <th>43499</th>\n",
       "      <td>80894929</td>\n",
       "      <td>0.0</td>\n",
       "      <td>0.0</td>\n",
       "      <td>0.0</td>\n",
       "      <td>0.0</td>\n",
       "      <td>7.0</td>\n",
       "      <td>0.0</td>\n",
       "      <td>2019-05-31</td>\n",
       "      <td>2019-05-31</td>\n",
       "      <td>31</td>\n",
       "      <td>31</td>\n",
       "    </tr>\n",
       "    <tr>\n",
       "      <th>43500</th>\n",
       "      <td>237046723</td>\n",
       "      <td>15.0</td>\n",
       "      <td>21.0</td>\n",
       "      <td>12.0</td>\n",
       "      <td>18.0</td>\n",
       "      <td>18.0</td>\n",
       "      <td>26.0</td>\n",
       "      <td>2019-05-31</td>\n",
       "      <td>2019-05-31</td>\n",
       "      <td>31</td>\n",
       "      <td>31</td>\n",
       "    </tr>\n",
       "    <tr>\n",
       "      <th>43501</th>\n",
       "      <td>49771756</td>\n",
       "      <td>5.0</td>\n",
       "      <td>16.0</td>\n",
       "      <td>6.0</td>\n",
       "      <td>15.0</td>\n",
       "      <td>3.0</td>\n",
       "      <td>18.0</td>\n",
       "      <td>2019-05-20</td>\n",
       "      <td>2019-05-30</td>\n",
       "      <td>30</td>\n",
       "      <td>20</td>\n",
       "    </tr>\n",
       "  </tbody>\n",
       "</table>\n",
       "<p>43502 rows × 11 columns</p>\n",
       "</div>"
      ],
      "text/plain": [
       "       CUS_CUST_ID_BUY  MAU_MP_3  MAU_ML_3  MAU_MP_2  MAU_ML_2  MAU_MP_1  \\\n",
       "0            424070401       0.0       0.0       1.0       0.0       0.0   \n",
       "1            271894453       1.0      14.0      11.0      21.0       2.0   \n",
       "2            327402711       0.0       0.0       0.0      10.0       4.0   \n",
       "3            310355113       5.0      18.0       5.0       7.0       3.0   \n",
       "4             59350476       1.0      18.0       5.0      17.0       4.0   \n",
       "...                ...       ...       ...       ...       ...       ...   \n",
       "43497         84534152       6.0      28.0      21.0      29.0      20.0   \n",
       "43498         59319045      12.0      28.0       6.0      24.0       8.0   \n",
       "43499         80894929       0.0       0.0       0.0       0.0       7.0   \n",
       "43500        237046723      15.0      21.0      12.0      18.0      18.0   \n",
       "43501         49771756       5.0      16.0       6.0      15.0       3.0   \n",
       "\n",
       "       MAU_ML_1 last_login_mp_date_1 last_login_ml_date_1  last_ml_day  \\\n",
       "0           0.0           2019-05-31           2019-05-31           31   \n",
       "1          12.0           2019-05-17           2019-05-24           24   \n",
       "2          26.0           2019-05-28           2019-05-31           31   \n",
       "3          10.0           2019-05-21           2019-05-29           29   \n",
       "4          27.0           2019-05-31           2019-05-31           31   \n",
       "...         ...                  ...                  ...          ...   \n",
       "43497      31.0           2019-05-29           2019-05-31           31   \n",
       "43498      30.0           2019-05-24           2019-05-31           31   \n",
       "43499       0.0           2019-05-31           2019-05-31           31   \n",
       "43500      26.0           2019-05-31           2019-05-31           31   \n",
       "43501      18.0           2019-05-20           2019-05-30           30   \n",
       "\n",
       "       last_mp_day  \n",
       "0               31  \n",
       "1               17  \n",
       "2               28  \n",
       "3               21  \n",
       "4               31  \n",
       "...            ...  \n",
       "43497           29  \n",
       "43498           24  \n",
       "43499           31  \n",
       "43500           31  \n",
       "43501           20  \n",
       "\n",
       "[43502 rows x 11 columns]"
      ]
     },
     "execution_count": 114,
     "metadata": {},
     "output_type": "execute_result"
    }
   ],
   "source": [
    "Active_data"
   ]
  },
  {
   "cell_type": "code",
   "execution_count": 115,
   "id": "blessed-bidder",
   "metadata": {},
   "outputs": [],
   "source": [
    "Final_Data = Final_Data.merge(Active_data,on = 'CUS_CUST_ID_BUY')"
   ]
  },
  {
   "cell_type": "markdown",
   "id": "quick-support",
   "metadata": {},
   "source": [
    "* **DINERO_CUENTA.csv:** Contiene datos de la cantidad de dinero en la cuenta y si invierte en fondo.\n",
    "    * PLATA_CUENTA_1: Máximo dinero en cuenta en el último mes (mes -1).\n",
    "    * PLATA_CUENTA_2: Máximo dinero en cuenta en el mes -2.\n",
    "    * INVERSION: Indica en que estado esta el usuario para la inversión:\n",
    "        * Investing: Está invirtiendo.\n",
    "        * Elegible: Está disponible para que inviertan dinero.\n",
    "        * Warmup: Hicieron el onboarding de inversión pero no llenaron los campos.\n",
    "        * Pending: Hicieron el proceso para invertir, pero está en pending de aprobación."
   ]
  },
  {
   "cell_type": "code",
   "execution_count": null,
   "id": "based-biography",
   "metadata": {},
   "outputs": [],
   "source": [
    "#rellena nulls y adentro "
   ]
  },
  {
   "cell_type": "code",
   "execution_count": 116,
   "id": "married-looking",
   "metadata": {},
   "outputs": [
    {
     "data": {
      "text/plain": [
       "CUS_CUST_ID_BUY    0.000000\n",
       "PLATA_CUENTA_1     0.000000\n",
       "PLATA_CUENTA_2     0.044707\n",
       "INVERSION          0.023807\n",
       "dtype: float64"
      ]
     },
     "execution_count": 116,
     "metadata": {},
     "output_type": "execute_result"
    }
   ],
   "source": [
    "Account_data.isnull().sum()/Account_data.shape[0]"
   ]
  },
  {
   "cell_type": "code",
   "execution_count": 117,
   "id": "mysterious-former",
   "metadata": {},
   "outputs": [
    {
     "name": "stdout",
     "output_type": "stream",
     "text": [
      "<class 'pandas.core.frame.DataFrame'>\n",
      "RangeIndex: 41627 entries, 0 to 41626\n",
      "Data columns (total 4 columns):\n",
      " #   Column           Non-Null Count  Dtype  \n",
      "---  ------           --------------  -----  \n",
      " 0   CUS_CUST_ID_BUY  41627 non-null  float64\n",
      " 1   PLATA_CUENTA_1   41627 non-null  float64\n",
      " 2   PLATA_CUENTA_2   39766 non-null  float64\n",
      " 3   INVERSION        40636 non-null  object \n",
      "dtypes: float64(3), object(1)\n",
      "memory usage: 1.3+ MB\n"
     ]
    }
   ],
   "source": [
    "Account_data.info()"
   ]
  },
  {
   "cell_type": "code",
   "execution_count": 118,
   "id": "central-recycling",
   "metadata": {},
   "outputs": [
    {
     "data": {
      "text/plain": [
       "41627"
      ]
     },
     "execution_count": 118,
     "metadata": {},
     "output_type": "execute_result"
    }
   ],
   "source": [
    "len(Account_data.CUS_CUST_ID_BUY.unique())"
   ]
  },
  {
   "cell_type": "code",
   "execution_count": 119,
   "id": "sitting-theology",
   "metadata": {},
   "outputs": [
    {
     "data": {
      "text/html": [
       "<div>\n",
       "<style scoped>\n",
       "    .dataframe tbody tr th:only-of-type {\n",
       "        vertical-align: middle;\n",
       "    }\n",
       "\n",
       "    .dataframe tbody tr th {\n",
       "        vertical-align: top;\n",
       "    }\n",
       "\n",
       "    .dataframe thead th {\n",
       "        text-align: right;\n",
       "    }\n",
       "</style>\n",
       "<table border=\"1\" class=\"dataframe\">\n",
       "  <thead>\n",
       "    <tr style=\"text-align: right;\">\n",
       "      <th></th>\n",
       "      <th>CUS_CUST_ID_BUY</th>\n",
       "      <th>PLATA_CUENTA_1</th>\n",
       "      <th>PLATA_CUENTA_2</th>\n",
       "      <th>INVERSION</th>\n",
       "    </tr>\n",
       "  </thead>\n",
       "  <tbody>\n",
       "    <tr>\n",
       "      <th>0</th>\n",
       "      <td>54018.0</td>\n",
       "      <td>250.99</td>\n",
       "      <td>0.00</td>\n",
       "      <td>pending</td>\n",
       "    </tr>\n",
       "    <tr>\n",
       "      <th>1</th>\n",
       "      <td>23513.0</td>\n",
       "      <td>20.05</td>\n",
       "      <td>2220.05</td>\n",
       "      <td>warmup</td>\n",
       "    </tr>\n",
       "    <tr>\n",
       "      <th>2</th>\n",
       "      <td>21230.0</td>\n",
       "      <td>0.00</td>\n",
       "      <td>0.00</td>\n",
       "      <td>warmup</td>\n",
       "    </tr>\n",
       "    <tr>\n",
       "      <th>3</th>\n",
       "      <td>100387.0</td>\n",
       "      <td>0.00</td>\n",
       "      <td>0.00</td>\n",
       "      <td>eligible</td>\n",
       "    </tr>\n",
       "    <tr>\n",
       "      <th>4</th>\n",
       "      <td>97357.0</td>\n",
       "      <td>0.00</td>\n",
       "      <td>0.00</td>\n",
       "      <td>eligible</td>\n",
       "    </tr>\n",
       "  </tbody>\n",
       "</table>\n",
       "</div>"
      ],
      "text/plain": [
       "   CUS_CUST_ID_BUY  PLATA_CUENTA_1  PLATA_CUENTA_2 INVERSION\n",
       "0          54018.0          250.99            0.00   pending\n",
       "1          23513.0           20.05         2220.05    warmup\n",
       "2          21230.0            0.00            0.00    warmup\n",
       "3         100387.0            0.00            0.00  eligible\n",
       "4          97357.0            0.00            0.00  eligible"
      ]
     },
     "execution_count": 119,
     "metadata": {},
     "output_type": "execute_result"
    }
   ],
   "source": [
    "Account_data.head(5)"
   ]
  },
  {
   "cell_type": "code",
   "execution_count": 120,
   "id": "treated-presence",
   "metadata": {},
   "outputs": [
    {
     "data": {
      "text/plain": [
       "1861"
      ]
     },
     "execution_count": 120,
     "metadata": {},
     "output_type": "execute_result"
    }
   ],
   "source": [
    "Account_data.PLATA_CUENTA_2.isnull().sum()"
   ]
  },
  {
   "cell_type": "code",
   "execution_count": 121,
   "id": "rational-interview",
   "metadata": {},
   "outputs": [
    {
     "data": {
      "text/plain": [
       "2741.5737557209677"
      ]
     },
     "execution_count": 121,
     "metadata": {},
     "output_type": "execute_result"
    }
   ],
   "source": [
    "Account_data.PLATA_CUENTA_2.mean()"
   ]
  },
  {
   "cell_type": "code",
   "execution_count": 122,
   "id": "dynamic-barrel",
   "metadata": {},
   "outputs": [
    {
     "data": {
      "text/plain": [
       "22387.860360344337"
      ]
     },
     "execution_count": 122,
     "metadata": {},
     "output_type": "execute_result"
    }
   ],
   "source": [
    "Account_data.PLATA_CUENTA_2.std()"
   ]
  },
  {
   "cell_type": "code",
   "execution_count": 123,
   "id": "featured-yellow",
   "metadata": {},
   "outputs": [
    {
     "data": {
      "text/plain": [
       "0.0"
      ]
     },
     "execution_count": 123,
     "metadata": {},
     "output_type": "execute_result"
    }
   ],
   "source": [
    "Account_data.PLATA_CUENTA_2.median()"
   ]
  },
  {
   "cell_type": "code",
   "execution_count": 124,
   "id": "revised-trading",
   "metadata": {},
   "outputs": [],
   "source": [
    "Account_data.PLATA_CUENTA_2.fillna(0,inplace = True)"
   ]
  },
  {
   "cell_type": "code",
   "execution_count": 125,
   "id": "exposed-merchandise",
   "metadata": {},
   "outputs": [
    {
     "data": {
      "text/plain": [
       "eligible           18101\n",
       "warmup              9933\n",
       "pending             5611\n",
       "investing           5591\n",
       "non_eligible         964\n",
       "disabled             236\n",
       "disable_pending      117\n",
       "rejected              53\n",
       "banned                30\n",
       "Name: INVERSION, dtype: int64"
      ]
     },
     "execution_count": 125,
     "metadata": {},
     "output_type": "execute_result"
    }
   ],
   "source": [
    "Account_data.INVERSION.value_counts()"
   ]
  },
  {
   "cell_type": "code",
   "execution_count": 126,
   "id": "signed-regulation",
   "metadata": {},
   "outputs": [],
   "source": [
    "Account_data.INVERSION.fillna('eligible',inplace = True)"
   ]
  },
  {
   "cell_type": "code",
   "execution_count": 127,
   "id": "parental-desperate",
   "metadata": {},
   "outputs": [
    {
     "data": {
      "text/html": [
       "<div>\n",
       "<style scoped>\n",
       "    .dataframe tbody tr th:only-of-type {\n",
       "        vertical-align: middle;\n",
       "    }\n",
       "\n",
       "    .dataframe tbody tr th {\n",
       "        vertical-align: top;\n",
       "    }\n",
       "\n",
       "    .dataframe thead th {\n",
       "        text-align: right;\n",
       "    }\n",
       "</style>\n",
       "<table border=\"1\" class=\"dataframe\">\n",
       "  <thead>\n",
       "    <tr style=\"text-align: right;\">\n",
       "      <th></th>\n",
       "      <th>CUS_CUST_ID_BUY</th>\n",
       "      <th>PLATA_CUENTA_1</th>\n",
       "      <th>PLATA_CUENTA_2</th>\n",
       "      <th>INVERSION</th>\n",
       "    </tr>\n",
       "  </thead>\n",
       "  <tbody>\n",
       "    <tr>\n",
       "      <th>0</th>\n",
       "      <td>54018.0</td>\n",
       "      <td>250.99</td>\n",
       "      <td>0.00</td>\n",
       "      <td>pending</td>\n",
       "    </tr>\n",
       "    <tr>\n",
       "      <th>1</th>\n",
       "      <td>23513.0</td>\n",
       "      <td>20.05</td>\n",
       "      <td>2220.05</td>\n",
       "      <td>warmup</td>\n",
       "    </tr>\n",
       "    <tr>\n",
       "      <th>2</th>\n",
       "      <td>21230.0</td>\n",
       "      <td>0.00</td>\n",
       "      <td>0.00</td>\n",
       "      <td>warmup</td>\n",
       "    </tr>\n",
       "    <tr>\n",
       "      <th>3</th>\n",
       "      <td>100387.0</td>\n",
       "      <td>0.00</td>\n",
       "      <td>0.00</td>\n",
       "      <td>eligible</td>\n",
       "    </tr>\n",
       "    <tr>\n",
       "      <th>4</th>\n",
       "      <td>97357.0</td>\n",
       "      <td>0.00</td>\n",
       "      <td>0.00</td>\n",
       "      <td>eligible</td>\n",
       "    </tr>\n",
       "  </tbody>\n",
       "</table>\n",
       "</div>"
      ],
      "text/plain": [
       "   CUS_CUST_ID_BUY  PLATA_CUENTA_1  PLATA_CUENTA_2 INVERSION\n",
       "0          54018.0          250.99            0.00   pending\n",
       "1          23513.0           20.05         2220.05    warmup\n",
       "2          21230.0            0.00            0.00    warmup\n",
       "3         100387.0            0.00            0.00  eligible\n",
       "4          97357.0            0.00            0.00  eligible"
      ]
     },
     "execution_count": 127,
     "metadata": {},
     "output_type": "execute_result"
    }
   ],
   "source": [
    "Account_data.head(5)"
   ]
  },
  {
   "cell_type": "code",
   "execution_count": 128,
   "id": "together-nickel",
   "metadata": {},
   "outputs": [],
   "source": [
    "Final_Data = Final_Data.merge(Account_data,on = 'CUS_CUST_ID_BUY', how = 'outer')"
   ]
  },
  {
   "cell_type": "code",
   "execution_count": 129,
   "id": "naughty-gnome",
   "metadata": {},
   "outputs": [
    {
     "data": {
      "text/html": [
       "<div>\n",
       "<style scoped>\n",
       "    .dataframe tbody tr th:only-of-type {\n",
       "        vertical-align: middle;\n",
       "    }\n",
       "\n",
       "    .dataframe tbody tr th {\n",
       "        vertical-align: top;\n",
       "    }\n",
       "\n",
       "    .dataframe thead th {\n",
       "        text-align: right;\n",
       "    }\n",
       "</style>\n",
       "<table border=\"1\" class=\"dataframe\">\n",
       "  <thead>\n",
       "    <tr style=\"text-align: right;\">\n",
       "      <th></th>\n",
       "      <th>CUS_CUST_ID_BUY</th>\n",
       "      <th>GENDER</th>\n",
       "      <th>TARJETAS</th>\n",
       "      <th>ESTADO</th>\n",
       "      <th>CITY</th>\n",
       "      <th>Rango_edad</th>\n",
       "      <th>1_trans</th>\n",
       "      <th>3_trans</th>\n",
       "      <th>4_trans</th>\n",
       "      <th>6_trans</th>\n",
       "      <th>...</th>\n",
       "      <th>MAU_ML_2</th>\n",
       "      <th>MAU_MP_1</th>\n",
       "      <th>MAU_ML_1</th>\n",
       "      <th>last_login_mp_date_1</th>\n",
       "      <th>last_login_ml_date_1</th>\n",
       "      <th>last_ml_day</th>\n",
       "      <th>last_mp_day</th>\n",
       "      <th>PLATA_CUENTA_1</th>\n",
       "      <th>PLATA_CUENTA_2</th>\n",
       "      <th>INVERSION</th>\n",
       "    </tr>\n",
       "  </thead>\n",
       "  <tbody>\n",
       "    <tr>\n",
       "      <th>0</th>\n",
       "      <td>47629682</td>\n",
       "      <td>male</td>\n",
       "      <td>Credit Card</td>\n",
       "      <td>capital federal</td>\n",
       "      <td>caba</td>\n",
       "      <td>26-30</td>\n",
       "      <td>0</td>\n",
       "      <td>0</td>\n",
       "      <td>2</td>\n",
       "      <td>1</td>\n",
       "      <td>...</td>\n",
       "      <td>7.0</td>\n",
       "      <td>1.0</td>\n",
       "      <td>5.0</td>\n",
       "      <td>2019-05-09</td>\n",
       "      <td>2019-05-31</td>\n",
       "      <td>31</td>\n",
       "      <td>9</td>\n",
       "      <td>0.00</td>\n",
       "      <td>0.00</td>\n",
       "      <td>eligible</td>\n",
       "    </tr>\n",
       "    <tr>\n",
       "      <th>1</th>\n",
       "      <td>184288617</td>\n",
       "      <td>male</td>\n",
       "      <td>Account Money</td>\n",
       "      <td>buenos aires</td>\n",
       "      <td>belen de escobar</td>\n",
       "      <td>26-30</td>\n",
       "      <td>5</td>\n",
       "      <td>3</td>\n",
       "      <td>1</td>\n",
       "      <td>0</td>\n",
       "      <td>...</td>\n",
       "      <td>13.0</td>\n",
       "      <td>8.0</td>\n",
       "      <td>19.0</td>\n",
       "      <td>2019-05-30</td>\n",
       "      <td>2019-05-31</td>\n",
       "      <td>31</td>\n",
       "      <td>30</td>\n",
       "      <td>164.29</td>\n",
       "      <td>364.29</td>\n",
       "      <td>pending</td>\n",
       "    </tr>\n",
       "    <tr>\n",
       "      <th>2</th>\n",
       "      <td>134359455</td>\n",
       "      <td>female</td>\n",
       "      <td>Debit Card</td>\n",
       "      <td>catamarca</td>\n",
       "      <td>san fernando del valle de catamarca</td>\n",
       "      <td>26-30</td>\n",
       "      <td>0</td>\n",
       "      <td>3</td>\n",
       "      <td>0</td>\n",
       "      <td>0</td>\n",
       "      <td>...</td>\n",
       "      <td>0.0</td>\n",
       "      <td>9.0</td>\n",
       "      <td>5.0</td>\n",
       "      <td>2019-05-28</td>\n",
       "      <td>2019-05-31</td>\n",
       "      <td>31</td>\n",
       "      <td>28</td>\n",
       "      <td>1128.53</td>\n",
       "      <td>1510.54</td>\n",
       "      <td>investing</td>\n",
       "    </tr>\n",
       "    <tr>\n",
       "      <th>3</th>\n",
       "      <td>126256149</td>\n",
       "      <td>female</td>\n",
       "      <td>Account Money</td>\n",
       "      <td>buenos aires</td>\n",
       "      <td>lomas de zamora</td>\n",
       "      <td>56-65</td>\n",
       "      <td>0</td>\n",
       "      <td>0</td>\n",
       "      <td>0</td>\n",
       "      <td>1</td>\n",
       "      <td>...</td>\n",
       "      <td>0.0</td>\n",
       "      <td>11.0</td>\n",
       "      <td>0.0</td>\n",
       "      <td>2019-05-29</td>\n",
       "      <td>2019-05-29</td>\n",
       "      <td>29</td>\n",
       "      <td>29</td>\n",
       "      <td>87.77</td>\n",
       "      <td>4.59</td>\n",
       "      <td>warmup</td>\n",
       "    </tr>\n",
       "    <tr>\n",
       "      <th>4</th>\n",
       "      <td>447582139</td>\n",
       "      <td>male</td>\n",
       "      <td>Debit Card</td>\n",
       "      <td>rio negro</td>\n",
       "      <td>villa manzano</td>\n",
       "      <td>18-25</td>\n",
       "      <td>0</td>\n",
       "      <td>0</td>\n",
       "      <td>0</td>\n",
       "      <td>2</td>\n",
       "      <td>...</td>\n",
       "      <td>0.0</td>\n",
       "      <td>0.0</td>\n",
       "      <td>0.0</td>\n",
       "      <td>2019-05-31</td>\n",
       "      <td>2019-05-31</td>\n",
       "      <td>31</td>\n",
       "      <td>31</td>\n",
       "      <td>NaN</td>\n",
       "      <td>NaN</td>\n",
       "      <td>NaN</td>\n",
       "    </tr>\n",
       "    <tr>\n",
       "      <th>...</th>\n",
       "      <td>...</td>\n",
       "      <td>...</td>\n",
       "      <td>...</td>\n",
       "      <td>...</td>\n",
       "      <td>...</td>\n",
       "      <td>...</td>\n",
       "      <td>...</td>\n",
       "      <td>...</td>\n",
       "      <td>...</td>\n",
       "      <td>...</td>\n",
       "      <td>...</td>\n",
       "      <td>...</td>\n",
       "      <td>...</td>\n",
       "      <td>...</td>\n",
       "      <td>...</td>\n",
       "      <td>...</td>\n",
       "      <td>...</td>\n",
       "      <td>...</td>\n",
       "      <td>...</td>\n",
       "      <td>...</td>\n",
       "      <td>...</td>\n",
       "    </tr>\n",
       "    <tr>\n",
       "      <th>43497</th>\n",
       "      <td>448290283</td>\n",
       "      <td>Unknown</td>\n",
       "      <td>Unknown</td>\n",
       "      <td>Unknown</td>\n",
       "      <td>Unknown</td>\n",
       "      <td>Unknown</td>\n",
       "      <td>0</td>\n",
       "      <td>0</td>\n",
       "      <td>0</td>\n",
       "      <td>1</td>\n",
       "      <td>...</td>\n",
       "      <td>0.0</td>\n",
       "      <td>0.0</td>\n",
       "      <td>0.0</td>\n",
       "      <td>2019-05-31</td>\n",
       "      <td>2019-05-31</td>\n",
       "      <td>31</td>\n",
       "      <td>31</td>\n",
       "      <td>NaN</td>\n",
       "      <td>NaN</td>\n",
       "      <td>NaN</td>\n",
       "    </tr>\n",
       "    <tr>\n",
       "      <th>43498</th>\n",
       "      <td>448313152</td>\n",
       "      <td>Unknown</td>\n",
       "      <td>Unknown</td>\n",
       "      <td>Unknown</td>\n",
       "      <td>Unknown</td>\n",
       "      <td>Unknown</td>\n",
       "      <td>0</td>\n",
       "      <td>0</td>\n",
       "      <td>0</td>\n",
       "      <td>1</td>\n",
       "      <td>...</td>\n",
       "      <td>0.0</td>\n",
       "      <td>0.0</td>\n",
       "      <td>0.0</td>\n",
       "      <td>2019-05-31</td>\n",
       "      <td>2019-05-31</td>\n",
       "      <td>31</td>\n",
       "      <td>31</td>\n",
       "      <td>NaN</td>\n",
       "      <td>NaN</td>\n",
       "      <td>NaN</td>\n",
       "    </tr>\n",
       "    <tr>\n",
       "      <th>43499</th>\n",
       "      <td>448326912</td>\n",
       "      <td>Unknown</td>\n",
       "      <td>Unknown</td>\n",
       "      <td>Unknown</td>\n",
       "      <td>Unknown</td>\n",
       "      <td>Unknown</td>\n",
       "      <td>0</td>\n",
       "      <td>0</td>\n",
       "      <td>0</td>\n",
       "      <td>1</td>\n",
       "      <td>...</td>\n",
       "      <td>0.0</td>\n",
       "      <td>0.0</td>\n",
       "      <td>0.0</td>\n",
       "      <td>2019-05-31</td>\n",
       "      <td>2019-05-31</td>\n",
       "      <td>31</td>\n",
       "      <td>31</td>\n",
       "      <td>NaN</td>\n",
       "      <td>NaN</td>\n",
       "      <td>NaN</td>\n",
       "    </tr>\n",
       "    <tr>\n",
       "      <th>43500</th>\n",
       "      <td>448330186</td>\n",
       "      <td>Unknown</td>\n",
       "      <td>Unknown</td>\n",
       "      <td>Unknown</td>\n",
       "      <td>Unknown</td>\n",
       "      <td>Unknown</td>\n",
       "      <td>0</td>\n",
       "      <td>0</td>\n",
       "      <td>0</td>\n",
       "      <td>1</td>\n",
       "      <td>...</td>\n",
       "      <td>0.0</td>\n",
       "      <td>0.0</td>\n",
       "      <td>0.0</td>\n",
       "      <td>2019-05-31</td>\n",
       "      <td>2019-05-31</td>\n",
       "      <td>31</td>\n",
       "      <td>31</td>\n",
       "      <td>NaN</td>\n",
       "      <td>NaN</td>\n",
       "      <td>NaN</td>\n",
       "    </tr>\n",
       "    <tr>\n",
       "      <th>43501</th>\n",
       "      <td>448374921</td>\n",
       "      <td>Unknown</td>\n",
       "      <td>Unknown</td>\n",
       "      <td>Unknown</td>\n",
       "      <td>Unknown</td>\n",
       "      <td>Unknown</td>\n",
       "      <td>0</td>\n",
       "      <td>0</td>\n",
       "      <td>0</td>\n",
       "      <td>1</td>\n",
       "      <td>...</td>\n",
       "      <td>0.0</td>\n",
       "      <td>0.0</td>\n",
       "      <td>0.0</td>\n",
       "      <td>2019-05-31</td>\n",
       "      <td>2019-05-31</td>\n",
       "      <td>31</td>\n",
       "      <td>31</td>\n",
       "      <td>NaN</td>\n",
       "      <td>NaN</td>\n",
       "      <td>NaN</td>\n",
       "    </tr>\n",
       "  </tbody>\n",
       "</table>\n",
       "<p>43502 rows × 38 columns</p>\n",
       "</div>"
      ],
      "text/plain": [
       "       CUS_CUST_ID_BUY   GENDER       TARJETAS           ESTADO  \\\n",
       "0             47629682     male    Credit Card  capital federal   \n",
       "1            184288617     male  Account Money     buenos aires   \n",
       "2            134359455   female     Debit Card        catamarca   \n",
       "3            126256149   female  Account Money     buenos aires   \n",
       "4            447582139     male     Debit Card        rio negro   \n",
       "...                ...      ...            ...              ...   \n",
       "43497        448290283  Unknown        Unknown          Unknown   \n",
       "43498        448313152  Unknown        Unknown          Unknown   \n",
       "43499        448326912  Unknown        Unknown          Unknown   \n",
       "43500        448330186  Unknown        Unknown          Unknown   \n",
       "43501        448374921  Unknown        Unknown          Unknown   \n",
       "\n",
       "                                      CITY Rango_edad  1_trans  3_trans  \\\n",
       "0                                     caba      26-30        0        0   \n",
       "1                         belen de escobar      26-30        5        3   \n",
       "2      san fernando del valle de catamarca      26-30        0        3   \n",
       "3                          lomas de zamora      56-65        0        0   \n",
       "4                            villa manzano      18-25        0        0   \n",
       "...                                    ...        ...      ...      ...   \n",
       "43497                              Unknown    Unknown        0        0   \n",
       "43498                              Unknown    Unknown        0        0   \n",
       "43499                              Unknown    Unknown        0        0   \n",
       "43500                              Unknown    Unknown        0        0   \n",
       "43501                              Unknown    Unknown        0        0   \n",
       "\n",
       "       4_trans  6_trans  ...  MAU_ML_2  MAU_MP_1  MAU_ML_1  \\\n",
       "0            2        1  ...       7.0       1.0       5.0   \n",
       "1            1        0  ...      13.0       8.0      19.0   \n",
       "2            0        0  ...       0.0       9.0       5.0   \n",
       "3            0        1  ...       0.0      11.0       0.0   \n",
       "4            0        2  ...       0.0       0.0       0.0   \n",
       "...        ...      ...  ...       ...       ...       ...   \n",
       "43497        0        1  ...       0.0       0.0       0.0   \n",
       "43498        0        1  ...       0.0       0.0       0.0   \n",
       "43499        0        1  ...       0.0       0.0       0.0   \n",
       "43500        0        1  ...       0.0       0.0       0.0   \n",
       "43501        0        1  ...       0.0       0.0       0.0   \n",
       "\n",
       "       last_login_mp_date_1  last_login_ml_date_1  last_ml_day  last_mp_day  \\\n",
       "0                2019-05-09            2019-05-31           31            9   \n",
       "1                2019-05-30            2019-05-31           31           30   \n",
       "2                2019-05-28            2019-05-31           31           28   \n",
       "3                2019-05-29            2019-05-29           29           29   \n",
       "4                2019-05-31            2019-05-31           31           31   \n",
       "...                     ...                   ...          ...          ...   \n",
       "43497            2019-05-31            2019-05-31           31           31   \n",
       "43498            2019-05-31            2019-05-31           31           31   \n",
       "43499            2019-05-31            2019-05-31           31           31   \n",
       "43500            2019-05-31            2019-05-31           31           31   \n",
       "43501            2019-05-31            2019-05-31           31           31   \n",
       "\n",
       "       PLATA_CUENTA_1  PLATA_CUENTA_2  INVERSION  \n",
       "0                0.00            0.00   eligible  \n",
       "1              164.29          364.29    pending  \n",
       "2             1128.53         1510.54  investing  \n",
       "3               87.77            4.59     warmup  \n",
       "4                 NaN             NaN        NaN  \n",
       "...               ...             ...        ...  \n",
       "43497             NaN             NaN        NaN  \n",
       "43498             NaN             NaN        NaN  \n",
       "43499             NaN             NaN        NaN  \n",
       "43500             NaN             NaN        NaN  \n",
       "43501             NaN             NaN        NaN  \n",
       "\n",
       "[43502 rows x 38 columns]"
      ]
     },
     "execution_count": 129,
     "metadata": {},
     "output_type": "execute_result"
    }
   ],
   "source": [
    "Final_Data"
   ]
  },
  {
   "cell_type": "code",
   "execution_count": 130,
   "id": "defensive-diagnosis",
   "metadata": {},
   "outputs": [],
   "source": [
    "Final_Data.PLATA_CUENTA_1.fillna(0,inplace = True)"
   ]
  },
  {
   "cell_type": "code",
   "execution_count": 131,
   "id": "tribal-backing",
   "metadata": {},
   "outputs": [],
   "source": [
    "Final_Data.PLATA_CUENTA_2.fillna(0,inplace = True)"
   ]
  },
  {
   "cell_type": "code",
   "execution_count": 132,
   "id": "catholic-sacramento",
   "metadata": {},
   "outputs": [],
   "source": [
    "Final_Data.INVERSION.fillna('eligible',inplace = True)"
   ]
  },
  {
   "cell_type": "code",
   "execution_count": 3,
   "id": "apart-eugene",
   "metadata": {},
   "outputs": [
    {
     "data": {
      "text/plain": [
       "32.182428394096824"
      ]
     },
     "execution_count": 3,
     "metadata": {},
     "output_type": "execute_result"
    }
   ],
   "source": [
    "(14000 * 100)/43502"
   ]
  },
  {
   "cell_type": "markdown",
   "id": "organizational-health",
   "metadata": {},
   "source": [
    "# MARKETPLACE_DATA:\n",
    "    * SPENT_ML: Dinero gastado en ML.\n",
    "    * RECENCY_ML: Fecha de la ultimo compra en ML.\n",
    "    * FREQUENCY_ML: Cantidad de días que realizó compras."
   ]
  },
  {
   "cell_type": "code",
   "execution_count": null,
   "id": "narrow-appliance",
   "metadata": {},
   "outputs": [],
   "source": [
    "#rellena nulls y adentro"
   ]
  },
  {
   "cell_type": "code",
   "execution_count": 133,
   "id": "alpha-priest",
   "metadata": {},
   "outputs": [
    {
     "data": {
      "text/html": [
       "<div>\n",
       "<style scoped>\n",
       "    .dataframe tbody tr th:only-of-type {\n",
       "        vertical-align: middle;\n",
       "    }\n",
       "\n",
       "    .dataframe tbody tr th {\n",
       "        vertical-align: top;\n",
       "    }\n",
       "\n",
       "    .dataframe thead th {\n",
       "        text-align: right;\n",
       "    }\n",
       "</style>\n",
       "<table border=\"1\" class=\"dataframe\">\n",
       "  <thead>\n",
       "    <tr style=\"text-align: right;\">\n",
       "      <th></th>\n",
       "      <th>CUS_CUST_ID_BUY</th>\n",
       "      <th>SPENT_ML</th>\n",
       "      <th>RECENCY_ML</th>\n",
       "      <th>FREQUENCY_ML</th>\n",
       "    </tr>\n",
       "  </thead>\n",
       "  <tbody>\n",
       "    <tr>\n",
       "      <th>0</th>\n",
       "      <td>53621056</td>\n",
       "      <td>71.51</td>\n",
       "      <td>2019-03-30</td>\n",
       "      <td>1</td>\n",
       "    </tr>\n",
       "    <tr>\n",
       "      <th>1</th>\n",
       "      <td>308208758</td>\n",
       "      <td>269.20</td>\n",
       "      <td>2019-05-30</td>\n",
       "      <td>11</td>\n",
       "    </tr>\n",
       "    <tr>\n",
       "      <th>2</th>\n",
       "      <td>30591970</td>\n",
       "      <td>149.22</td>\n",
       "      <td>2019-03-24</td>\n",
       "      <td>4</td>\n",
       "    </tr>\n",
       "    <tr>\n",
       "      <th>3</th>\n",
       "      <td>343783095</td>\n",
       "      <td>352.15</td>\n",
       "      <td>2019-05-31</td>\n",
       "      <td>11</td>\n",
       "    </tr>\n",
       "    <tr>\n",
       "      <th>4</th>\n",
       "      <td>163876883</td>\n",
       "      <td>1.10</td>\n",
       "      <td>2019-05-10</td>\n",
       "      <td>1</td>\n",
       "    </tr>\n",
       "  </tbody>\n",
       "</table>\n",
       "</div>"
      ],
      "text/plain": [
       "   CUS_CUST_ID_BUY  SPENT_ML  RECENCY_ML  FREQUENCY_ML\n",
       "0         53621056     71.51  2019-03-30             1\n",
       "1        308208758    269.20  2019-05-30            11\n",
       "2         30591970    149.22  2019-03-24             4\n",
       "3        343783095    352.15  2019-05-31            11\n",
       "4        163876883      1.10  2019-05-10             1"
      ]
     },
     "execution_count": 133,
     "metadata": {},
     "output_type": "execute_result"
    }
   ],
   "source": [
    "MarketPlace_data.head()"
   ]
  },
  {
   "cell_type": "code",
   "execution_count": 134,
   "id": "therapeutic-somalia",
   "metadata": {},
   "outputs": [
    {
     "name": "stdout",
     "output_type": "stream",
     "text": [
      "<class 'pandas.core.frame.DataFrame'>\n",
      "RangeIndex: 24442 entries, 0 to 24441\n",
      "Data columns (total 4 columns):\n",
      " #   Column           Non-Null Count  Dtype  \n",
      "---  ------           --------------  -----  \n",
      " 0   CUS_CUST_ID_BUY  24442 non-null  int64  \n",
      " 1   SPENT_ML         24442 non-null  float64\n",
      " 2   RECENCY_ML       24442 non-null  object \n",
      " 3   FREQUENCY_ML     24442 non-null  int64  \n",
      "dtypes: float64(1), int64(2), object(1)\n",
      "memory usage: 763.9+ KB\n"
     ]
    }
   ],
   "source": [
    "MarketPlace_data.info()"
   ]
  },
  {
   "cell_type": "code",
   "execution_count": 135,
   "id": "developing-brand",
   "metadata": {},
   "outputs": [
    {
     "data": {
      "text/plain": [
       "<bound method Series.unique of 0         53621056\n",
       "1        308208758\n",
       "2         30591970\n",
       "3        343783095\n",
       "4        163876883\n",
       "           ...    \n",
       "24437    176427668\n",
       "24438     48969913\n",
       "24439     97089616\n",
       "24440     87038369\n",
       "24441    186829438\n",
       "Name: CUS_CUST_ID_BUY, Length: 24442, dtype: int64>"
      ]
     },
     "execution_count": 135,
     "metadata": {},
     "output_type": "execute_result"
    }
   ],
   "source": [
    "MarketPlace_data.CUS_CUST_ID_BUY.unique"
   ]
  },
  {
   "cell_type": "code",
   "execution_count": 136,
   "id": "naughty-mason",
   "metadata": {},
   "outputs": [
    {
     "data": {
      "text/plain": [
       "2019-05-15    742\n",
       "2019-05-31    699\n",
       "2019-05-13    672\n",
       "2019-05-30    663\n",
       "2019-05-14    654\n",
       "             ... \n",
       "2018-12-31     16\n",
       "2018-12-23     15\n",
       "2019-01-01     13\n",
       "2018-12-30     12\n",
       "2018-12-25      6\n",
       "Name: RECENCY_ML, Length: 183, dtype: int64"
      ]
     },
     "execution_count": 136,
     "metadata": {},
     "output_type": "execute_result"
    }
   ],
   "source": [
    "MarketPlace_data.RECENCY_ML.value_counts()"
   ]
  },
  {
   "cell_type": "code",
   "execution_count": 137,
   "id": "specified-correlation",
   "metadata": {},
   "outputs": [],
   "source": [
    "MarketPlace_data['RECENCY_ML_DAY'] = pd.DatetimeIndex(MarketPlace_data['RECENCY_ML']).day\n",
    "MarketPlace_data['RECENCY_ML_MONTH'] = pd.DatetimeIndex(MarketPlace_data['RECENCY_ML']).month\n",
    "MarketPlace_data['RECENCY_ML_YEAR'] = pd.DatetimeIndex(MarketPlace_data['RECENCY_ML']).year"
   ]
  },
  {
   "cell_type": "code",
   "execution_count": 138,
   "id": "blank-symposium",
   "metadata": {},
   "outputs": [
    {
     "data": {
      "text/html": [
       "<div>\n",
       "<style scoped>\n",
       "    .dataframe tbody tr th:only-of-type {\n",
       "        vertical-align: middle;\n",
       "    }\n",
       "\n",
       "    .dataframe tbody tr th {\n",
       "        vertical-align: top;\n",
       "    }\n",
       "\n",
       "    .dataframe thead th {\n",
       "        text-align: right;\n",
       "    }\n",
       "</style>\n",
       "<table border=\"1\" class=\"dataframe\">\n",
       "  <thead>\n",
       "    <tr style=\"text-align: right;\">\n",
       "      <th></th>\n",
       "      <th>CUS_CUST_ID_BUY</th>\n",
       "      <th>SPENT_ML</th>\n",
       "      <th>RECENCY_ML</th>\n",
       "      <th>FREQUENCY_ML</th>\n",
       "      <th>RECENCY_ML_DAY</th>\n",
       "      <th>RECENCY_ML_MONTH</th>\n",
       "      <th>RECENCY_ML_YEAR</th>\n",
       "    </tr>\n",
       "  </thead>\n",
       "  <tbody>\n",
       "    <tr>\n",
       "      <th>0</th>\n",
       "      <td>53621056</td>\n",
       "      <td>71.51</td>\n",
       "      <td>2019-03-30</td>\n",
       "      <td>1</td>\n",
       "      <td>30</td>\n",
       "      <td>3</td>\n",
       "      <td>2019</td>\n",
       "    </tr>\n",
       "    <tr>\n",
       "      <th>1</th>\n",
       "      <td>308208758</td>\n",
       "      <td>269.20</td>\n",
       "      <td>2019-05-30</td>\n",
       "      <td>11</td>\n",
       "      <td>30</td>\n",
       "      <td>5</td>\n",
       "      <td>2019</td>\n",
       "    </tr>\n",
       "    <tr>\n",
       "      <th>2</th>\n",
       "      <td>30591970</td>\n",
       "      <td>149.22</td>\n",
       "      <td>2019-03-24</td>\n",
       "      <td>4</td>\n",
       "      <td>24</td>\n",
       "      <td>3</td>\n",
       "      <td>2019</td>\n",
       "    </tr>\n",
       "    <tr>\n",
       "      <th>3</th>\n",
       "      <td>343783095</td>\n",
       "      <td>352.15</td>\n",
       "      <td>2019-05-31</td>\n",
       "      <td>11</td>\n",
       "      <td>31</td>\n",
       "      <td>5</td>\n",
       "      <td>2019</td>\n",
       "    </tr>\n",
       "    <tr>\n",
       "      <th>4</th>\n",
       "      <td>163876883</td>\n",
       "      <td>1.10</td>\n",
       "      <td>2019-05-10</td>\n",
       "      <td>1</td>\n",
       "      <td>10</td>\n",
       "      <td>5</td>\n",
       "      <td>2019</td>\n",
       "    </tr>\n",
       "    <tr>\n",
       "      <th>...</th>\n",
       "      <td>...</td>\n",
       "      <td>...</td>\n",
       "      <td>...</td>\n",
       "      <td>...</td>\n",
       "      <td>...</td>\n",
       "      <td>...</td>\n",
       "      <td>...</td>\n",
       "    </tr>\n",
       "    <tr>\n",
       "      <th>24437</th>\n",
       "      <td>176427668</td>\n",
       "      <td>13.28</td>\n",
       "      <td>2019-05-09</td>\n",
       "      <td>1</td>\n",
       "      <td>9</td>\n",
       "      <td>5</td>\n",
       "      <td>2019</td>\n",
       "    </tr>\n",
       "    <tr>\n",
       "      <th>24438</th>\n",
       "      <td>48969913</td>\n",
       "      <td>1107.82</td>\n",
       "      <td>2019-04-24</td>\n",
       "      <td>9</td>\n",
       "      <td>24</td>\n",
       "      <td>4</td>\n",
       "      <td>2019</td>\n",
       "    </tr>\n",
       "    <tr>\n",
       "      <th>24439</th>\n",
       "      <td>97089616</td>\n",
       "      <td>250.63</td>\n",
       "      <td>2019-05-16</td>\n",
       "      <td>3</td>\n",
       "      <td>16</td>\n",
       "      <td>5</td>\n",
       "      <td>2019</td>\n",
       "    </tr>\n",
       "    <tr>\n",
       "      <th>24440</th>\n",
       "      <td>87038369</td>\n",
       "      <td>110.39</td>\n",
       "      <td>2019-04-10</td>\n",
       "      <td>2</td>\n",
       "      <td>10</td>\n",
       "      <td>4</td>\n",
       "      <td>2019</td>\n",
       "    </tr>\n",
       "    <tr>\n",
       "      <th>24441</th>\n",
       "      <td>186829438</td>\n",
       "      <td>4.53</td>\n",
       "      <td>2019-01-17</td>\n",
       "      <td>1</td>\n",
       "      <td>17</td>\n",
       "      <td>1</td>\n",
       "      <td>2019</td>\n",
       "    </tr>\n",
       "  </tbody>\n",
       "</table>\n",
       "<p>24442 rows × 7 columns</p>\n",
       "</div>"
      ],
      "text/plain": [
       "       CUS_CUST_ID_BUY  SPENT_ML  RECENCY_ML  FREQUENCY_ML  RECENCY_ML_DAY  \\\n",
       "0             53621056     71.51  2019-03-30             1              30   \n",
       "1            308208758    269.20  2019-05-30            11              30   \n",
       "2             30591970    149.22  2019-03-24             4              24   \n",
       "3            343783095    352.15  2019-05-31            11              31   \n",
       "4            163876883      1.10  2019-05-10             1              10   \n",
       "...                ...       ...         ...           ...             ...   \n",
       "24437        176427668     13.28  2019-05-09             1               9   \n",
       "24438         48969913   1107.82  2019-04-24             9              24   \n",
       "24439         97089616    250.63  2019-05-16             3              16   \n",
       "24440         87038369    110.39  2019-04-10             2              10   \n",
       "24441        186829438      4.53  2019-01-17             1              17   \n",
       "\n",
       "       RECENCY_ML_MONTH  RECENCY_ML_YEAR  \n",
       "0                     3             2019  \n",
       "1                     5             2019  \n",
       "2                     3             2019  \n",
       "3                     5             2019  \n",
       "4                     5             2019  \n",
       "...                 ...              ...  \n",
       "24437                 5             2019  \n",
       "24438                 4             2019  \n",
       "24439                 5             2019  \n",
       "24440                 4             2019  \n",
       "24441                 1             2019  \n",
       "\n",
       "[24442 rows x 7 columns]"
      ]
     },
     "execution_count": 138,
     "metadata": {},
     "output_type": "execute_result"
    }
   ],
   "source": [
    "MarketPlace_data"
   ]
  },
  {
   "cell_type": "code",
   "execution_count": 139,
   "id": "imposed-rebecca",
   "metadata": {},
   "outputs": [],
   "source": [
    "Final_Data = Final_Data.merge(MarketPlace_data,on = 'CUS_CUST_ID_BUY', how = 'outer')"
   ]
  },
  {
   "cell_type": "code",
   "execution_count": 140,
   "id": "effective-struggle",
   "metadata": {},
   "outputs": [],
   "source": [
    "Final_Data.SPENT_ML.fillna(0,inplace = True)"
   ]
  },
  {
   "cell_type": "code",
   "execution_count": 141,
   "id": "hollow-intention",
   "metadata": {},
   "outputs": [],
   "source": [
    "Final_Data.RECENCY_ML.fillna('never',inplace = True)"
   ]
  },
  {
   "cell_type": "code",
   "execution_count": 142,
   "id": "quick-serve",
   "metadata": {},
   "outputs": [
    {
     "data": {
      "text/html": [
       "<div>\n",
       "<style scoped>\n",
       "    .dataframe tbody tr th:only-of-type {\n",
       "        vertical-align: middle;\n",
       "    }\n",
       "\n",
       "    .dataframe tbody tr th {\n",
       "        vertical-align: top;\n",
       "    }\n",
       "\n",
       "    .dataframe thead th {\n",
       "        text-align: right;\n",
       "    }\n",
       "</style>\n",
       "<table border=\"1\" class=\"dataframe\">\n",
       "  <thead>\n",
       "    <tr style=\"text-align: right;\">\n",
       "      <th></th>\n",
       "      <th>CUS_CUST_ID_BUY</th>\n",
       "      <th>GENDER</th>\n",
       "      <th>TARJETAS</th>\n",
       "      <th>ESTADO</th>\n",
       "      <th>CITY</th>\n",
       "      <th>Rango_edad</th>\n",
       "      <th>1_trans</th>\n",
       "      <th>3_trans</th>\n",
       "      <th>4_trans</th>\n",
       "      <th>6_trans</th>\n",
       "      <th>...</th>\n",
       "      <th>last_mp_day</th>\n",
       "      <th>PLATA_CUENTA_1</th>\n",
       "      <th>PLATA_CUENTA_2</th>\n",
       "      <th>INVERSION</th>\n",
       "      <th>SPENT_ML</th>\n",
       "      <th>RECENCY_ML</th>\n",
       "      <th>FREQUENCY_ML</th>\n",
       "      <th>RECENCY_ML_DAY</th>\n",
       "      <th>RECENCY_ML_MONTH</th>\n",
       "      <th>RECENCY_ML_YEAR</th>\n",
       "    </tr>\n",
       "  </thead>\n",
       "  <tbody>\n",
       "    <tr>\n",
       "      <th>0</th>\n",
       "      <td>47629682</td>\n",
       "      <td>male</td>\n",
       "      <td>Credit Card</td>\n",
       "      <td>capital federal</td>\n",
       "      <td>caba</td>\n",
       "      <td>26-30</td>\n",
       "      <td>0</td>\n",
       "      <td>0</td>\n",
       "      <td>2</td>\n",
       "      <td>1</td>\n",
       "      <td>...</td>\n",
       "      <td>9</td>\n",
       "      <td>0.00</td>\n",
       "      <td>0.00</td>\n",
       "      <td>eligible</td>\n",
       "      <td>165.98</td>\n",
       "      <td>2018-12-28</td>\n",
       "      <td>2.0</td>\n",
       "      <td>28.0</td>\n",
       "      <td>12.0</td>\n",
       "      <td>2018.0</td>\n",
       "    </tr>\n",
       "    <tr>\n",
       "      <th>1</th>\n",
       "      <td>184288617</td>\n",
       "      <td>male</td>\n",
       "      <td>Account Money</td>\n",
       "      <td>buenos aires</td>\n",
       "      <td>belen de escobar</td>\n",
       "      <td>26-30</td>\n",
       "      <td>5</td>\n",
       "      <td>3</td>\n",
       "      <td>1</td>\n",
       "      <td>0</td>\n",
       "      <td>...</td>\n",
       "      <td>30</td>\n",
       "      <td>164.29</td>\n",
       "      <td>364.29</td>\n",
       "      <td>pending</td>\n",
       "      <td>4.70</td>\n",
       "      <td>2019-03-27</td>\n",
       "      <td>1.0</td>\n",
       "      <td>27.0</td>\n",
       "      <td>3.0</td>\n",
       "      <td>2019.0</td>\n",
       "    </tr>\n",
       "    <tr>\n",
       "      <th>2</th>\n",
       "      <td>134359455</td>\n",
       "      <td>female</td>\n",
       "      <td>Debit Card</td>\n",
       "      <td>catamarca</td>\n",
       "      <td>san fernando del valle de catamarca</td>\n",
       "      <td>26-30</td>\n",
       "      <td>0</td>\n",
       "      <td>3</td>\n",
       "      <td>0</td>\n",
       "      <td>0</td>\n",
       "      <td>...</td>\n",
       "      <td>28</td>\n",
       "      <td>1128.53</td>\n",
       "      <td>1510.54</td>\n",
       "      <td>investing</td>\n",
       "      <td>401.04</td>\n",
       "      <td>2019-05-26</td>\n",
       "      <td>11.0</td>\n",
       "      <td>26.0</td>\n",
       "      <td>5.0</td>\n",
       "      <td>2019.0</td>\n",
       "    </tr>\n",
       "    <tr>\n",
       "      <th>3</th>\n",
       "      <td>126256149</td>\n",
       "      <td>female</td>\n",
       "      <td>Account Money</td>\n",
       "      <td>buenos aires</td>\n",
       "      <td>lomas de zamora</td>\n",
       "      <td>56-65</td>\n",
       "      <td>0</td>\n",
       "      <td>0</td>\n",
       "      <td>0</td>\n",
       "      <td>1</td>\n",
       "      <td>...</td>\n",
       "      <td>29</td>\n",
       "      <td>87.77</td>\n",
       "      <td>4.59</td>\n",
       "      <td>warmup</td>\n",
       "      <td>0.00</td>\n",
       "      <td>never</td>\n",
       "      <td>NaN</td>\n",
       "      <td>NaN</td>\n",
       "      <td>NaN</td>\n",
       "      <td>NaN</td>\n",
       "    </tr>\n",
       "    <tr>\n",
       "      <th>4</th>\n",
       "      <td>447582139</td>\n",
       "      <td>male</td>\n",
       "      <td>Debit Card</td>\n",
       "      <td>rio negro</td>\n",
       "      <td>villa manzano</td>\n",
       "      <td>18-25</td>\n",
       "      <td>0</td>\n",
       "      <td>0</td>\n",
       "      <td>0</td>\n",
       "      <td>2</td>\n",
       "      <td>...</td>\n",
       "      <td>31</td>\n",
       "      <td>0.00</td>\n",
       "      <td>0.00</td>\n",
       "      <td>eligible</td>\n",
       "      <td>0.00</td>\n",
       "      <td>never</td>\n",
       "      <td>NaN</td>\n",
       "      <td>NaN</td>\n",
       "      <td>NaN</td>\n",
       "      <td>NaN</td>\n",
       "    </tr>\n",
       "    <tr>\n",
       "      <th>...</th>\n",
       "      <td>...</td>\n",
       "      <td>...</td>\n",
       "      <td>...</td>\n",
       "      <td>...</td>\n",
       "      <td>...</td>\n",
       "      <td>...</td>\n",
       "      <td>...</td>\n",
       "      <td>...</td>\n",
       "      <td>...</td>\n",
       "      <td>...</td>\n",
       "      <td>...</td>\n",
       "      <td>...</td>\n",
       "      <td>...</td>\n",
       "      <td>...</td>\n",
       "      <td>...</td>\n",
       "      <td>...</td>\n",
       "      <td>...</td>\n",
       "      <td>...</td>\n",
       "      <td>...</td>\n",
       "      <td>...</td>\n",
       "      <td>...</td>\n",
       "    </tr>\n",
       "    <tr>\n",
       "      <th>43497</th>\n",
       "      <td>448290283</td>\n",
       "      <td>Unknown</td>\n",
       "      <td>Unknown</td>\n",
       "      <td>Unknown</td>\n",
       "      <td>Unknown</td>\n",
       "      <td>Unknown</td>\n",
       "      <td>0</td>\n",
       "      <td>0</td>\n",
       "      <td>0</td>\n",
       "      <td>1</td>\n",
       "      <td>...</td>\n",
       "      <td>31</td>\n",
       "      <td>0.00</td>\n",
       "      <td>0.00</td>\n",
       "      <td>eligible</td>\n",
       "      <td>0.00</td>\n",
       "      <td>never</td>\n",
       "      <td>NaN</td>\n",
       "      <td>NaN</td>\n",
       "      <td>NaN</td>\n",
       "      <td>NaN</td>\n",
       "    </tr>\n",
       "    <tr>\n",
       "      <th>43498</th>\n",
       "      <td>448313152</td>\n",
       "      <td>Unknown</td>\n",
       "      <td>Unknown</td>\n",
       "      <td>Unknown</td>\n",
       "      <td>Unknown</td>\n",
       "      <td>Unknown</td>\n",
       "      <td>0</td>\n",
       "      <td>0</td>\n",
       "      <td>0</td>\n",
       "      <td>1</td>\n",
       "      <td>...</td>\n",
       "      <td>31</td>\n",
       "      <td>0.00</td>\n",
       "      <td>0.00</td>\n",
       "      <td>eligible</td>\n",
       "      <td>0.00</td>\n",
       "      <td>never</td>\n",
       "      <td>NaN</td>\n",
       "      <td>NaN</td>\n",
       "      <td>NaN</td>\n",
       "      <td>NaN</td>\n",
       "    </tr>\n",
       "    <tr>\n",
       "      <th>43499</th>\n",
       "      <td>448326912</td>\n",
       "      <td>Unknown</td>\n",
       "      <td>Unknown</td>\n",
       "      <td>Unknown</td>\n",
       "      <td>Unknown</td>\n",
       "      <td>Unknown</td>\n",
       "      <td>0</td>\n",
       "      <td>0</td>\n",
       "      <td>0</td>\n",
       "      <td>1</td>\n",
       "      <td>...</td>\n",
       "      <td>31</td>\n",
       "      <td>0.00</td>\n",
       "      <td>0.00</td>\n",
       "      <td>eligible</td>\n",
       "      <td>0.00</td>\n",
       "      <td>never</td>\n",
       "      <td>NaN</td>\n",
       "      <td>NaN</td>\n",
       "      <td>NaN</td>\n",
       "      <td>NaN</td>\n",
       "    </tr>\n",
       "    <tr>\n",
       "      <th>43500</th>\n",
       "      <td>448330186</td>\n",
       "      <td>Unknown</td>\n",
       "      <td>Unknown</td>\n",
       "      <td>Unknown</td>\n",
       "      <td>Unknown</td>\n",
       "      <td>Unknown</td>\n",
       "      <td>0</td>\n",
       "      <td>0</td>\n",
       "      <td>0</td>\n",
       "      <td>1</td>\n",
       "      <td>...</td>\n",
       "      <td>31</td>\n",
       "      <td>0.00</td>\n",
       "      <td>0.00</td>\n",
       "      <td>eligible</td>\n",
       "      <td>0.00</td>\n",
       "      <td>never</td>\n",
       "      <td>NaN</td>\n",
       "      <td>NaN</td>\n",
       "      <td>NaN</td>\n",
       "      <td>NaN</td>\n",
       "    </tr>\n",
       "    <tr>\n",
       "      <th>43501</th>\n",
       "      <td>448374921</td>\n",
       "      <td>Unknown</td>\n",
       "      <td>Unknown</td>\n",
       "      <td>Unknown</td>\n",
       "      <td>Unknown</td>\n",
       "      <td>Unknown</td>\n",
       "      <td>0</td>\n",
       "      <td>0</td>\n",
       "      <td>0</td>\n",
       "      <td>1</td>\n",
       "      <td>...</td>\n",
       "      <td>31</td>\n",
       "      <td>0.00</td>\n",
       "      <td>0.00</td>\n",
       "      <td>eligible</td>\n",
       "      <td>0.00</td>\n",
       "      <td>never</td>\n",
       "      <td>NaN</td>\n",
       "      <td>NaN</td>\n",
       "      <td>NaN</td>\n",
       "      <td>NaN</td>\n",
       "    </tr>\n",
       "  </tbody>\n",
       "</table>\n",
       "<p>43502 rows × 44 columns</p>\n",
       "</div>"
      ],
      "text/plain": [
       "       CUS_CUST_ID_BUY   GENDER       TARJETAS           ESTADO  \\\n",
       "0             47629682     male    Credit Card  capital federal   \n",
       "1            184288617     male  Account Money     buenos aires   \n",
       "2            134359455   female     Debit Card        catamarca   \n",
       "3            126256149   female  Account Money     buenos aires   \n",
       "4            447582139     male     Debit Card        rio negro   \n",
       "...                ...      ...            ...              ...   \n",
       "43497        448290283  Unknown        Unknown          Unknown   \n",
       "43498        448313152  Unknown        Unknown          Unknown   \n",
       "43499        448326912  Unknown        Unknown          Unknown   \n",
       "43500        448330186  Unknown        Unknown          Unknown   \n",
       "43501        448374921  Unknown        Unknown          Unknown   \n",
       "\n",
       "                                      CITY Rango_edad  1_trans  3_trans  \\\n",
       "0                                     caba      26-30        0        0   \n",
       "1                         belen de escobar      26-30        5        3   \n",
       "2      san fernando del valle de catamarca      26-30        0        3   \n",
       "3                          lomas de zamora      56-65        0        0   \n",
       "4                            villa manzano      18-25        0        0   \n",
       "...                                    ...        ...      ...      ...   \n",
       "43497                              Unknown    Unknown        0        0   \n",
       "43498                              Unknown    Unknown        0        0   \n",
       "43499                              Unknown    Unknown        0        0   \n",
       "43500                              Unknown    Unknown        0        0   \n",
       "43501                              Unknown    Unknown        0        0   \n",
       "\n",
       "       4_trans  6_trans  ...  last_mp_day  PLATA_CUENTA_1  PLATA_CUENTA_2  \\\n",
       "0            2        1  ...            9            0.00            0.00   \n",
       "1            1        0  ...           30          164.29          364.29   \n",
       "2            0        0  ...           28         1128.53         1510.54   \n",
       "3            0        1  ...           29           87.77            4.59   \n",
       "4            0        2  ...           31            0.00            0.00   \n",
       "...        ...      ...  ...          ...             ...             ...   \n",
       "43497        0        1  ...           31            0.00            0.00   \n",
       "43498        0        1  ...           31            0.00            0.00   \n",
       "43499        0        1  ...           31            0.00            0.00   \n",
       "43500        0        1  ...           31            0.00            0.00   \n",
       "43501        0        1  ...           31            0.00            0.00   \n",
       "\n",
       "       INVERSION  SPENT_ML  RECENCY_ML  FREQUENCY_ML  RECENCY_ML_DAY  \\\n",
       "0       eligible    165.98  2018-12-28           2.0            28.0   \n",
       "1        pending      4.70  2019-03-27           1.0            27.0   \n",
       "2      investing    401.04  2019-05-26          11.0            26.0   \n",
       "3         warmup      0.00       never           NaN             NaN   \n",
       "4       eligible      0.00       never           NaN             NaN   \n",
       "...          ...       ...         ...           ...             ...   \n",
       "43497   eligible      0.00       never           NaN             NaN   \n",
       "43498   eligible      0.00       never           NaN             NaN   \n",
       "43499   eligible      0.00       never           NaN             NaN   \n",
       "43500   eligible      0.00       never           NaN             NaN   \n",
       "43501   eligible      0.00       never           NaN             NaN   \n",
       "\n",
       "       RECENCY_ML_MONTH  RECENCY_ML_YEAR  \n",
       "0                  12.0           2018.0  \n",
       "1                   3.0           2019.0  \n",
       "2                   5.0           2019.0  \n",
       "3                   NaN              NaN  \n",
       "4                   NaN              NaN  \n",
       "...                 ...              ...  \n",
       "43497               NaN              NaN  \n",
       "43498               NaN              NaN  \n",
       "43499               NaN              NaN  \n",
       "43500               NaN              NaN  \n",
       "43501               NaN              NaN  \n",
       "\n",
       "[43502 rows x 44 columns]"
      ]
     },
     "execution_count": 142,
     "metadata": {},
     "output_type": "execute_result"
    }
   ],
   "source": [
    "Final_Data"
   ]
  },
  {
   "cell_type": "code",
   "execution_count": 143,
   "id": "saving-bronze",
   "metadata": {},
   "outputs": [],
   "source": [
    "Final_Data.fillna(0,inplace = True)"
   ]
  },
  {
   "cell_type": "code",
   "execution_count": 144,
   "id": "dramatic-gibson",
   "metadata": {},
   "outputs": [
    {
     "data": {
      "text/html": [
       "<div>\n",
       "<style scoped>\n",
       "    .dataframe tbody tr th:only-of-type {\n",
       "        vertical-align: middle;\n",
       "    }\n",
       "\n",
       "    .dataframe tbody tr th {\n",
       "        vertical-align: top;\n",
       "    }\n",
       "\n",
       "    .dataframe thead th {\n",
       "        text-align: right;\n",
       "    }\n",
       "</style>\n",
       "<table border=\"1\" class=\"dataframe\">\n",
       "  <thead>\n",
       "    <tr style=\"text-align: right;\">\n",
       "      <th></th>\n",
       "      <th>CUS_CUST_ID_BUY</th>\n",
       "      <th>GENDER</th>\n",
       "      <th>TARJETAS</th>\n",
       "      <th>ESTADO</th>\n",
       "      <th>CITY</th>\n",
       "      <th>Rango_edad</th>\n",
       "      <th>1_trans</th>\n",
       "      <th>3_trans</th>\n",
       "      <th>4_trans</th>\n",
       "      <th>6_trans</th>\n",
       "      <th>...</th>\n",
       "      <th>last_mp_day</th>\n",
       "      <th>PLATA_CUENTA_1</th>\n",
       "      <th>PLATA_CUENTA_2</th>\n",
       "      <th>INVERSION</th>\n",
       "      <th>SPENT_ML</th>\n",
       "      <th>RECENCY_ML</th>\n",
       "      <th>FREQUENCY_ML</th>\n",
       "      <th>RECENCY_ML_DAY</th>\n",
       "      <th>RECENCY_ML_MONTH</th>\n",
       "      <th>RECENCY_ML_YEAR</th>\n",
       "    </tr>\n",
       "  </thead>\n",
       "  <tbody>\n",
       "    <tr>\n",
       "      <th>0</th>\n",
       "      <td>47629682</td>\n",
       "      <td>male</td>\n",
       "      <td>Credit Card</td>\n",
       "      <td>capital federal</td>\n",
       "      <td>caba</td>\n",
       "      <td>26-30</td>\n",
       "      <td>0</td>\n",
       "      <td>0</td>\n",
       "      <td>2</td>\n",
       "      <td>1</td>\n",
       "      <td>...</td>\n",
       "      <td>9</td>\n",
       "      <td>0.00</td>\n",
       "      <td>0.00</td>\n",
       "      <td>eligible</td>\n",
       "      <td>165.98</td>\n",
       "      <td>2018-12-28</td>\n",
       "      <td>2.0</td>\n",
       "      <td>28.0</td>\n",
       "      <td>12.0</td>\n",
       "      <td>2018.0</td>\n",
       "    </tr>\n",
       "    <tr>\n",
       "      <th>1</th>\n",
       "      <td>184288617</td>\n",
       "      <td>male</td>\n",
       "      <td>Account Money</td>\n",
       "      <td>buenos aires</td>\n",
       "      <td>belen de escobar</td>\n",
       "      <td>26-30</td>\n",
       "      <td>5</td>\n",
       "      <td>3</td>\n",
       "      <td>1</td>\n",
       "      <td>0</td>\n",
       "      <td>...</td>\n",
       "      <td>30</td>\n",
       "      <td>164.29</td>\n",
       "      <td>364.29</td>\n",
       "      <td>pending</td>\n",
       "      <td>4.70</td>\n",
       "      <td>2019-03-27</td>\n",
       "      <td>1.0</td>\n",
       "      <td>27.0</td>\n",
       "      <td>3.0</td>\n",
       "      <td>2019.0</td>\n",
       "    </tr>\n",
       "    <tr>\n",
       "      <th>2</th>\n",
       "      <td>134359455</td>\n",
       "      <td>female</td>\n",
       "      <td>Debit Card</td>\n",
       "      <td>catamarca</td>\n",
       "      <td>san fernando del valle de catamarca</td>\n",
       "      <td>26-30</td>\n",
       "      <td>0</td>\n",
       "      <td>3</td>\n",
       "      <td>0</td>\n",
       "      <td>0</td>\n",
       "      <td>...</td>\n",
       "      <td>28</td>\n",
       "      <td>1128.53</td>\n",
       "      <td>1510.54</td>\n",
       "      <td>investing</td>\n",
       "      <td>401.04</td>\n",
       "      <td>2019-05-26</td>\n",
       "      <td>11.0</td>\n",
       "      <td>26.0</td>\n",
       "      <td>5.0</td>\n",
       "      <td>2019.0</td>\n",
       "    </tr>\n",
       "    <tr>\n",
       "      <th>3</th>\n",
       "      <td>126256149</td>\n",
       "      <td>female</td>\n",
       "      <td>Account Money</td>\n",
       "      <td>buenos aires</td>\n",
       "      <td>lomas de zamora</td>\n",
       "      <td>56-65</td>\n",
       "      <td>0</td>\n",
       "      <td>0</td>\n",
       "      <td>0</td>\n",
       "      <td>1</td>\n",
       "      <td>...</td>\n",
       "      <td>29</td>\n",
       "      <td>87.77</td>\n",
       "      <td>4.59</td>\n",
       "      <td>warmup</td>\n",
       "      <td>0.00</td>\n",
       "      <td>never</td>\n",
       "      <td>0.0</td>\n",
       "      <td>0.0</td>\n",
       "      <td>0.0</td>\n",
       "      <td>0.0</td>\n",
       "    </tr>\n",
       "    <tr>\n",
       "      <th>4</th>\n",
       "      <td>447582139</td>\n",
       "      <td>male</td>\n",
       "      <td>Debit Card</td>\n",
       "      <td>rio negro</td>\n",
       "      <td>villa manzano</td>\n",
       "      <td>18-25</td>\n",
       "      <td>0</td>\n",
       "      <td>0</td>\n",
       "      <td>0</td>\n",
       "      <td>2</td>\n",
       "      <td>...</td>\n",
       "      <td>31</td>\n",
       "      <td>0.00</td>\n",
       "      <td>0.00</td>\n",
       "      <td>eligible</td>\n",
       "      <td>0.00</td>\n",
       "      <td>never</td>\n",
       "      <td>0.0</td>\n",
       "      <td>0.0</td>\n",
       "      <td>0.0</td>\n",
       "      <td>0.0</td>\n",
       "    </tr>\n",
       "  </tbody>\n",
       "</table>\n",
       "<p>5 rows × 44 columns</p>\n",
       "</div>"
      ],
      "text/plain": [
       "   CUS_CUST_ID_BUY  GENDER       TARJETAS           ESTADO  \\\n",
       "0         47629682    male    Credit Card  capital federal   \n",
       "1        184288617    male  Account Money     buenos aires   \n",
       "2        134359455  female     Debit Card        catamarca   \n",
       "3        126256149  female  Account Money     buenos aires   \n",
       "4        447582139    male     Debit Card        rio negro   \n",
       "\n",
       "                                  CITY Rango_edad  1_trans  3_trans  4_trans  \\\n",
       "0                                 caba      26-30        0        0        2   \n",
       "1                     belen de escobar      26-30        5        3        1   \n",
       "2  san fernando del valle de catamarca      26-30        0        3        0   \n",
       "3                      lomas de zamora      56-65        0        0        0   \n",
       "4                        villa manzano      18-25        0        0        0   \n",
       "\n",
       "   6_trans  ...  last_mp_day  PLATA_CUENTA_1  PLATA_CUENTA_2  INVERSION  \\\n",
       "0        1  ...            9            0.00            0.00   eligible   \n",
       "1        0  ...           30          164.29          364.29    pending   \n",
       "2        0  ...           28         1128.53         1510.54  investing   \n",
       "3        1  ...           29           87.77            4.59     warmup   \n",
       "4        2  ...           31            0.00            0.00   eligible   \n",
       "\n",
       "   SPENT_ML  RECENCY_ML  FREQUENCY_ML  RECENCY_ML_DAY  RECENCY_ML_MONTH  \\\n",
       "0    165.98  2018-12-28           2.0            28.0              12.0   \n",
       "1      4.70  2019-03-27           1.0            27.0               3.0   \n",
       "2    401.04  2019-05-26          11.0            26.0               5.0   \n",
       "3      0.00       never           0.0             0.0               0.0   \n",
       "4      0.00       never           0.0             0.0               0.0   \n",
       "\n",
       "   RECENCY_ML_YEAR  \n",
       "0           2018.0  \n",
       "1           2019.0  \n",
       "2           2019.0  \n",
       "3              0.0  \n",
       "4              0.0  \n",
       "\n",
       "[5 rows x 44 columns]"
      ]
     },
     "execution_count": 144,
     "metadata": {},
     "output_type": "execute_result"
    }
   ],
   "source": [
    "Final_Data.head(5)"
   ]
  },
  {
   "cell_type": "code",
   "execution_count": 145,
   "id": "regional-stanford",
   "metadata": {},
   "outputs": [
    {
     "data": {
      "text/plain": [
       "Unknown    0.299664\n",
       "41-55      0.218886\n",
       "31-35      0.118500\n",
       "26-30      0.116592\n",
       "36-40      0.099559\n",
       "18-25      0.097605\n",
       "56-65      0.035516\n",
       "0-18       0.013678\n",
       "Name: Rango_edad, dtype: float64"
      ]
     },
     "execution_count": 145,
     "metadata": {},
     "output_type": "execute_result"
    }
   ],
   "source": [
    "Final_Data.Rango_edad.value_counts()/Final_Data.Rango_edad.value_counts().sum()"
   ]
  },
  {
   "cell_type": "code",
   "execution_count": 146,
   "id": "reserved-terrain",
   "metadata": {},
   "outputs": [],
   "source": [
    "Final_Data = Final_Data.merge(Evaluate_data,on = 'CUS_CUST_ID_BUY')"
   ]
  },
  {
   "cell_type": "code",
   "execution_count": 148,
   "id": "republican-today",
   "metadata": {},
   "outputs": [],
   "source": [
    "Final_Data.to_csv('DataVis.csv')"
   ]
  },
  {
   "cell_type": "code",
   "execution_count": null,
   "id": "enclosed-error",
   "metadata": {},
   "outputs": [],
   "source": []
  },
  {
   "cell_type": "code",
   "execution_count": 151,
   "id": "lined-origin",
   "metadata": {},
   "outputs": [],
   "source": [
    "for x in ['TotalSpent', 'PLATA_CUENTA_1', 'PLATA_CUENTA_2', 'SPENT_ML' ,'MAU_MP_3', 'MAU_ML_3', 'MAU_MP_2','MAU_ML_2', 'MAU_MP_1', 'MAU_ML_1']:\n",
    "    Final_Data[x + 'log'] = np.log(Final_Data[x] + 1)"
   ]
  },
  {
   "cell_type": "code",
   "execution_count": 152,
   "id": "refined-russia",
   "metadata": {},
   "outputs": [],
   "source": [
    "for x in ['TotalSpent', 'PLATA_CUENTA_1', 'PLATA_CUENTA_2', 'SPENT_ML' ,'MAU_MP_3', 'MAU_ML_3', 'MAU_MP_2','MAU_ML_2', 'MAU_MP_1', 'MAU_ML_1']:\n",
    "        Final_Data.drop(columns = [x],inplace = True)"
   ]
  },
  {
   "cell_type": "code",
   "execution_count": 155,
   "id": "attached-district",
   "metadata": {},
   "outputs": [
    {
     "data": {
      "text/html": [
       "<div>\n",
       "<style scoped>\n",
       "    .dataframe tbody tr th:only-of-type {\n",
       "        vertical-align: middle;\n",
       "    }\n",
       "\n",
       "    .dataframe tbody tr th {\n",
       "        vertical-align: top;\n",
       "    }\n",
       "\n",
       "    .dataframe thead th {\n",
       "        text-align: right;\n",
       "    }\n",
       "</style>\n",
       "<table border=\"1\" class=\"dataframe\">\n",
       "  <thead>\n",
       "    <tr style=\"text-align: right;\">\n",
       "      <th></th>\n",
       "      <th>CUS_CUST_ID_BUY</th>\n",
       "      <th>GENDER</th>\n",
       "      <th>TARJETAS</th>\n",
       "      <th>ESTADO</th>\n",
       "      <th>CITY</th>\n",
       "      <th>Rango_edad</th>\n",
       "      <th>1_trans</th>\n",
       "      <th>3_trans</th>\n",
       "      <th>4_trans</th>\n",
       "      <th>6_trans</th>\n",
       "      <th>...</th>\n",
       "      <th>TotalSpentlog</th>\n",
       "      <th>PLATA_CUENTA_1log</th>\n",
       "      <th>PLATA_CUENTA_2log</th>\n",
       "      <th>SPENT_MLlog</th>\n",
       "      <th>MAU_MP_3log</th>\n",
       "      <th>MAU_ML_3log</th>\n",
       "      <th>MAU_MP_2log</th>\n",
       "      <th>MAU_ML_2log</th>\n",
       "      <th>MAU_MP_1log</th>\n",
       "      <th>MAU_ML_1log</th>\n",
       "    </tr>\n",
       "  </thead>\n",
       "  <tbody>\n",
       "    <tr>\n",
       "      <th>0</th>\n",
       "      <td>47629682</td>\n",
       "      <td>male</td>\n",
       "      <td>Credit Card</td>\n",
       "      <td>capital federal</td>\n",
       "      <td>caba</td>\n",
       "      <td>26-30</td>\n",
       "      <td>0</td>\n",
       "      <td>0</td>\n",
       "      <td>2</td>\n",
       "      <td>1</td>\n",
       "      <td>...</td>\n",
       "      <td>3.546036</td>\n",
       "      <td>0.000000</td>\n",
       "      <td>0.000000</td>\n",
       "      <td>5.117874</td>\n",
       "      <td>0.000000</td>\n",
       "      <td>0.693147</td>\n",
       "      <td>1.098612</td>\n",
       "      <td>2.079442</td>\n",
       "      <td>0.693147</td>\n",
       "      <td>1.791759</td>\n",
       "    </tr>\n",
       "    <tr>\n",
       "      <th>1</th>\n",
       "      <td>184288617</td>\n",
       "      <td>male</td>\n",
       "      <td>Account Money</td>\n",
       "      <td>buenos aires</td>\n",
       "      <td>belen de escobar</td>\n",
       "      <td>26-30</td>\n",
       "      <td>5</td>\n",
       "      <td>3</td>\n",
       "      <td>1</td>\n",
       "      <td>0</td>\n",
       "      <td>...</td>\n",
       "      <td>5.745769</td>\n",
       "      <td>5.107702</td>\n",
       "      <td>5.900692</td>\n",
       "      <td>1.740466</td>\n",
       "      <td>2.197225</td>\n",
       "      <td>3.178054</td>\n",
       "      <td>2.302585</td>\n",
       "      <td>2.639057</td>\n",
       "      <td>2.197225</td>\n",
       "      <td>2.995732</td>\n",
       "    </tr>\n",
       "    <tr>\n",
       "      <th>2</th>\n",
       "      <td>134359455</td>\n",
       "      <td>female</td>\n",
       "      <td>Debit Card</td>\n",
       "      <td>catamarca</td>\n",
       "      <td>san fernando del valle de catamarca</td>\n",
       "      <td>26-30</td>\n",
       "      <td>0</td>\n",
       "      <td>3</td>\n",
       "      <td>0</td>\n",
       "      <td>0</td>\n",
       "      <td>...</td>\n",
       "      <td>4.729263</td>\n",
       "      <td>7.029557</td>\n",
       "      <td>7.320884</td>\n",
       "      <td>5.996552</td>\n",
       "      <td>1.386294</td>\n",
       "      <td>0.000000</td>\n",
       "      <td>2.302585</td>\n",
       "      <td>0.000000</td>\n",
       "      <td>2.302585</td>\n",
       "      <td>1.791759</td>\n",
       "    </tr>\n",
       "  </tbody>\n",
       "</table>\n",
       "<p>3 rows × 45 columns</p>\n",
       "</div>"
      ],
      "text/plain": [
       "   CUS_CUST_ID_BUY  GENDER       TARJETAS           ESTADO  \\\n",
       "0         47629682    male    Credit Card  capital federal   \n",
       "1        184288617    male  Account Money     buenos aires   \n",
       "2        134359455  female     Debit Card        catamarca   \n",
       "\n",
       "                                  CITY Rango_edad  1_trans  3_trans  4_trans  \\\n",
       "0                                 caba      26-30        0        0        2   \n",
       "1                     belen de escobar      26-30        5        3        1   \n",
       "2  san fernando del valle de catamarca      26-30        0        3        0   \n",
       "\n",
       "   6_trans  ...  TotalSpentlog  PLATA_CUENTA_1log  PLATA_CUENTA_2log  \\\n",
       "0        1  ...       3.546036           0.000000           0.000000   \n",
       "1        0  ...       5.745769           5.107702           5.900692   \n",
       "2        0  ...       4.729263           7.029557           7.320884   \n",
       "\n",
       "   SPENT_MLlog  MAU_MP_3log  MAU_ML_3log  MAU_MP_2log  MAU_ML_2log  \\\n",
       "0     5.117874     0.000000     0.693147     1.098612     2.079442   \n",
       "1     1.740466     2.197225     3.178054     2.302585     2.639057   \n",
       "2     5.996552     1.386294     0.000000     2.302585     0.000000   \n",
       "\n",
       "   MAU_MP_1log  MAU_ML_1log  \n",
       "0     0.693147     1.791759  \n",
       "1     2.197225     2.995732  \n",
       "2     2.302585     1.791759  \n",
       "\n",
       "[3 rows x 45 columns]"
      ]
     },
     "execution_count": 155,
     "metadata": {},
     "output_type": "execute_result"
    }
   ],
   "source": [
    "Final_Data.head(3)"
   ]
  },
  {
   "cell_type": "code",
   "execution_count": 162,
   "id": "novel-stanley",
   "metadata": {},
   "outputs": [],
   "source": [
    "Final_Data.drop(columns = ['last_login_mp_date_1','last_login_ml_date_1','RECENCY_ML'],inplace = True)"
   ]
  },
  {
   "cell_type": "code",
   "execution_count": 163,
   "id": "restricted-newsletter",
   "metadata": {},
   "outputs": [
    {
     "data": {
      "text/plain": [
       "Index(['CUS_CUST_ID_BUY', 'GENDER', 'TARJETAS', 'ESTADO', 'CITY', 'Rango_edad',\n",
       "       '1_trans', '3_trans', '4_trans', '6_trans', '2_trans', '5_trans',\n",
       "       '7_trans', 'total_transactions', 'Discount_Mean', 'sell_id_251693291',\n",
       "       'sell_id_254303242', 'sell_id_295153733', 'sell_id_226295793',\n",
       "       'Cellphone Recharge', 'Transport', 'Instore', 'Utilities',\n",
       "       'Money Transfer', 'last_ml_day', 'last_mp_day', 'INVERSION',\n",
       "       'FREQUENCY_ML', 'RECENCY_ML_DAY', 'RECENCY_ML_MONTH', 'RECENCY_ML_YEAR',\n",
       "       'churn', 'TotalSpentlog', 'PLATA_CUENTA_1log', 'PLATA_CUENTA_2log',\n",
       "       'SPENT_MLlog', 'MAU_MP_3log', 'MAU_ML_3log', 'MAU_MP_2log',\n",
       "       'MAU_ML_2log', 'MAU_MP_1log', 'MAU_ML_1log'],\n",
       "      dtype='object')"
      ]
     },
     "execution_count": 163,
     "metadata": {},
     "output_type": "execute_result"
    }
   ],
   "source": [
    "Final_Data.columns"
   ]
  },
  {
   "cell_type": "code",
   "execution_count": 172,
   "id": "everyday-apache",
   "metadata": {},
   "outputs": [],
   "source": [
    "cat_vars = ['GENDER', 'TARJETAS', 'ESTADO', 'CITY', 'Rango_edad','last_ml_day', 'last_mp_day', 'INVERSION','RECENCY_ML_DAY','RECENCY_ML_MONTH', 'RECENCY_ML_YEAR']"
   ]
  },
  {
   "cell_type": "code",
   "execution_count": 173,
   "id": "rough-donor",
   "metadata": {},
   "outputs": [],
   "source": [
    "contin_vars = ['1_trans', '3_trans', '4_trans', '6_trans', '2_trans', '5_trans',\n",
    "       '7_trans','total_transactions', 'Discount_Mean', 'sell_id_251693291',\n",
    "       'sell_id_254303242', 'sell_id_295153733', 'sell_id_226295793',\n",
    "       'Cellphone Recharge', 'Transport', 'Instore', 'Utilities',\n",
    "       'Money Transfer','FREQUENCY_ML','TotalSpentlog', 'PLATA_CUENTA_1log', 'PLATA_CUENTA_2log',\n",
    "       'SPENT_MLlog', 'MAU_MP_3log', 'MAU_ML_3log', 'MAU_MP_2log',\n",
    "       'MAU_ML_2log', 'MAU_MP_1log', 'MAU_ML_1log']"
   ]
  },
  {
   "cell_type": "code",
   "execution_count": 167,
   "id": "banner-entrance",
   "metadata": {},
   "outputs": [
    {
     "data": {
      "text/plain": [
       "11"
      ]
     },
     "execution_count": 167,
     "metadata": {},
     "output_type": "execute_result"
    }
   ],
   "source": [
    "len(cat_vars)"
   ]
  },
  {
   "cell_type": "code",
   "execution_count": 168,
   "id": "improved-allocation",
   "metadata": {},
   "outputs": [
    {
     "data": {
      "text/plain": [
       "29"
      ]
     },
     "execution_count": 168,
     "metadata": {},
     "output_type": "execute_result"
    }
   ],
   "source": [
    "len(contin_vars)"
   ]
  },
  {
   "cell_type": "code",
   "execution_count": 169,
   "id": "found-footage",
   "metadata": {},
   "outputs": [
    {
     "data": {
      "text/plain": [
       "40"
      ]
     },
     "execution_count": 169,
     "metadata": {},
     "output_type": "execute_result"
    }
   ],
   "source": [
    "29 + 11"
   ]
  },
  {
   "cell_type": "code",
   "execution_count": 171,
   "id": "innocent-valentine",
   "metadata": {},
   "outputs": [
    {
     "data": {
      "text/plain": [
       "42"
      ]
     },
     "execution_count": 171,
     "metadata": {},
     "output_type": "execute_result"
    }
   ],
   "source": [
    "len(Final_Data.columns)"
   ]
  },
  {
   "cell_type": "code",
   "execution_count": 175,
   "id": "automotive-scheme",
   "metadata": {},
   "outputs": [],
   "source": [
    "from sklearn_pandas import DataFrameMapper\n",
    "from sklearn.preprocessing import LabelEncoder,StandardScaler\n",
    "\n",
    "cat_maps = [(o, LabelEncoder()) for o in cat_vars]\n",
    "contin_maps = [([o], StandardScaler()) for o in contin_vars]   \n",
    "\n",
    "mapper_cat = DataFrameMapper(cat_maps)\n",
    "Final_Data[cat_vars] = mapper_cat.fit_transform(Final_Data)\n",
    "\n",
    "mapper_cont = DataFrameMapper(contin_maps)\n",
    "Final_Data[contin_vars] = mapper_cont.fit_transform(Final_Data)"
   ]
  },
  {
   "cell_type": "code",
   "execution_count": 177,
   "id": "substantial-bookmark",
   "metadata": {},
   "outputs": [],
   "source": [
    "Final_Data.to_csv('Data_Model.csv')"
   ]
  }
 ],
 "metadata": {
  "kernelspec": {
   "display_name": "Python 3",
   "language": "python",
   "name": "python3"
  },
  "language_info": {
   "codemirror_mode": {
    "name": "ipython",
    "version": 3
   },
   "file_extension": ".py",
   "mimetype": "text/x-python",
   "name": "python",
   "nbconvert_exporter": "python",
   "pygments_lexer": "ipython3",
   "version": "3.7.10"
  }
 },
 "nbformat": 4,
 "nbformat_minor": 5
}
